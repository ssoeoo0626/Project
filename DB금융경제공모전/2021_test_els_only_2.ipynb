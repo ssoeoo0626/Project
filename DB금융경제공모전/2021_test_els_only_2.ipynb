{
 "cells": [
  {
   "cell_type": "code",
   "execution_count": 1,
   "metadata": {},
   "outputs": [],
   "source": [
    "import warnings\n",
    "warnings.filterwarnings('ignore')\n",
    "\n",
    "import pandas as pd\n",
    "\n",
    "import seaborn as sns\n",
    "\n",
    "import matplotlib.pyplot as plt\n",
    "from matplotlib import rc\n",
    "rc('font', family='NanumGothic')\n",
    "plt.rcParams['axes.unicode_minus'] = False"
   ]
  },
  {
   "cell_type": "markdown",
   "metadata": {},
   "source": [
    "## 데이터셋 : `dataset.csv` $ \\rightarrow $ `X`, `y`"
   ]
  },
  {
   "cell_type": "code",
   "execution_count": 2,
   "metadata": {},
   "outputs": [
    {
     "name": "stdout",
     "output_type": "stream",
     "text": [
      "(1750, 40)\n"
     ]
    },
    {
     "data": {
      "text/plain": [
       "0       2\n",
       "1       2\n",
       "2       2\n",
       "3       2\n",
       "4       2\n",
       "       ..\n",
       "1745    2\n",
       "1746    2\n",
       "1747    2\n",
       "1748    2\n",
       "1749    2\n",
       "Length: 1750, dtype: int8"
      ]
     },
     "execution_count": 2,
     "metadata": {},
     "output_type": "execute_result"
    }
   ],
   "source": [
    "file = 'dataset.csv'\n",
    "\n",
    "dataset = pd.read_csv(file)\n",
    "print(dataset.shape)\n",
    "# dataset.head().transpose()\n",
    "dataset['환매일종가위치'].astype('category').cat.codes"
   ]
  },
  {
   "cell_type": "code",
   "execution_count": 3,
   "metadata": {},
   "outputs": [],
   "source": [
    "cols_drop_info = ['종목코드', '기준가1', '녹인가1', '환매일 종가', '평가기준가']\n",
    "cols_drop_duplicate = ['평가구분', '상환조건달성'] + ['녹인발생차수'] # unique 값이 1개\n",
    "cols_drop_future = ['상환구분', '상환실현차수']\n",
    "\n",
    "cols_drop_dt = ['발행일', '상환일', '평가시작일', '평가종료일', '환매결정일', '녹인발생일']\n",
    "# 데이터 타입 변경\n",
    "for col in cols_drop_dt:\n",
    "    dataset[col] = pd.to_datetime(dataset[col])\n",
    "\n",
    "\n",
    "# 피처로 쓰기 애매함\n",
    "cols_cnt = [\n",
    "    '녹인일수', '녹인일수_전', '영업일수', '상환일수'\n",
    "]\n",
    "\n",
    "cols_feature = ['차수', '기초자산개수', '녹인발생차수_차이']\n",
    "cols_cat = ['환매일종가위치'] # 범주형 변수\n",
    "cols_dummy = ['환매일종가위치_code']\n",
    "dataset['환매일종가위치_code'] = dataset['환매일종가위치'].astype('category').cat.codes.astype(float)\n",
    "cols_pct100 = [\n",
    "    '상환조건(%)', '하한 수준(%)', '상환조건감소량(%)_prev', '상환조건감소량(%)_next',\n",
    "    '환매일 수준(%)', '녹인대비상환수준(%)', '환매대비상환수준(%)', '환매대비상환수준(%)_next'\n",
    "]\n",
    "cols_pct = [\n",
    "    '녹인비율', '녹인비율_전', 'H총증감률', 'H평균증감률', 'H일평균증감률', 'H이전대비증감률', '상환비율'\n",
    "]\n",
    "# 비율 단위 변경\n",
    "for col in cols_pct:\n",
    "    col_new = col+\"(%)\"\n",
    "    dataset[col_new] = dataset[col]*100\n",
    "    cols_pct100.append(col_new)\n",
    "\n",
    "#\n",
    "cols_drop = cols_drop_info + cols_drop_duplicate + cols_drop_future + cols_drop_dt + cols_cat\n"
   ]
  },
  {
   "cell_type": "code",
   "execution_count": 4,
   "metadata": {},
   "outputs": [],
   "source": [
    "features = [\n",
    "'기초자산개수',\n",
    " '녹인발생차수_차이',\n",
    " '상환조건(%)',\n",
    " '상환조건감소량(%)_next',\n",
    " '환매일 수준(%)',\n",
    " '녹인대비상환수준(%)',\n",
    " '환매대비상환수준(%)_next',\n",
    " '녹인비율(%)',\n",
    " '녹인비율_전(%)',\n",
    " 'H총증감률(%)',\n",
    " 'H이전대비증감률(%)',\n",
    " '상환비율(%)'\n",
    " ]"
   ]
  },
  {
   "cell_type": "code",
   "execution_count": 5,
   "metadata": {},
   "outputs": [
    {
     "data": {
      "text/plain": [
       "(266, 48)"
      ]
     },
     "execution_count": 5,
     "metadata": {},
     "output_type": "execute_result"
    }
   ],
   "source": [
    "dataset = dataset[dataset['차수']==5]\n",
    "dataset.shape"
   ]
  },
  {
   "cell_type": "code",
   "execution_count": 6,
   "metadata": {},
   "outputs": [
    {
     "name": "stdout",
     "output_type": "stream",
     "text": [
      "녹인발생차수_차이\n",
      "녹인비율(%)\n",
      "녹인비율_전(%)\n"
     ]
    }
   ],
   "source": [
    "for feature in features:\n",
    "    if len(dataset[feature].unique())==1:\n",
    "        print(feature)"
   ]
  },
  {
   "cell_type": "code",
   "execution_count": 7,
   "metadata": {},
   "outputs": [
    {
     "data": {
      "text/plain": [
       "label\n",
       "1.0    173\n",
       "0.0     93\n",
       "Name: count, dtype: int64"
      ]
     },
     "execution_count": 7,
     "metadata": {},
     "output_type": "execute_result"
    }
   ],
   "source": [
    "dataset['label'].value_counts()"
   ]
  },
  {
   "cell_type": "code",
   "execution_count": 8,
   "metadata": {},
   "outputs": [
    {
     "data": {
      "text/plain": [
       "label\n",
       "0    173\n",
       "1     93\n",
       "Name: count, dtype: int64"
      ]
     },
     "execution_count": 8,
     "metadata": {},
     "output_type": "execute_result"
    }
   ],
   "source": [
    "dataset['label'] = dataset['label'].apply(lambda x: 0 if x==1 else 1)\n",
    "\n",
    "dataset['label'].value_counts()"
   ]
  },
  {
   "cell_type": "code",
   "execution_count": 9,
   "metadata": {},
   "outputs": [
    {
     "data": {
      "text/plain": [
       "((266, 13), (266, 11), (266,))"
      ]
     },
     "execution_count": 9,
     "metadata": {},
     "output_type": "execute_result"
    }
   ],
   "source": [
    "# col_X = cols_feature + cols_pct100\n",
    "col_X = features\n",
    "col_y = 'label'\n",
    "\n",
    "df = dataset[col_X + [col_y]] # train + test(2015)\n",
    "\n",
    "# X = dataset[col_X]\n",
    "X = dataset[col_X].drop(columns=['상환비율(%)'])\n",
    "y = dataset[col_y]\n",
    "\n",
    "df.shape, X.shape, y.shape"
   ]
  },
  {
   "cell_type": "code",
   "execution_count": null,
   "metadata": {},
   "outputs": [],
   "source": []
  },
  {
   "cell_type": "markdown",
   "metadata": {},
   "source": [
    "## 테스트셋 : `dataset_test.csv` $\\rightarrow$ `X_test`, `y_test`"
   ]
  },
  {
   "cell_type": "code",
   "execution_count": 10,
   "metadata": {},
   "outputs": [
    {
     "data": {
      "text/html": [
       "<div>\n",
       "<style scoped>\n",
       "    .dataframe tbody tr th:only-of-type {\n",
       "        vertical-align: middle;\n",
       "    }\n",
       "\n",
       "    .dataframe tbody tr th {\n",
       "        vertical-align: top;\n",
       "    }\n",
       "\n",
       "    .dataframe thead th {\n",
       "        text-align: right;\n",
       "    }\n",
       "</style>\n",
       "<table border=\"1\" class=\"dataframe\">\n",
       "  <thead>\n",
       "    <tr style=\"text-align: right;\">\n",
       "      <th></th>\n",
       "      <th>종목코드</th>\n",
       "      <th>차수</th>\n",
       "      <th>평가종료일</th>\n",
       "      <th>상환조건(%)</th>\n",
       "      <th>평가시작일</th>\n",
       "      <th>환매결정일</th>\n",
       "      <th>발행일</th>\n",
       "      <th>상환일</th>\n",
       "      <th>상환실현차수</th>\n",
       "      <th>녹인발생일</th>\n",
       "      <th>...</th>\n",
       "      <th>상환비율</th>\n",
       "      <th>녹인발생차수</th>\n",
       "      <th>녹인발생차수_차이</th>\n",
       "      <th>상환조건감소량(%)_prev</th>\n",
       "      <th>상환조건감소량(%)_next</th>\n",
       "      <th>녹인대비상환수준(%)</th>\n",
       "      <th>환매일 종가</th>\n",
       "      <th>환매일 수준(%)</th>\n",
       "      <th>환매대비상환수준(%)</th>\n",
       "      <th>환매대비상환수준(%)_next</th>\n",
       "    </tr>\n",
       "  </thead>\n",
       "  <tbody>\n",
       "    <tr>\n",
       "      <th>0</th>\n",
       "      <td>KR6DS0000428</td>\n",
       "      <td>3</td>\n",
       "      <td>2022-07-13</td>\n",
       "      <td>85.0</td>\n",
       "      <td>2022-01-14</td>\n",
       "      <td>2022-06-28</td>\n",
       "      <td>2021-01-18</td>\n",
       "      <td>2024-01-17</td>\n",
       "      <td>6</td>\n",
       "      <td>2022-03-15</td>\n",
       "      <td>...</td>\n",
       "      <td>0.0</td>\n",
       "      <td>3.0</td>\n",
       "      <td>0.0</td>\n",
       "      <td>5.0</td>\n",
       "      <td>0.0</td>\n",
       "      <td>30.0</td>\n",
       "      <td>7893.759766</td>\n",
       "      <td>69.729595</td>\n",
       "      <td>15.270405</td>\n",
       "      <td>15.270405</td>\n",
       "    </tr>\n",
       "    <tr>\n",
       "      <th>1</th>\n",
       "      <td>KR6DS0000428</td>\n",
       "      <td>4</td>\n",
       "      <td>2023-01-13</td>\n",
       "      <td>85.0</td>\n",
       "      <td>2022-07-14</td>\n",
       "      <td>2022-12-29</td>\n",
       "      <td>2021-01-18</td>\n",
       "      <td>2024-01-17</td>\n",
       "      <td>6</td>\n",
       "      <td>2022-03-15</td>\n",
       "      <td>...</td>\n",
       "      <td>0.0</td>\n",
       "      <td>3.0</td>\n",
       "      <td>1.0</td>\n",
       "      <td>-0.0</td>\n",
       "      <td>5.0</td>\n",
       "      <td>25.0</td>\n",
       "      <td>6695.569824</td>\n",
       "      <td>59.145374</td>\n",
       "      <td>25.854626</td>\n",
       "      <td>20.854626</td>\n",
       "    </tr>\n",
       "    <tr>\n",
       "      <th>2</th>\n",
       "      <td>KR6DS0000428</td>\n",
       "      <td>5</td>\n",
       "      <td>2023-07-13</td>\n",
       "      <td>80.0</td>\n",
       "      <td>2023-01-14</td>\n",
       "      <td>2023-06-28</td>\n",
       "      <td>2021-01-18</td>\n",
       "      <td>2024-01-17</td>\n",
       "      <td>6</td>\n",
       "      <td>2022-03-15</td>\n",
       "      <td>...</td>\n",
       "      <td>0.0</td>\n",
       "      <td>3.0</td>\n",
       "      <td>2.0</td>\n",
       "      <td>5.0</td>\n",
       "      <td>5.0</td>\n",
       "      <td>20.0</td>\n",
       "      <td>6521.220215</td>\n",
       "      <td>57.605255</td>\n",
       "      <td>22.394745</td>\n",
       "      <td>17.394745</td>\n",
       "    </tr>\n",
       "    <tr>\n",
       "      <th>3</th>\n",
       "      <td>KR6HN0000H91</td>\n",
       "      <td>3</td>\n",
       "      <td>2022-07-07</td>\n",
       "      <td>85.0</td>\n",
       "      <td>2022-01-08</td>\n",
       "      <td>2022-06-22</td>\n",
       "      <td>2021-01-08</td>\n",
       "      <td>2024-01-09</td>\n",
       "      <td>6</td>\n",
       "      <td>2022-03-09</td>\n",
       "      <td>...</td>\n",
       "      <td>0.0</td>\n",
       "      <td>3.0</td>\n",
       "      <td>0.0</td>\n",
       "      <td>-0.0</td>\n",
       "      <td>5.0</td>\n",
       "      <td>15.0</td>\n",
       "      <td>7335.000000</td>\n",
       "      <td>67.937237</td>\n",
       "      <td>17.062763</td>\n",
       "      <td>12.062763</td>\n",
       "    </tr>\n",
       "    <tr>\n",
       "      <th>4</th>\n",
       "      <td>KR6HN0000H91</td>\n",
       "      <td>4</td>\n",
       "      <td>2023-01-06</td>\n",
       "      <td>80.0</td>\n",
       "      <td>2022-07-08</td>\n",
       "      <td>2022-12-22</td>\n",
       "      <td>2021-01-08</td>\n",
       "      <td>2024-01-09</td>\n",
       "      <td>6</td>\n",
       "      <td>2022-03-09</td>\n",
       "      <td>...</td>\n",
       "      <td>0.0</td>\n",
       "      <td>3.0</td>\n",
       "      <td>1.0</td>\n",
       "      <td>5.0</td>\n",
       "      <td>5.0</td>\n",
       "      <td>10.0</td>\n",
       "      <td>6716.319824</td>\n",
       "      <td>62.206981</td>\n",
       "      <td>17.793019</td>\n",
       "      <td>12.793019</td>\n",
       "    </tr>\n",
       "  </tbody>\n",
       "</table>\n",
       "<p>5 rows × 38 columns</p>\n",
       "</div>"
      ],
      "text/plain": [
       "           종목코드  차수       평가종료일  상환조건(%)       평가시작일       환매결정일         발행일  \\\n",
       "0  KR6DS0000428   3  2022-07-13     85.0  2022-01-14  2022-06-28  2021-01-18   \n",
       "1  KR6DS0000428   4  2023-01-13     85.0  2022-07-14  2022-12-29  2021-01-18   \n",
       "2  KR6DS0000428   5  2023-07-13     80.0  2023-01-14  2023-06-28  2021-01-18   \n",
       "3  KR6HN0000H91   3  2022-07-07     85.0  2022-01-08  2022-06-22  2021-01-08   \n",
       "4  KR6HN0000H91   4  2023-01-06     80.0  2022-07-08  2022-12-22  2021-01-08   \n",
       "\n",
       "          상환일  상환실현차수       녹인발생일  ...  상환비율  녹인발생차수  녹인발생차수_차이  \\\n",
       "0  2024-01-17       6  2022-03-15  ...   0.0     3.0        0.0   \n",
       "1  2024-01-17       6  2022-03-15  ...   0.0     3.0        1.0   \n",
       "2  2024-01-17       6  2022-03-15  ...   0.0     3.0        2.0   \n",
       "3  2024-01-09       6  2022-03-09  ...   0.0     3.0        0.0   \n",
       "4  2024-01-09       6  2022-03-09  ...   0.0     3.0        1.0   \n",
       "\n",
       "   상환조건감소량(%)_prev  상환조건감소량(%)_next  녹인대비상환수준(%)       환매일 종가  환매일 수준(%)  \\\n",
       "0              5.0              0.0         30.0  7893.759766  69.729595   \n",
       "1             -0.0              5.0         25.0  6695.569824  59.145374   \n",
       "2              5.0              5.0         20.0  6521.220215  57.605255   \n",
       "3             -0.0              5.0         15.0  7335.000000  67.937237   \n",
       "4              5.0              5.0         10.0  6716.319824  62.206981   \n",
       "\n",
       "   환매대비상환수준(%)  환매대비상환수준(%)_next  \n",
       "0    15.270405         15.270405  \n",
       "1    25.854626         20.854626  \n",
       "2    22.394745         17.394745  \n",
       "3    17.062763         12.062763  \n",
       "4    17.793019         12.793019  \n",
       "\n",
       "[5 rows x 38 columns]"
      ]
     },
     "execution_count": 10,
     "metadata": {},
     "output_type": "execute_result"
    }
   ],
   "source": [
    "##### test_set import #### \n",
    "import pandas as pd \n",
    "test_data = pd.read_csv('dataset_test.csv')\n",
    "test_data.head()"
   ]
  },
  {
   "cell_type": "code",
   "execution_count": null,
   "metadata": {},
   "outputs": [],
   "source": []
  },
  {
   "cell_type": "code",
   "execution_count": 11,
   "metadata": {},
   "outputs": [],
   "source": [
    "dataset = test_data\n",
    "\n",
    "cols_drop_info = ['종목코드', '기준가1', '녹인가1', '환매일 종가', '평가기준가']\n",
    "cols_drop_duplicate = ['평가구분', '상환조건달성'] + ['녹인발생차수'] # unique 값이 1개\n",
    "cols_drop_future = ['상환구분', '상환실현차수']\n",
    "\n",
    "cols_drop_dt = ['발행일', '상환일', '평가시작일', '평가종료일', '환매결정일', '녹인발생일']\n",
    "# 데이터 타입 변경\n",
    "for col in cols_drop_dt:\n",
    "    dataset[col] = pd.to_datetime(dataset[col])\n",
    "\n",
    "\n",
    "# 피처로 쓰기 애매함\n",
    "cols_cnt = [\n",
    "    '녹인일수', '녹인일수_전', '영업일수', '상환일수'\n",
    "]\n",
    "\n",
    "cols_feature = ['차수', '기초자산개수', '녹인발생차수_차이']\n",
    "cols_cat = ['환매일종가위치'] # 범주형 변수\n",
    "cols_dummy = ['환매일종가위치_code']\n",
    "dataset['환매일종가위치_code'] = dataset['환매일종가위치'].astype('category').cat.codes.astype(float)\n",
    "cols_pct100 = [\n",
    "    '상환조건(%)', '하한 수준(%)', '상환조건감소량(%)_prev', '상환조건감소량(%)_next',\n",
    "    '환매일 수준(%)', '녹인대비상환수준(%)', '환매대비상환수준(%)', '환매대비상환수준(%)_next'\n",
    "]\n",
    "cols_pct = [\n",
    "    '녹인비율', '녹인비율_전', 'H총증감률', 'H평균증감률', 'H일평균증감률', 'H이전대비증감률', '상환비율'\n",
    "]\n",
    "# 비율 단위 변경\n",
    "for col in cols_pct:\n",
    "    col_new = col+\"(%)\"\n",
    "    dataset[col_new] = dataset[col]*100\n",
    "    cols_pct100.append(col_new)\n",
    "\n",
    "#\n",
    "cols_drop = cols_drop_info + cols_drop_duplicate + cols_drop_future + cols_drop_dt + cols_cat\n",
    "\n",
    "test_data = dataset"
   ]
  },
  {
   "cell_type": "code",
   "execution_count": 12,
   "metadata": {},
   "outputs": [
    {
     "data": {
      "text/plain": [
       "(41, 46)"
      ]
     },
     "execution_count": 12,
     "metadata": {},
     "output_type": "execute_result"
    }
   ],
   "source": [
    "test_data = test_data[test_data['차수']==5]\n",
    "test_data.shape"
   ]
  },
  {
   "cell_type": "code",
   "execution_count": 13,
   "metadata": {},
   "outputs": [
    {
     "data": {
      "text/plain": [
       "label\n",
       "1    41\n",
       "Name: count, dtype: int64"
      ]
     },
     "execution_count": 13,
     "metadata": {},
     "output_type": "execute_result"
    }
   ],
   "source": [
    "test_data['label'] = test_data['label'].apply(lambda x: 0 if x==1 else 1)\n",
    "\n",
    "test_data['label'].value_counts()"
   ]
  },
  {
   "cell_type": "code",
   "execution_count": null,
   "metadata": {},
   "outputs": [],
   "source": []
  },
  {
   "cell_type": "code",
   "execution_count": 14,
   "metadata": {},
   "outputs": [
    {
     "data": {
      "text/plain": [
       "((41, 13), (41, 11), (41,))"
      ]
     },
     "execution_count": 14,
     "metadata": {},
     "output_type": "execute_result"
    }
   ],
   "source": [
    "col_X = features\n",
    "col_y = 'label'\n",
    "\n",
    "test = test_data[col_X + [col_y]]\n",
    "\n",
    "# X_test = test_data[col_X]\n",
    "X_test = test_data[col_X].drop(columns=['상환비율(%)'])\n",
    "y_test = test_data[col_y]\n",
    "\n",
    "test.shape, X_test.shape, y_test.shape"
   ]
  },
  {
   "cell_type": "code",
   "execution_count": null,
   "metadata": {},
   "outputs": [],
   "source": []
  },
  {
   "cell_type": "markdown",
   "metadata": {},
   "source": [
    "## 전처리"
   ]
  },
  {
   "cell_type": "markdown",
   "metadata": {},
   "source": [
    "### 데이터셋 분리"
   ]
  },
  {
   "cell_type": "code",
   "execution_count": 15,
   "metadata": {},
   "outputs": [],
   "source": [
    "# train test split\n",
    "\n",
    "from sklearn.model_selection import train_test_split\n",
    "X_train, X_val, y_train, y_val = train_test_split(\n",
    "    X, y, \n",
    "    test_size=0.2, random_state=42, \n",
    "    stratify= y\n",
    ")\n"
   ]
  },
  {
   "cell_type": "markdown",
   "metadata": {},
   "source": [
    "### 스케일링"
   ]
  },
  {
   "cell_type": "code",
   "execution_count": 16,
   "metadata": {},
   "outputs": [],
   "source": [
    "# scaling\n",
    "\n",
    "from sklearn.preprocessing import StandardScaler\n",
    "\n",
    "scaler = StandardScaler()\n",
    "\n",
    "# Fit the scaler to the selected columns and transform them\n",
    "X_train_scaled = scaler.fit_transform(X_train)\n",
    "X_val_scaled = scaler.transform(X_val)\n",
    "X_test_scaled = scaler.transform(X_test)"
   ]
  },
  {
   "cell_type": "markdown",
   "metadata": {},
   "source": [
    "### 샘플링"
   ]
  },
  {
   "cell_type": "code",
   "execution_count": 17,
   "metadata": {},
   "outputs": [],
   "source": [
    "from imblearn.over_sampling import RandomOverSampler, SMOTE\n",
    "\n",
    "# Random Oversampling\n",
    "ros = RandomOverSampler(random_state=42)\n",
    "X_ros, y_ros = ros.fit_resample(X_train_scaled, y_train)\n",
    "\n",
    "# SMOTE\n",
    "smote = SMOTE(random_state=42)\n",
    "X_smote, y_smote = smote.fit_resample(X_train_scaled, y_train)"
   ]
  },
  {
   "cell_type": "code",
   "execution_count": 22,
   "metadata": {},
   "outputs": [
    {
     "data": {
      "text/plain": [
       "((212, 11), (212,))"
      ]
     },
     "execution_count": 22,
     "metadata": {},
     "output_type": "execute_result"
    }
   ],
   "source": [
    "X_train_scaled.shape, y_train.shape"
   ]
  },
  {
   "cell_type": "code",
   "execution_count": 23,
   "metadata": {},
   "outputs": [
    {
     "data": {
      "text/plain": [
       "label\n",
       "0    138\n",
       "1     74\n",
       "Name: count, dtype: int64"
      ]
     },
     "execution_count": 23,
     "metadata": {},
     "output_type": "execute_result"
    }
   ],
   "source": [
    "y_train.value_counts()"
   ]
  },
  {
   "cell_type": "code",
   "execution_count": 18,
   "metadata": {},
   "outputs": [
    {
     "data": {
      "text/plain": [
       "((276, 11), (276,))"
      ]
     },
     "execution_count": 18,
     "metadata": {},
     "output_type": "execute_result"
    }
   ],
   "source": [
    "X_ros.shape, y_ros.shape"
   ]
  },
  {
   "cell_type": "code",
   "execution_count": 19,
   "metadata": {},
   "outputs": [
    {
     "data": {
      "text/plain": [
       "label\n",
       "0    138\n",
       "1    138\n",
       "Name: count, dtype: int64"
      ]
     },
     "execution_count": 19,
     "metadata": {},
     "output_type": "execute_result"
    }
   ],
   "source": [
    "y_ros.value_counts()"
   ]
  },
  {
   "cell_type": "code",
   "execution_count": 20,
   "metadata": {},
   "outputs": [
    {
     "data": {
      "text/plain": [
       "((276, 11), (276,))"
      ]
     },
     "execution_count": 20,
     "metadata": {},
     "output_type": "execute_result"
    }
   ],
   "source": [
    "X_smote.shape, y_smote.shape"
   ]
  },
  {
   "cell_type": "code",
   "execution_count": 21,
   "metadata": {},
   "outputs": [
    {
     "data": {
      "text/plain": [
       "label\n",
       "0    138\n",
       "1    138\n",
       "Name: count, dtype: int64"
      ]
     },
     "execution_count": 21,
     "metadata": {},
     "output_type": "execute_result"
    }
   ],
   "source": [
    "y_smote.value_counts()"
   ]
  },
  {
   "cell_type": "markdown",
   "metadata": {},
   "source": [
    "## 모델링"
   ]
  },
  {
   "cell_type": "code",
   "execution_count": 53,
   "metadata": {},
   "outputs": [],
   "source": [
    "# 분류 모델 성능평가\n",
    "from sklearn.metrics import confusion_matrix\n",
    "from sklearn.metrics import precision_score, recall_score, accuracy_score, f1_score\n",
    "from sklearn.metrics import roc_auc_score\n",
    "\n",
    "def eval(model, x, y):\n",
    "    # 예측\n",
    "    y_pred = model.predict(x)\n",
    "\n",
    "    cf_matrix = confusion_matrix(y, y_pred)\n",
    "    print(cf_matrix)\n",
    "\n",
    "    acc = accuracy_score(y, y_pred)\n",
    "    print(\"Accuracy : %.3f\" % acc)\n",
    "\n",
    "    prec = precision_score(y, y_pred)\n",
    "    print(\"Precision : %.3f\" % prec)\n",
    "\n",
    "    rec = recall_score(y, y_pred)\n",
    "    print(\"Recall : %.3f\" % rec)\n",
    "\n",
    "    f1 = f1_score(y, y_pred)\n",
    "    print(\"F1 : %.3f\" % f1)\n",
    "\n",
    "\n",
    "    y_pred_proba = model.predict_proba(x)[:, 1]\n",
    "    try:\n",
    "        roc_auc = roc_auc_score(y, y_pred_proba)\n",
    "    except:\n",
    "        roc_auc=None\n",
    "    print(\"ROC_AUC :\", roc_auc)\n",
    "\n",
    "    return {\n",
    "        'predicted' : y_pred, \n",
    "        'predicted_proba' : y_pred_proba, \n",
    "        'confusion_matrix' : cf_matrix, \n",
    "        'metrics' : {\n",
    "            'accuracy' : [acc],\n",
    "            'precision' : [prec], \n",
    "            'recall' : [rec],\n",
    "            'f1' : [f1],\n",
    "            'roc_auc' : [roc_auc]\n",
    "        }\n",
    "    }"
   ]
  },
  {
   "cell_type": "code",
   "execution_count": 43,
   "metadata": {},
   "outputs": [],
   "source": [
    "# Logistic Regression\n",
    "from sklearn.linear_model import LogisticRegression\n",
    "def train_lr(x, y):\n",
    "    model = LogisticRegression()\n",
    "    model.fit(x, y)\n",
    "\n",
    "    return model\n",
    "\n",
    "# Decision Tree\n",
    "from sklearn.tree import DecisionTreeClassifier\n",
    "def train_dt(x, y):\n",
    "    model = DecisionTreeClassifier(random_state=0)\n",
    "    model.fit(x, y)\n",
    "    return model\n",
    "\n",
    "# SVC\n",
    "from sklearn.svm import SVC\n",
    "def train_svc(x, y):\n",
    "    svc = SVC(random_state=0, probability=True)\n",
    "    svc.fit(x, y)\n",
    "    return svc\n",
    "\n",
    "# Random Forest\n",
    "from sklearn.ensemble import RandomForestClassifier\n",
    "def train_rf(x, y):\n",
    "    rf_model = RandomForestClassifier()\n",
    "    rf_model.fit(x, y)\n",
    "    return rf_model\n",
    "\n",
    "# XGB\n",
    "from xgboost import XGBClassifier\n",
    "def train_xgb(x, y):\n",
    "    xgb_model = XGBClassifier()\n",
    "    xgb_model.fit(x, y)\n",
    "    return xgb_model\n",
    "\n",
    "# LGBM\n",
    "from lightgbm import LGBMClassifier\n",
    "def train_lgbm(x, y):\n",
    "    lgbm_model = LGBMClassifier()\n",
    "    lgbm_model.fit(x, y)\n",
    "    return lgbm_model"
   ]
  },
  {
   "cell_type": "code",
   "execution_count": 44,
   "metadata": {},
   "outputs": [],
   "source": [
    "def get_model(x, y, method = 'lr'):\n",
    "    # lr, dt, svc, rf, xgb, lgbm\n",
    "    if method=='lr':\n",
    "        return train_lr(x, y)\n",
    "    elif method=='dt':\n",
    "        return train_dt(x, y)\n",
    "    elif method =='svc':\n",
    "        return train_svc(x, y)\n",
    "    elif method=='rf':\n",
    "        return train_rf(x, y)\n",
    "    elif method=='xgb':\n",
    "        return train_xgb(x, y)\n",
    "    elif method=='lgbm':\n",
    "        return train_lgbm(x, y)\n",
    "    else:\n",
    "        return 'method는 lr, dt, svc, rf, xgb, lgbm 중 하나여야 함'"
   ]
  },
  {
   "cell_type": "code",
   "execution_count": 74,
   "metadata": {},
   "outputs": [
    {
     "name": "stdout",
     "output_type": "stream",
     "text": [
      "모델명: lr \n",
      "\n",
      "# 스케일링\n",
      "## Validation(2015)\n",
      "[[32  3]\n",
      " [ 3 16]]\n",
      "Accuracy : 0.889\n",
      "Precision : 0.842\n",
      "Recall : 0.842\n",
      "F1 : 0.842\n",
      "ROC_AUC : 0.9458646616541353\n",
      "## Test(2021)\n",
      "[[ 0  0]\n",
      " [36  5]]\n",
      "Accuracy : 0.122\n",
      "Precision : 1.000\n",
      "Recall : 0.122\n",
      "F1 : 0.217\n",
      "ROC_AUC : None\n",
      "##################################\n",
      "# 스케일링 + 랜덤오버샘플링\n",
      "## Validation(2015)\n",
      "[[28  7]\n",
      " [ 2 17]]\n",
      "Accuracy : 0.833\n",
      "Precision : 0.708\n",
      "Recall : 0.895\n",
      "F1 : 0.791\n",
      "ROC_AUC : 0.9488721804511278\n",
      "## Test(2021)\n",
      "[[ 0  0]\n",
      " [36  5]]\n",
      "Accuracy : 0.122\n",
      "Precision : 1.000\n",
      "Recall : 0.122\n",
      "F1 : 0.217\n",
      "ROC_AUC : None\n",
      "##################################\n",
      "# 스케일링 + SMOTE\n",
      "## Validation(2015)\n",
      "[[28  7]\n",
      " [ 2 17]]\n",
      "Accuracy : 0.833\n",
      "Precision : 0.708\n",
      "Recall : 0.895\n",
      "F1 : 0.791\n",
      "ROC_AUC : 0.930827067669173\n",
      "## Test(2021)\n",
      "[[ 0  0]\n",
      " [33  8]]\n",
      "Accuracy : 0.195\n",
      "Precision : 1.000\n",
      "Recall : 0.195\n",
      "F1 : 0.327\n",
      "ROC_AUC : None\n",
      "##################################\n"
     ]
    }
   ],
   "source": [
    "# train\n",
    "# - X_train_scaled : standard scaling\n",
    "# - X_ros : standard scaling + random over samplint\n",
    "# - X_smote : standard scaling + SMOTE\n",
    "\n",
    "# method는 lr, dt, svc, rf, xgb, lgbm 중 하나여야 함\n",
    "# method = 'lr'\n",
    "\n",
    "res = []\n",
    "\n",
    "method = 'lr'\n",
    "print('모델명:', method, '\\n')\n",
    "\n",
    "print(\"# 스케일링\")\n",
    "model = get_model(X_train_scaled, y_train, method=method)\n",
    "print(\"## Validation(2015)\")\n",
    "res_val = eval(model, X_val_scaled, y_val)\n",
    "df = pd.DataFrame(res_val['metrics'])\n",
    "df['model'] = method\n",
    "df['data'] = 'val'\n",
    "df['preprocessing'] = 'scaling'\n",
    "res.append(df)\n",
    "\n",
    "print(\"## Test(2021)\")\n",
    "res_test = eval(model, X_test_scaled, y_test)\n",
    "df = pd.DataFrame(res_test['metrics'])\n",
    "df['model'] = method\n",
    "df['data'] = 'test'\n",
    "df['preprocessing'] = 'scaling'\n",
    "res.append(df)\n",
    "print(\"##################################\")\n",
    "\n",
    "print(\"# 스케일링 + 랜덤오버샘플링\")\n",
    "model_ros = get_model(X_ros, y_ros, method=method)\n",
    "print(\"## Validation(2015)\")\n",
    "res_val_ros = eval(model_ros, X_val_scaled, y_val)\n",
    "df = pd.DataFrame(res_val_ros['metrics'])\n",
    "df['model'] = method\n",
    "df['data'] = 'val'\n",
    "df['preprocessing'] = 'RandomOverSampling'\n",
    "res.append(df)\n",
    "\n",
    "print(\"## Test(2021)\")\n",
    "res_test_ros = eval(model_ros, X_test_scaled, y_test)\n",
    "df = pd.DataFrame(res_test_ros['metrics'])\n",
    "df['model'] = method\n",
    "df['data'] = 'test'\n",
    "df['preprocessing'] = 'RandomOverSampling'\n",
    "res.append(df)\n",
    "print(\"##################################\")\n",
    "\n",
    "print(\"# 스케일링 + SMOTE\")\n",
    "model_smote = get_model(X_smote, y_smote, method=method)\n",
    "print(\"## Validation(2015)\")\n",
    "res_val_smote = eval(model_smote, X_val_scaled, y_val)\n",
    "df = pd.DataFrame(res_val_smote['metrics'])\n",
    "df['model'] = method\n",
    "df['data'] = 'val'\n",
    "df['preprocessing'] = 'SMOTE'\n",
    "res.append(df)\n",
    "print(\"## Test(2021)\")\n",
    "res_test_smote = eval(model_smote, X_test_scaled, y_test)\n",
    "df = pd.DataFrame(res_test_smote['metrics'])\n",
    "df['model'] = method\n",
    "df['data'] = 'test'\n",
    "df['preprocessing'] = 'SMOTE'\n",
    "res.append(df)\n",
    "print(\"##################################\")"
   ]
  },
  {
   "cell_type": "code",
   "execution_count": 75,
   "metadata": {},
   "outputs": [
    {
     "data": {
      "text/html": [
       "<div>\n",
       "<style scoped>\n",
       "    .dataframe tbody tr th:only-of-type {\n",
       "        vertical-align: middle;\n",
       "    }\n",
       "\n",
       "    .dataframe tbody tr th {\n",
       "        vertical-align: top;\n",
       "    }\n",
       "\n",
       "    .dataframe thead th {\n",
       "        text-align: right;\n",
       "    }\n",
       "</style>\n",
       "<table border=\"1\" class=\"dataframe\">\n",
       "  <thead>\n",
       "    <tr style=\"text-align: right;\">\n",
       "      <th></th>\n",
       "      <th>model</th>\n",
       "      <th>data</th>\n",
       "      <th>preprocessing</th>\n",
       "      <th>accuracy</th>\n",
       "      <th>precision</th>\n",
       "      <th>recall</th>\n",
       "      <th>f1</th>\n",
       "      <th>roc_auc</th>\n",
       "    </tr>\n",
       "  </thead>\n",
       "  <tbody>\n",
       "    <tr>\n",
       "      <th>0</th>\n",
       "      <td>lr</td>\n",
       "      <td>val</td>\n",
       "      <td>scaling</td>\n",
       "      <td>0.888889</td>\n",
       "      <td>0.842105</td>\n",
       "      <td>0.842105</td>\n",
       "      <td>0.842105</td>\n",
       "      <td>0.945865</td>\n",
       "    </tr>\n",
       "    <tr>\n",
       "      <th>0</th>\n",
       "      <td>lr</td>\n",
       "      <td>test</td>\n",
       "      <td>scaling</td>\n",
       "      <td>0.121951</td>\n",
       "      <td>1.000000</td>\n",
       "      <td>0.121951</td>\n",
       "      <td>0.217391</td>\n",
       "      <td>NaN</td>\n",
       "    </tr>\n",
       "    <tr>\n",
       "      <th>0</th>\n",
       "      <td>lr</td>\n",
       "      <td>val</td>\n",
       "      <td>RandomOverSampling</td>\n",
       "      <td>0.833333</td>\n",
       "      <td>0.708333</td>\n",
       "      <td>0.894737</td>\n",
       "      <td>0.790698</td>\n",
       "      <td>0.948872</td>\n",
       "    </tr>\n",
       "    <tr>\n",
       "      <th>0</th>\n",
       "      <td>lr</td>\n",
       "      <td>test</td>\n",
       "      <td>RandomOverSampling</td>\n",
       "      <td>0.121951</td>\n",
       "      <td>1.000000</td>\n",
       "      <td>0.121951</td>\n",
       "      <td>0.217391</td>\n",
       "      <td>NaN</td>\n",
       "    </tr>\n",
       "    <tr>\n",
       "      <th>0</th>\n",
       "      <td>lr</td>\n",
       "      <td>val</td>\n",
       "      <td>SMOTE</td>\n",
       "      <td>0.833333</td>\n",
       "      <td>0.708333</td>\n",
       "      <td>0.894737</td>\n",
       "      <td>0.790698</td>\n",
       "      <td>0.930827</td>\n",
       "    </tr>\n",
       "    <tr>\n",
       "      <th>0</th>\n",
       "      <td>lr</td>\n",
       "      <td>test</td>\n",
       "      <td>SMOTE</td>\n",
       "      <td>0.195122</td>\n",
       "      <td>1.000000</td>\n",
       "      <td>0.195122</td>\n",
       "      <td>0.326531</td>\n",
       "      <td>NaN</td>\n",
       "    </tr>\n",
       "  </tbody>\n",
       "</table>\n",
       "</div>"
      ],
      "text/plain": [
       "  model  data       preprocessing  accuracy  precision    recall        f1  \\\n",
       "0    lr   val             scaling  0.888889   0.842105  0.842105  0.842105   \n",
       "0    lr  test             scaling  0.121951   1.000000  0.121951  0.217391   \n",
       "0    lr   val  RandomOverSampling  0.833333   0.708333  0.894737  0.790698   \n",
       "0    lr  test  RandomOverSampling  0.121951   1.000000  0.121951  0.217391   \n",
       "0    lr   val               SMOTE  0.833333   0.708333  0.894737  0.790698   \n",
       "0    lr  test               SMOTE  0.195122   1.000000  0.195122  0.326531   \n",
       "\n",
       "    roc_auc  \n",
       "0  0.945865  \n",
       "0       NaN  \n",
       "0  0.948872  \n",
       "0       NaN  \n",
       "0  0.930827  \n",
       "0       NaN  "
      ]
     },
     "execution_count": 75,
     "metadata": {},
     "output_type": "execute_result"
    }
   ],
   "source": [
    "results = pd.concat(res, axis=0)\n",
    "results[['model', 'data', 'preprocessing', 'accuracy', 'precision', 'recall', 'f1', 'roc_auc']]"
   ]
  },
  {
   "cell_type": "code",
   "execution_count": 77,
   "metadata": {},
   "outputs": [
    {
     "data": {
      "text/plain": [
       "녹인발생차수_차이\n",
       "3.0    212\n",
       "Name: count, dtype: int64"
      ]
     },
     "execution_count": 77,
     "metadata": {},
     "output_type": "execute_result"
    }
   ],
   "source": [
    "X_train['녹인발생차수_차이'].value_counts()"
   ]
  },
  {
   "cell_type": "code",
   "execution_count": 78,
   "metadata": {},
   "outputs": [
    {
     "data": {
      "text/plain": [
       "녹인발생차수_차이\n",
       "3.0    54\n",
       "Name: count, dtype: int64"
      ]
     },
     "execution_count": 78,
     "metadata": {},
     "output_type": "execute_result"
    }
   ],
   "source": [
    "X_val['녹인발생차수_차이'].value_counts()"
   ]
  },
  {
   "cell_type": "code",
   "execution_count": 79,
   "metadata": {},
   "outputs": [
    {
     "data": {
      "text/plain": [
       "녹인발생차수_차이\n",
       "2.0    22\n",
       "1.0    19\n",
       "Name: count, dtype: int64"
      ]
     },
     "execution_count": 79,
     "metadata": {},
     "output_type": "execute_result"
    }
   ],
   "source": [
    "X_test['녹인발생차수_차이'].value_counts()"
   ]
  },
  {
   "cell_type": "code",
   "execution_count": 76,
   "metadata": {},
   "outputs": [
    {
     "data": {
      "text/html": [
       "<div>\n",
       "<style scoped>\n",
       "    .dataframe tbody tr th:only-of-type {\n",
       "        vertical-align: middle;\n",
       "    }\n",
       "\n",
       "    .dataframe tbody tr th {\n",
       "        vertical-align: top;\n",
       "    }\n",
       "\n",
       "    .dataframe thead th {\n",
       "        text-align: right;\n",
       "    }\n",
       "</style>\n",
       "<table border=\"1\" class=\"dataframe\">\n",
       "  <thead>\n",
       "    <tr style=\"text-align: right;\">\n",
       "      <th></th>\n",
       "      <th>기초자산개수</th>\n",
       "      <th>녹인발생차수_차이</th>\n",
       "      <th>상환조건(%)</th>\n",
       "      <th>상환조건감소량(%)_next</th>\n",
       "      <th>환매일 수준(%)</th>\n",
       "      <th>녹인대비상환수준(%)</th>\n",
       "      <th>환매대비상환수준(%)_next</th>\n",
       "      <th>녹인비율(%)</th>\n",
       "      <th>녹인비율_전(%)</th>\n",
       "      <th>H총증감률(%)</th>\n",
       "      <th>H이전대비증감률(%)</th>\n",
       "    </tr>\n",
       "  </thead>\n",
       "  <tbody>\n",
       "    <tr>\n",
       "      <th>기초자산개수</th>\n",
       "      <td>1.000000</td>\n",
       "      <td>NaN</td>\n",
       "      <td>-0.107004</td>\n",
       "      <td>0.104491</td>\n",
       "      <td>-0.005108</td>\n",
       "      <td>0.034965</td>\n",
       "      <td>-0.107807</td>\n",
       "      <td>NaN</td>\n",
       "      <td>NaN</td>\n",
       "      <td>-0.103410</td>\n",
       "      <td>0.020560</td>\n",
       "    </tr>\n",
       "    <tr>\n",
       "      <th>녹인발생차수_차이</th>\n",
       "      <td>NaN</td>\n",
       "      <td>NaN</td>\n",
       "      <td>NaN</td>\n",
       "      <td>NaN</td>\n",
       "      <td>NaN</td>\n",
       "      <td>NaN</td>\n",
       "      <td>NaN</td>\n",
       "      <td>NaN</td>\n",
       "      <td>NaN</td>\n",
       "      <td>NaN</td>\n",
       "      <td>NaN</td>\n",
       "    </tr>\n",
       "    <tr>\n",
       "      <th>상환조건(%)</th>\n",
       "      <td>-0.107004</td>\n",
       "      <td>NaN</td>\n",
       "      <td>1.000000</td>\n",
       "      <td>-0.198573</td>\n",
       "      <td>0.255935</td>\n",
       "      <td>0.676147</td>\n",
       "      <td>0.537269</td>\n",
       "      <td>NaN</td>\n",
       "      <td>NaN</td>\n",
       "      <td>-0.007319</td>\n",
       "      <td>0.334367</td>\n",
       "    </tr>\n",
       "    <tr>\n",
       "      <th>상환조건감소량(%)_next</th>\n",
       "      <td>0.104491</td>\n",
       "      <td>NaN</td>\n",
       "      <td>-0.198573</td>\n",
       "      <td>1.000000</td>\n",
       "      <td>-0.060260</td>\n",
       "      <td>-0.551123</td>\n",
       "      <td>-0.479823</td>\n",
       "      <td>NaN</td>\n",
       "      <td>NaN</td>\n",
       "      <td>0.047622</td>\n",
       "      <td>-0.125916</td>\n",
       "    </tr>\n",
       "    <tr>\n",
       "      <th>환매일 수준(%)</th>\n",
       "      <td>-0.005108</td>\n",
       "      <td>NaN</td>\n",
       "      <td>0.255935</td>\n",
       "      <td>-0.060260</td>\n",
       "      <td>1.000000</td>\n",
       "      <td>0.185736</td>\n",
       "      <td>-0.586319</td>\n",
       "      <td>NaN</td>\n",
       "      <td>NaN</td>\n",
       "      <td>0.415979</td>\n",
       "      <td>0.563836</td>\n",
       "    </tr>\n",
       "    <tr>\n",
       "      <th>녹인대비상환수준(%)</th>\n",
       "      <td>0.034965</td>\n",
       "      <td>NaN</td>\n",
       "      <td>0.676147</td>\n",
       "      <td>-0.551123</td>\n",
       "      <td>0.185736</td>\n",
       "      <td>1.000000</td>\n",
       "      <td>0.518514</td>\n",
       "      <td>NaN</td>\n",
       "      <td>NaN</td>\n",
       "      <td>-0.105141</td>\n",
       "      <td>0.307645</td>\n",
       "    </tr>\n",
       "    <tr>\n",
       "      <th>환매대비상환수준(%)_next</th>\n",
       "      <td>-0.107807</td>\n",
       "      <td>NaN</td>\n",
       "      <td>0.537269</td>\n",
       "      <td>-0.479823</td>\n",
       "      <td>-0.586319</td>\n",
       "      <td>0.518514</td>\n",
       "      <td>1.000000</td>\n",
       "      <td>NaN</td>\n",
       "      <td>NaN</td>\n",
       "      <td>-0.347544</td>\n",
       "      <td>-0.169134</td>\n",
       "    </tr>\n",
       "    <tr>\n",
       "      <th>녹인비율(%)</th>\n",
       "      <td>NaN</td>\n",
       "      <td>NaN</td>\n",
       "      <td>NaN</td>\n",
       "      <td>NaN</td>\n",
       "      <td>NaN</td>\n",
       "      <td>NaN</td>\n",
       "      <td>NaN</td>\n",
       "      <td>NaN</td>\n",
       "      <td>NaN</td>\n",
       "      <td>NaN</td>\n",
       "      <td>NaN</td>\n",
       "    </tr>\n",
       "    <tr>\n",
       "      <th>녹인비율_전(%)</th>\n",
       "      <td>NaN</td>\n",
       "      <td>NaN</td>\n",
       "      <td>NaN</td>\n",
       "      <td>NaN</td>\n",
       "      <td>NaN</td>\n",
       "      <td>NaN</td>\n",
       "      <td>NaN</td>\n",
       "      <td>NaN</td>\n",
       "      <td>NaN</td>\n",
       "      <td>NaN</td>\n",
       "      <td>NaN</td>\n",
       "    </tr>\n",
       "    <tr>\n",
       "      <th>H총증감률(%)</th>\n",
       "      <td>-0.103410</td>\n",
       "      <td>NaN</td>\n",
       "      <td>-0.007319</td>\n",
       "      <td>0.047622</td>\n",
       "      <td>0.415979</td>\n",
       "      <td>-0.105141</td>\n",
       "      <td>-0.347544</td>\n",
       "      <td>NaN</td>\n",
       "      <td>NaN</td>\n",
       "      <td>1.000000</td>\n",
       "      <td>0.047392</td>\n",
       "    </tr>\n",
       "    <tr>\n",
       "      <th>H이전대비증감률(%)</th>\n",
       "      <td>0.020560</td>\n",
       "      <td>NaN</td>\n",
       "      <td>0.334367</td>\n",
       "      <td>-0.125916</td>\n",
       "      <td>0.563836</td>\n",
       "      <td>0.307645</td>\n",
       "      <td>-0.169134</td>\n",
       "      <td>NaN</td>\n",
       "      <td>NaN</td>\n",
       "      <td>0.047392</td>\n",
       "      <td>1.000000</td>\n",
       "    </tr>\n",
       "  </tbody>\n",
       "</table>\n",
       "</div>"
      ],
      "text/plain": [
       "                    기초자산개수  녹인발생차수_차이   상환조건(%)  상환조건감소량(%)_next  환매일 수준(%)  \\\n",
       "기초자산개수            1.000000        NaN -0.107004         0.104491  -0.005108   \n",
       "녹인발생차수_차이              NaN        NaN       NaN              NaN        NaN   \n",
       "상환조건(%)          -0.107004        NaN  1.000000        -0.198573   0.255935   \n",
       "상환조건감소량(%)_next   0.104491        NaN -0.198573         1.000000  -0.060260   \n",
       "환매일 수준(%)        -0.005108        NaN  0.255935        -0.060260   1.000000   \n",
       "녹인대비상환수준(%)       0.034965        NaN  0.676147        -0.551123   0.185736   \n",
       "환매대비상환수준(%)_next -0.107807        NaN  0.537269        -0.479823  -0.586319   \n",
       "녹인비율(%)                NaN        NaN       NaN              NaN        NaN   \n",
       "녹인비율_전(%)              NaN        NaN       NaN              NaN        NaN   \n",
       "H총증감률(%)         -0.103410        NaN -0.007319         0.047622   0.415979   \n",
       "H이전대비증감률(%)       0.020560        NaN  0.334367        -0.125916   0.563836   \n",
       "\n",
       "                  녹인대비상환수준(%)  환매대비상환수준(%)_next  녹인비율(%)  녹인비율_전(%)  H총증감률(%)  \\\n",
       "기초자산개수               0.034965         -0.107807      NaN        NaN -0.103410   \n",
       "녹인발생차수_차이                 NaN               NaN      NaN        NaN       NaN   \n",
       "상환조건(%)              0.676147          0.537269      NaN        NaN -0.007319   \n",
       "상환조건감소량(%)_next     -0.551123         -0.479823      NaN        NaN  0.047622   \n",
       "환매일 수준(%)            0.185736         -0.586319      NaN        NaN  0.415979   \n",
       "녹인대비상환수준(%)          1.000000          0.518514      NaN        NaN -0.105141   \n",
       "환매대비상환수준(%)_next     0.518514          1.000000      NaN        NaN -0.347544   \n",
       "녹인비율(%)                   NaN               NaN      NaN        NaN       NaN   \n",
       "녹인비율_전(%)                 NaN               NaN      NaN        NaN       NaN   \n",
       "H총증감률(%)            -0.105141         -0.347544      NaN        NaN  1.000000   \n",
       "H이전대비증감률(%)          0.307645         -0.169134      NaN        NaN  0.047392   \n",
       "\n",
       "                  H이전대비증감률(%)  \n",
       "기초자산개수               0.020560  \n",
       "녹인발생차수_차이                 NaN  \n",
       "상환조건(%)              0.334367  \n",
       "상환조건감소량(%)_next     -0.125916  \n",
       "환매일 수준(%)            0.563836  \n",
       "녹인대비상환수준(%)          0.307645  \n",
       "환매대비상환수준(%)_next    -0.169134  \n",
       "녹인비율(%)                   NaN  \n",
       "녹인비율_전(%)                 NaN  \n",
       "H총증감률(%)             0.047392  \n",
       "H이전대비증감률(%)          1.000000  "
      ]
     },
     "execution_count": 76,
     "metadata": {},
     "output_type": "execute_result"
    }
   ],
   "source": [
    "X_train.corr()"
   ]
  },
  {
   "cell_type": "code",
   "execution_count": null,
   "metadata": {},
   "outputs": [],
   "source": []
  }
 ],
 "metadata": {
  "kernelspec": {
   "display_name": "Python 3",
   "language": "python",
   "name": "python3"
  },
  "language_info": {
   "codemirror_mode": {
    "name": "ipython",
    "version": 3
   },
   "file_extension": ".py",
   "mimetype": "text/x-python",
   "name": "python",
   "nbconvert_exporter": "python",
   "pygments_lexer": "ipython3",
   "version": "3.8.5"
  }
 },
 "nbformat": 4,
 "nbformat_minor": 2
}
