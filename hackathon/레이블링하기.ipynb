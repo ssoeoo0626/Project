{
  "cells": [
    {
      "cell_type": "code",
      "execution_count": null,
      "metadata": {
        "id": "lIIhEbrBDAyY"
      },
      "outputs": [],
      "source": [
        "import pandas as pd\n",
        "df = pd.read_csv('완성본.csv', dtype={'거래소코드':'object'})"
      ]
    },
    {
      "cell_type": "code",
      "execution_count": null,
      "metadata": {
        "id": "WBp72oRFDAya"
      },
      "outputs": [],
      "source": [
        "df['거래소코드']= df['거래소코드'].str.zfill(6)"
      ]
    },
    {
      "cell_type": "code",
      "execution_count": null,
      "metadata": {
        "id": "rEMJo3LXDAya"
      },
      "outputs": [],
      "source": [
        "ticker_list = [df['거래소코드'].unique()]"
      ]
    },
    {
      "cell_type": "code",
      "execution_count": null,
      "metadata": {
        "id": "poBqAxe8DAya",
        "outputId": "a33641b0-2664-40db-a696-e7e2e60b0c68"
      },
      "outputs": [
        {
          "data": {
            "text/plain": [
              "[array(['000040', '000050', '000070', '000080', '000100', '000120',\n",
              "        '000150', '000210', '000270', '000320', '000390', '000430',\n",
              "        '000670', '000680', '000850', '000860', '000880', '000890',\n",
              "        '000950', '000970', '000990', '001040', '001130', '001210',\n",
              "        '001380', '001390', '001460', '001470', '001520', '001530',\n",
              "        '001560', '001570', '001630', '001680', '001740', '001820',\n",
              "        '001940', '002020', '002070', '002220', '002230', '002240',\n",
              "        '002310', '002320', '002350', '002360', '002380', '002450',\n",
              "        '002710', '002790', '002820', '002840', '002900', '002920',\n",
              "        '003030', '003060', '003090', '003100', '003160', '003200',\n",
              "        '003240', '003280', '003300', '003480', '003490', '003550',\n",
              "        '003570', '003620', '003720', '003960', '004020', '004080',\n",
              "        '004090', '004150', '004170', '004250', '004370', '004690',\n",
              "        '004710', '004770', '004800', '004830', '004840', '004970',\n",
              "        '004980', '004990', '005010', '005160', '005290', '005320',\n",
              "        '005380', '005490', '005670', '005680', '005710', '005720',\n",
              "        '005750', '005800', '005810', '005850', '005860', '005930',\n",
              "        '005950', '006040', '006060', '006120', '006400', '006580',\n",
              "        '006650', '006840', '006920', '006980', '007160', '007210',\n",
              "        '007340', '007690', '007720', '007860', '008040', '008250',\n",
              "        '008490', '008500', '008600', '008700', '008970', '009070',\n",
              "        '009150', '009160', '009200', '009270', '009310', '009410',\n",
              "        '009440', '009450', '009470', '009540', '009680', '009830',\n",
              "        '009970', '010060', '010100', '010120', '010130', '010600',\n",
              "        '010620', '010770', '010780', '011000', '011070', '011090',\n",
              "        '011170', '011200', '011300', '011390', '011790', '011810',\n",
              "        '012200', '012320', '012330', '012340', '012510', '012610',\n",
              "        '012630', '012750', '013520', '013570', '013580', '013810',\n",
              "        '014470', '014620', '014680', '014790', '014830', '014910',\n",
              "        '015230', '015860', '015890', '016380', '016450', '016590',\n",
              "        '016710', '016880', '016920', '017040', '017180', '017390',\n",
              "        '017550', '017670', '017800', '017890', '017900', '017940',\n",
              "        '018670', '019010', '019170', '019210', '019680', '020560',\n",
              "        '020710', '021650', '023150', '023530', '023600', '023800',\n",
              "        '023810', '023900', '024070', '024740', '024890', '025000',\n",
              "        '025320', '025440', '025530', '025540', '025750', '025900',\n",
              "        '026960', '027040', '027710', '028300', '028670', '029530',\n",
              "        '030190', '030200', '030520', '030530', '031310', '031330',\n",
              "        '031510', '032500', '032560', '032640', '032750', '032940',\n",
              "        '033050', '033180', '033230', '033240', '033290', '033530',\n",
              "        '033560', '033640', '033780', '034020', '034120', '034220',\n",
              "        '034230', '034310', '034730', '034950', '035080', '035150',\n",
              "        '035250', '035460', '035610', '035720', '035760', '035810',\n",
              "        '036460', '036690', '036710', '036830', '036890', '036930',\n",
              "        '037330', '037350', '037370', '037400', '038340', '038500',\n",
              "        '038680', '038870', '039020', '039030', '039310', '039740',\n",
              "        '040160', '040350', '040610', '041520', '041650', '041930',\n",
              "        '042420', '042660', '042670', '043370', '043650', '044820',\n",
              "        '045060', '045100', '045300', '045970', '046310', '046890',\n",
              "        '046940', '047040', '047050', '047310', '047770', '047820',\n",
              "        '048410', '048550', '048870', '048910', '049070', '049430',\n",
              "        '049520', '049770', '049800', '050760', '050890', '051490',\n",
              "        '051780', '051910', '052300', '052710', '053060', '053210',\n",
              "        '053270', '053450', '053980', '054090', '054210', '054540',\n",
              "        '054940', '056190', '056700', '058610', '059090', '060150',\n",
              "        '060540', '060560', '060570', '060720', '060980', '061040',\n",
              "        '064960', '065060', '065170', '065350', '065680', '065690',\n",
              "        '065770', '066570', '066590', '066620', '066970', '067770',\n",
              "        '068790', '069510', '069540', '069960', '071670', '072520',\n",
              "        '073190', '073240', '074600', '075180', '077500', '078350',\n",
              "        '078600', '078930', '079160', '079370', '079650', '079940',\n",
              "        '079960', '080470', '080520', '081580', '082210', '082850',\n",
              "        '083470', '083550', '084690', '085310', '085660', '086060',\n",
              "        '086280', '086980', '088130', '089010', '089470', '090350',\n",
              "        '091590', '091700', '091970', '092200', '092230', '093370',\n",
              "        '093920', '094280', '094480', '094970', '095500', '095660',\n",
              "        '095910', '096760', '096770', '097230', '097780', '097950',\n",
              "        '099220', '100250', '101160', '101330', '101390', '102260',\n",
              "        '102280', '103140', '105630', '106240', '108670', '111770',\n",
              "        '115160', '115390', '122990', '130660', '131290', '900070',\n",
              "        '900140'], dtype=object)]"
            ]
          },
          "execution_count": 490,
          "metadata": {},
          "output_type": "execute_result"
        }
      ],
      "source": [
        "ticker_list"
      ]
    },
    {
      "cell_type": "code",
      "execution_count": null,
      "metadata": {
        "id": "2c3pl-3KDAyb"
      },
      "outputs": [],
      "source": [
        "cagr = pd.read_csv('cagr.csv')"
      ]
    },
    {
      "cell_type": "code",
      "execution_count": null,
      "metadata": {
        "id": "cRzWJ5-dDAyb",
        "outputId": "37c17717-e238-4e48-9026-205c852fd41d"
      },
      "outputs": [
        {
          "name": "stdout",
          "output_type": "stream",
          "text": [
            "<class 'pandas.core.frame.DataFrame'>\n",
            "RangeIndex: 421 entries, 0 to 420\n",
            "Data columns (total 5 columns):\n",
            " #   Column       Non-Null Count  Dtype\n",
            "---  ------       --------------  -----\n",
            " 0   ticker       421 non-null    int64\n",
            " 1   train_start  421 non-null    int64\n",
            " 2   train_end    421 non-null    int64\n",
            " 3   test_start   421 non-null    int64\n",
            " 4   test_end     421 non-null    int64\n",
            "dtypes: int64(5)\n",
            "memory usage: 16.6 KB\n"
          ]
        }
      ],
      "source": [
        "cagr.info()"
      ]
    },
    {
      "cell_type": "code",
      "execution_count": null,
      "metadata": {
        "id": "CcNuhD95DAyc"
      },
      "outputs": [],
      "source": [
        "cagr['ticker']= cagr['ticker'].astype(str)"
      ]
    },
    {
      "cell_type": "code",
      "execution_count": null,
      "metadata": {
        "id": "PFJTwckhDAyc"
      },
      "outputs": [],
      "source": [
        "cagr['ticker']= cagr['ticker'].str.zfill(6)"
      ]
    },
    {
      "cell_type": "code",
      "execution_count": null,
      "metadata": {
        "id": "sGNTif2sDAyc",
        "outputId": "e847e9da-90f1-48bf-c383-ff312318870f"
      },
      "outputs": [
        {
          "data": {
            "text/html": [
              "<div>\n",
              "<style scoped>\n",
              "    .dataframe tbody tr th:only-of-type {\n",
              "        vertical-align: middle;\n",
              "    }\n",
              "\n",
              "    .dataframe tbody tr th {\n",
              "        vertical-align: top;\n",
              "    }\n",
              "\n",
              "    .dataframe thead th {\n",
              "        text-align: right;\n",
              "    }\n",
              "</style>\n",
              "<table border=\"1\" class=\"dataframe\">\n",
              "  <thead>\n",
              "    <tr style=\"text-align: right;\">\n",
              "      <th></th>\n",
              "      <th>ticker</th>\n",
              "      <th>train_start</th>\n",
              "      <th>train_end</th>\n",
              "      <th>test_start</th>\n",
              "      <th>test_end</th>\n",
              "    </tr>\n",
              "  </thead>\n",
              "  <tbody>\n",
              "    <tr>\n",
              "      <th>0</th>\n",
              "      <td>000040</td>\n",
              "      <td>3635</td>\n",
              "      <td>1985</td>\n",
              "      <td>1985</td>\n",
              "      <td>560</td>\n",
              "    </tr>\n",
              "    <tr>\n",
              "      <th>1</th>\n",
              "      <td>000050</td>\n",
              "      <td>9921</td>\n",
              "      <td>13900</td>\n",
              "      <td>13850</td>\n",
              "      <td>10800</td>\n",
              "    </tr>\n",
              "    <tr>\n",
              "      <th>2</th>\n",
              "      <td>000070</td>\n",
              "      <td>46517</td>\n",
              "      <td>122000</td>\n",
              "      <td>121500</td>\n",
              "      <td>68700</td>\n",
              "    </tr>\n",
              "    <tr>\n",
              "      <th>3</th>\n",
              "      <td>000080</td>\n",
              "      <td>39950</td>\n",
              "      <td>24100</td>\n",
              "      <td>24400</td>\n",
              "      <td>25550</td>\n",
              "    </tr>\n",
              "    <tr>\n",
              "      <th>4</th>\n",
              "      <td>000100</td>\n",
              "      <td>23698</td>\n",
              "      <td>33640</td>\n",
              "      <td>33333</td>\n",
              "      <td>54745</td>\n",
              "    </tr>\n",
              "    <tr>\n",
              "      <th>...</th>\n",
              "      <td>...</td>\n",
              "      <td>...</td>\n",
              "      <td>...</td>\n",
              "      <td>...</td>\n",
              "      <td>...</td>\n",
              "    </tr>\n",
              "    <tr>\n",
              "      <th>416</th>\n",
              "      <td>122990</td>\n",
              "      <td>4861</td>\n",
              "      <td>14150</td>\n",
              "      <td>14450</td>\n",
              "      <td>6710</td>\n",
              "    </tr>\n",
              "    <tr>\n",
              "      <th>417</th>\n",
              "      <td>130660</td>\n",
              "      <td>5060</td>\n",
              "      <td>4090</td>\n",
              "      <td>4005</td>\n",
              "      <td>8510</td>\n",
              "    </tr>\n",
              "    <tr>\n",
              "      <th>418</th>\n",
              "      <td>131290</td>\n",
              "      <td>23359</td>\n",
              "      <td>16700</td>\n",
              "      <td>16850</td>\n",
              "      <td>36950</td>\n",
              "    </tr>\n",
              "    <tr>\n",
              "      <th>419</th>\n",
              "      <td>900070</td>\n",
              "      <td>2448</td>\n",
              "      <td>1130</td>\n",
              "      <td>1150</td>\n",
              "      <td>710</td>\n",
              "    </tr>\n",
              "    <tr>\n",
              "      <th>420</th>\n",
              "      <td>900140</td>\n",
              "      <td>2993</td>\n",
              "      <td>2531</td>\n",
              "      <td>2593</td>\n",
              "      <td>1775</td>\n",
              "    </tr>\n",
              "  </tbody>\n",
              "</table>\n",
              "<p>421 rows × 5 columns</p>\n",
              "</div>"
            ],
            "text/plain": [
              "     ticker  train_start  train_end  test_start  test_end\n",
              "0    000040         3635       1985        1985       560\n",
              "1    000050         9921      13900       13850     10800\n",
              "2    000070        46517     122000      121500     68700\n",
              "3    000080        39950      24100       24400     25550\n",
              "4    000100        23698      33640       33333     54745\n",
              "..      ...          ...        ...         ...       ...\n",
              "416  122990         4861      14150       14450      6710\n",
              "417  130660         5060       4090        4005      8510\n",
              "418  131290        23359      16700       16850     36950\n",
              "419  900070         2448       1130        1150       710\n",
              "420  900140         2993       2531        2593      1775\n",
              "\n",
              "[421 rows x 5 columns]"
            ]
          },
          "execution_count": 495,
          "metadata": {},
          "output_type": "execute_result"
        }
      ],
      "source": [
        "cagr"
      ]
    },
    {
      "cell_type": "code",
      "execution_count": null,
      "metadata": {
        "id": "jrGRCND_DAyc",
        "outputId": "72775ca5-c392-455d-8f6a-9f8c228c1b57"
      },
      "outputs": [
        {
          "ename": "KeyError",
          "evalue": "'train_end_2010'",
          "output_type": "error",
          "traceback": [
            "\u001b[1;31m---------------------------------------------------------------------------\u001b[0m",
            "\u001b[1;31mKeyError\u001b[0m                                  Traceback (most recent call last)",
            "File \u001b[1;32m~\\AppData\\Roaming\\Python\\Python38\\site-packages\\pandas\\core\\indexes\\base.py:3653\u001b[0m, in \u001b[0;36mIndex.get_loc\u001b[1;34m(self, key)\u001b[0m\n\u001b[0;32m   3652\u001b[0m \u001b[38;5;28;01mtry\u001b[39;00m:\n\u001b[1;32m-> 3653\u001b[0m     \u001b[38;5;28;01mreturn\u001b[39;00m \u001b[38;5;28;43mself\u001b[39;49m\u001b[38;5;241;43m.\u001b[39;49m\u001b[43m_engine\u001b[49m\u001b[38;5;241;43m.\u001b[39;49m\u001b[43mget_loc\u001b[49m\u001b[43m(\u001b[49m\u001b[43mcasted_key\u001b[49m\u001b[43m)\u001b[49m\n\u001b[0;32m   3654\u001b[0m \u001b[38;5;28;01mexcept\u001b[39;00m \u001b[38;5;167;01mKeyError\u001b[39;00m \u001b[38;5;28;01mas\u001b[39;00m err:\n",
            "File \u001b[1;32m~\\AppData\\Roaming\\Python\\Python38\\site-packages\\pandas\\_libs\\index.pyx:147\u001b[0m, in \u001b[0;36mpandas._libs.index.IndexEngine.get_loc\u001b[1;34m()\u001b[0m\n",
            "File \u001b[1;32m~\\AppData\\Roaming\\Python\\Python38\\site-packages\\pandas\\_libs\\index.pyx:176\u001b[0m, in \u001b[0;36mpandas._libs.index.IndexEngine.get_loc\u001b[1;34m()\u001b[0m\n",
            "File \u001b[1;32mpandas\\_libs\\hashtable_class_helper.pxi:7080\u001b[0m, in \u001b[0;36mpandas._libs.hashtable.PyObjectHashTable.get_item\u001b[1;34m()\u001b[0m\n",
            "File \u001b[1;32mpandas\\_libs\\hashtable_class_helper.pxi:7088\u001b[0m, in \u001b[0;36mpandas._libs.hashtable.PyObjectHashTable.get_item\u001b[1;34m()\u001b[0m\n",
            "\u001b[1;31mKeyError\u001b[0m: 'train_end_2010'",
            "\nThe above exception was the direct cause of the following exception:\n",
            "\u001b[1;31mKeyError\u001b[0m                                  Traceback (most recent call last)",
            "Cell \u001b[1;32mIn[496], line 4\u001b[0m\n\u001b[0;32m      2\u001b[0m \u001b[38;5;28;01mfor\u001b[39;00m i \u001b[38;5;129;01min\u001b[39;00m \u001b[38;5;28mrange\u001b[39m(\u001b[38;5;241m9\u001b[39m, \u001b[38;5;241m18\u001b[39m, \u001b[38;5;241m1\u001b[39m):\n\u001b[0;32m      3\u001b[0m     cagr_train \u001b[38;5;241m=\u001b[39m \u001b[38;5;124mf\u001b[39m\u001b[38;5;124m'\u001b[39m\u001b[38;5;124mcagr_20\u001b[39m\u001b[38;5;132;01m{\u001b[39;00mi\u001b[38;5;241m+\u001b[39m\u001b[38;5;241m1\u001b[39m\u001b[38;5;132;01m:\u001b[39;00m\u001b[38;5;124md\u001b[39m\u001b[38;5;132;01m}\u001b[39;00m\u001b[38;5;124m'\u001b[39m\n\u001b[1;32m----> 4\u001b[0m     result_df[cagr_train] \u001b[38;5;241m=\u001b[39m ((\u001b[43mresult_df\u001b[49m\u001b[43m[\u001b[49m\u001b[38;5;124;43mf\u001b[39;49m\u001b[38;5;124;43m'\u001b[39;49m\u001b[38;5;124;43mtrain_end_20\u001b[39;49m\u001b[38;5;132;43;01m{\u001b[39;49;00m\u001b[43mi\u001b[49m\u001b[38;5;241;43m+\u001b[39;49m\u001b[38;5;241;43m1\u001b[39;49m\u001b[38;5;132;43;01m:\u001b[39;49;00m\u001b[38;5;124;43md\u001b[39;49m\u001b[38;5;132;43;01m}\u001b[39;49;00m\u001b[38;5;124;43m'\u001b[39;49m\u001b[43m]\u001b[49m \u001b[38;5;241m/\u001b[39m result_df[\u001b[38;5;124mf\u001b[39m\u001b[38;5;124m'\u001b[39m\u001b[38;5;124mtrain_start_2010\u001b[39m\u001b[38;5;124m'\u001b[39m]) \u001b[38;5;241m*\u001b[39m\u001b[38;5;241m*\u001b[39m (\u001b[38;5;241m1\u001b[39m\u001b[38;5;241m/\u001b[39m[]) \u001b[38;5;241m-\u001b[39m \u001b[38;5;241m1\u001b[39m) \u001b[38;5;241m*\u001b[39m \u001b[38;5;241m100\u001b[39m\n\u001b[0;32m      5\u001b[0m     cagr_results[cagr_train] \u001b[38;5;241m=\u001b[39m result_df[cagr_train]\n\u001b[0;32m      7\u001b[0m \u001b[38;5;28;01mfor\u001b[39;00m j \u001b[38;5;129;01min\u001b[39;00m \u001b[38;5;28mrange\u001b[39m(\u001b[38;5;241m18\u001b[39m, \u001b[38;5;241m23\u001b[39m, \u001b[38;5;241m1\u001b[39m):\n",
            "File \u001b[1;32m~\\AppData\\Roaming\\Python\\Python38\\site-packages\\pandas\\core\\frame.py:3761\u001b[0m, in \u001b[0;36mDataFrame.__getitem__\u001b[1;34m(self, key)\u001b[0m\n\u001b[0;32m   3759\u001b[0m \u001b[38;5;28;01mif\u001b[39;00m \u001b[38;5;28mself\u001b[39m\u001b[38;5;241m.\u001b[39mcolumns\u001b[38;5;241m.\u001b[39mnlevels \u001b[38;5;241m>\u001b[39m \u001b[38;5;241m1\u001b[39m:\n\u001b[0;32m   3760\u001b[0m     \u001b[38;5;28;01mreturn\u001b[39;00m \u001b[38;5;28mself\u001b[39m\u001b[38;5;241m.\u001b[39m_getitem_multilevel(key)\n\u001b[1;32m-> 3761\u001b[0m indexer \u001b[38;5;241m=\u001b[39m \u001b[38;5;28;43mself\u001b[39;49m\u001b[38;5;241;43m.\u001b[39;49m\u001b[43mcolumns\u001b[49m\u001b[38;5;241;43m.\u001b[39;49m\u001b[43mget_loc\u001b[49m\u001b[43m(\u001b[49m\u001b[43mkey\u001b[49m\u001b[43m)\u001b[49m\n\u001b[0;32m   3762\u001b[0m \u001b[38;5;28;01mif\u001b[39;00m is_integer(indexer):\n\u001b[0;32m   3763\u001b[0m     indexer \u001b[38;5;241m=\u001b[39m [indexer]\n",
            "File \u001b[1;32m~\\AppData\\Roaming\\Python\\Python38\\site-packages\\pandas\\core\\indexes\\base.py:3655\u001b[0m, in \u001b[0;36mIndex.get_loc\u001b[1;34m(self, key)\u001b[0m\n\u001b[0;32m   3653\u001b[0m     \u001b[38;5;28;01mreturn\u001b[39;00m \u001b[38;5;28mself\u001b[39m\u001b[38;5;241m.\u001b[39m_engine\u001b[38;5;241m.\u001b[39mget_loc(casted_key)\n\u001b[0;32m   3654\u001b[0m \u001b[38;5;28;01mexcept\u001b[39;00m \u001b[38;5;167;01mKeyError\u001b[39;00m \u001b[38;5;28;01mas\u001b[39;00m err:\n\u001b[1;32m-> 3655\u001b[0m     \u001b[38;5;28;01mraise\u001b[39;00m \u001b[38;5;167;01mKeyError\u001b[39;00m(key) \u001b[38;5;28;01mfrom\u001b[39;00m \u001b[38;5;21;01merr\u001b[39;00m\n\u001b[0;32m   3656\u001b[0m \u001b[38;5;28;01mexcept\u001b[39;00m \u001b[38;5;167;01mTypeError\u001b[39;00m:\n\u001b[0;32m   3657\u001b[0m     \u001b[38;5;66;03m# If we have a listlike key, _check_indexing_error will raise\u001b[39;00m\n\u001b[0;32m   3658\u001b[0m     \u001b[38;5;66;03m#  InvalidIndexError. Otherwise we fall through and re-raise\u001b[39;00m\n\u001b[0;32m   3659\u001b[0m     \u001b[38;5;66;03m#  the TypeError.\u001b[39;00m\n\u001b[0;32m   3660\u001b[0m     \u001b[38;5;28mself\u001b[39m\u001b[38;5;241m.\u001b[39m_check_indexing_error(key)\n",
            "\u001b[1;31mKeyError\u001b[0m: 'train_end_2010'"
          ]
        }
      ],
      "source": [
        "cagr_results = {}\n",
        "for i in range(9, 18, 1):\n",
        "    cagr_train = f'cagr_20{i+1:d}'\n",
        "    result_df[cagr_train] = ((result_df[f'train_end_20{i+1:d}'] / result_df[f'train_start_2010']) ** (1/[]) - 1) * 100\n",
        "    cagr_results[cagr_train] = result_df[cagr_train]\n",
        "\n",
        "for j in range(18, 23, 1):\n",
        "    cagr_test = f'cagr_20{i+1:d}'\n",
        "    result_df[cagr_test] = ((result_df[f'test_end_20{i+1:d}'] / result_df[f'test_start_2018']) ** (1/5) - 1) * 100\n",
        "    cagr_results[cagr_test] = result_df[cagr_test]\n"
      ]
    },
    {
      "cell_type": "code",
      "execution_count": null,
      "metadata": {
        "id": "9YF8jAIADAyd"
      },
      "outputs": [],
      "source": []
    },
    {
      "cell_type": "code",
      "execution_count": null,
      "metadata": {
        "id": "WF9jyb_JDAyd"
      },
      "outputs": [],
      "source": [
        "for i in range(9,18,1):\n",
        "    cagr((cagr[f'train_end_20{i+1:d}']/cagr['train_start_2010'])**(1/8)-1)*100\n",
        "\n",
        ""
      ]
    },
    {
      "cell_type": "code",
      "execution_count": null,
      "metadata": {
        "id": "Km7P-LlGDAyd"
      },
      "outputs": [],
      "source": [
        "cagr['train_cagr(%)'] = ((cagr['train_end']/cagr['train_start'])**(1/8)-1)*100"
      ]
    },
    {
      "cell_type": "code",
      "execution_count": null,
      "metadata": {
        "id": "Aw_oRasCDAyd"
      },
      "outputs": [],
      "source": [
        "cagr['test_cagr(%)'] = ((cagr['test_end']/cagr['test_start'])**(1/5)-1)*100"
      ]
    },
    {
      "cell_type": "code",
      "execution_count": null,
      "metadata": {
        "id": "e2eiftAwDAyd"
      },
      "outputs": [],
      "source": [
        "cagr"
      ]
    },
    {
      "cell_type": "code",
      "execution_count": null,
      "metadata": {
        "id": "cEOgHjI8DAyd"
      },
      "outputs": [],
      "source": [
        "cagr.rename(columns={'ticker':'거래소코드'}, inplace=True)"
      ]
    },
    {
      "cell_type": "code",
      "execution_count": null,
      "metadata": {
        "id": "mLzVVDUYDAye"
      },
      "outputs": [],
      "source": [
        "cagr_df = cagr.iloc[:,[0,-2,-1]]"
      ]
    },
    {
      "cell_type": "code",
      "execution_count": null,
      "metadata": {
        "id": "RtClMckZDAye"
      },
      "outputs": [],
      "source": [
        "cagr_df"
      ]
    },
    {
      "cell_type": "code",
      "execution_count": null,
      "metadata": {
        "id": "PX8huNGdDAye"
      },
      "outputs": [],
      "source": [
        "import pandas as pd\n",
        "min_cagr = pd.read_csv('minsik_cagr.csv', encoding='cp949')"
      ]
    },
    {
      "cell_type": "code",
      "execution_count": null,
      "metadata": {
        "id": "nTe0L88XDAye"
      },
      "outputs": [],
      "source": [
        "min_cagr = min_cagr.drop('Unnamed: 0', axis=1)"
      ]
    },
    {
      "cell_type": "code",
      "execution_count": null,
      "metadata": {
        "id": "EAWHDMeXDAye"
      },
      "outputs": [],
      "source": [
        "min_cagr['거래소코드']= min_cagr['거래소코드'].astype(str).str.zfill(6)"
      ]
    },
    {
      "cell_type": "code",
      "execution_count": null,
      "metadata": {
        "id": "omQQq-ymDAye"
      },
      "outputs": [],
      "source": [
        "cagr_merge = pd.merge(min_cagr, cagr_df, on = ['거래소코드'], how = 'left')"
      ]
    },
    {
      "cell_type": "code",
      "execution_count": null,
      "metadata": {
        "id": "uSXVVvPODAye"
      },
      "outputs": [],
      "source": [
        "cagr_merge.isna().sum()"
      ]
    },
    {
      "cell_type": "code",
      "execution_count": null,
      "metadata": {
        "id": "hLoR78l_DAye"
      },
      "outputs": [],
      "source": [
        "cagr_merge['CAGR_tr(%)'] = cagr_merge['CAGR_tr']*100"
      ]
    },
    {
      "cell_type": "code",
      "execution_count": null,
      "metadata": {
        "id": "L1mIv8umDAye"
      },
      "outputs": [],
      "source": [
        "cagr_merge.loc[:, ['거래소코드', 'CAGR_tr(%)', 'train_cagr(%)']]"
      ]
    },
    {
      "cell_type": "code",
      "execution_count": null,
      "metadata": {
        "id": "XsEtUtyNDAyf"
      },
      "outputs": [],
      "source": [
        "cagr_merge[cagr_merge['CAGR_tr(%)']<= cagr_merge['train_cagr(%)']]"
      ]
    },
    {
      "cell_type": "code",
      "execution_count": null,
      "metadata": {
        "id": "3PUuChoNDAyf"
      },
      "outputs": [],
      "source": [
        "1998/13"
      ]
    },
    {
      "cell_type": "code",
      "execution_count": null,
      "metadata": {
        "id": "y2CE1M-4DAyf"
      },
      "outputs": [],
      "source": [
        "cagr_merge.to_csv('cagr_merge.csv', index= False, encoding= 'utf-8-sig')"
      ]
    },
    {
      "cell_type": "code",
      "execution_count": null,
      "metadata": {
        "id": "EDwDEBeMDAyf"
      },
      "outputs": [],
      "source": [
        "df['회계년도']=pd.to_datetime(df['회계년도']) #df는 우리 합친 데이터\n",
        "years=df['회계년도'].dt.year.unique()\n",
        "ticker_list = [df['거래소코드'].unique()]\n",
        "ticker_list=ticker_list[0]\n"
      ]
    },
    {
      "cell_type": "code",
      "execution_count": null,
      "metadata": {
        "id": "4ck6PesHDAyf"
      },
      "outputs": [],
      "source": [
        "df[df.index==3133]"
      ]
    },
    {
      "cell_type": "code",
      "execution_count": null,
      "metadata": {
        "id": "4wIWTmxcDAyf"
      },
      "outputs": [],
      "source": [
        "import yfinance as yf\n",
        "df_test=yf.download('005930.KS', start='2010-01-01', end='2022-12-31')\n",
        "df_test"
      ]
    },
    {
      "cell_type": "code",
      "execution_count": null,
      "metadata": {
        "id": "beKhwTqjDAyf"
      },
      "outputs": [],
      "source": [
        "df_test"
      ]
    },
    {
      "cell_type": "code",
      "execution_count": null,
      "metadata": {
        "id": "jSNXiE2HDAyf"
      },
      "outputs": [],
      "source": [
        "df_test=fdr.DataReader('005930', start = '20100101', end='20221231')\n",
        "df_test.loc[df_test.index.year == 2010].head(1)\n",
        "df_test.loc[df_test.index.year == 2010].tail(1)['Close'][0]"
      ]
    },
    {
      "cell_type": "code",
      "execution_count": null,
      "metadata": {
        "id": "gM4npaRdDAyg"
      },
      "outputs": [],
      "source": [
        "data=fdr.DataReader('005930', start = '20100101', end='20221231')\n",
        "data"
      ]
    },
    {
      "cell_type": "code",
      "execution_count": null,
      "metadata": {
        "id": "aLPKTmymDAyg"
      },
      "outputs": [],
      "source": [
        "result_list=[]\n",
        "\n",
        "data=fdr.DataReader('005930', start = '20100101', end='20221231')\n",
        "for j in years:\n",
        "\n",
        "    a=data.loc[data.index.year == 2010].head(1)['Close'][0]\n",
        "    b=data.loc[data.index.year == 2018].head(1)['Close'][0]\n",
        "    c=data.loc[data.index.year == j].tail(1)['Close'][0]\n",
        "\n",
        "    result_list.append({\n",
        "            'ticker': i,\n",
        "            'year': j,\n",
        "            '2010_head': a,\n",
        "            '2018_head': b,\n",
        "            'year_tail': c\n",
        "        })\n",
        "\n",
        "result_df = pd.DataFrame(result_list)\n"
      ]
    },
    {
      "cell_type": "code",
      "execution_count": null,
      "metadata": {
        "id": "gb40bttZDAyg"
      },
      "outputs": [],
      "source": [
        "result_df"
      ]
    },
    {
      "cell_type": "code",
      "execution_count": null,
      "metadata": {
        "id": "3AbB-Da1DAyg"
      },
      "outputs": [],
      "source": [
        "from pandas_datareader import data as pdr\n",
        "\n",
        "result_list = []\n",
        "for i in ticker_list:\n",
        "    data=pdr.get_data_yahoo(f'{i}', start = '20100101', end='20221231')\n",
        "    for j in years:\n",
        "        a=data.loc[data.index.year == 2010].head(1)['Close'][0]\n",
        "        b=data.loc[data.index.year == 2018].head(1)['Close'][0]\n",
        "        c=data.loc[data.index.year == j].tail(1)['Close'][0]\n",
        "        result_list.append({\n",
        "            'ticker': i,\n",
        "            'year': j,\n",
        "            '2010_head': a,\n",
        "            '2018_head': b,\n",
        "            'year_tail': c\n",
        "        })\n",
        "\n",
        "result_df = pd.DataFrame(result_list)\n",
        "\n",
        ""
      ]
    },
    {
      "cell_type": "code",
      "execution_count": null,
      "metadata": {
        "id": "AQ1vp1pDDAyh",
        "outputId": "f31c4b0a-acfe-49cb-a3d5-1d9514f26c75"
      },
      "outputs": [
        {
          "name": "stdout",
          "output_type": "stream",
          "text": [
            "[*********************100%%**********************]  1 of 1 completed\n",
            "[*********************100%%**********************]  1 of 1 completed\n",
            "[*********************100%%**********************]  1 of 1 completed\n",
            "[*********************100%%**********************]  1 of 1 completed\n",
            "[*********************100%%**********************]  1 of 1 completed\n",
            "[*********************100%%**********************]  1 of 1 completed\n",
            "[*********************100%%**********************]  1 of 1 completed\n",
            "[*********************100%%**********************]  1 of 1 completed\n",
            "[*********************100%%**********************]  1 of 1 completed\n",
            "[*********************100%%**********************]  1 of 1 completed\n",
            "[*********************100%%**********************]  1 of 1 completed\n",
            "[*********************100%%**********************]  1 of 1 completed\n",
            "[*********************100%%**********************]  1 of 1 completed\n",
            "[*********************100%%**********************]  1 of 1 completed\n",
            "[*********************100%%**********************]  1 of 1 completed\n",
            "[*********************100%%**********************]  1 of 1 completed\n",
            "[*********************100%%**********************]  1 of 1 completed\n",
            "[*********************100%%**********************]  1 of 1 completed\n",
            "[*********************100%%**********************]  1 of 1 completed\n",
            "[*********************100%%**********************]  1 of 1 completed\n",
            "[*********************100%%**********************]  1 of 1 completed\n",
            "[*********************100%%**********************]  1 of 1 completed\n",
            "[*********************100%%**********************]  1 of 1 completed\n",
            "[*********************100%%**********************]  1 of 1 completed\n",
            "[*********************100%%**********************]  1 of 1 completed\n",
            "[*********************100%%**********************]  1 of 1 completed\n",
            "[*********************100%%**********************]  1 of 1 completed\n",
            "[*********************100%%**********************]  1 of 1 completed\n",
            "[*********************100%%**********************]  1 of 1 completed\n",
            "[*********************100%%**********************]  1 of 1 completed\n",
            "[*********************100%%**********************]  1 of 1 completed\n",
            "[*********************100%%**********************]  1 of 1 completed\n",
            "[*********************100%%**********************]  1 of 1 completed\n",
            "[*********************100%%**********************]  1 of 1 completed\n",
            "[*********************100%%**********************]  1 of 1 completed\n",
            "[*********************100%%**********************]  1 of 1 completed\n",
            "[*********************100%%**********************]  1 of 1 completed\n",
            "[*********************100%%**********************]  1 of 1 completed\n",
            "[*********************100%%**********************]  1 of 1 completed\n",
            "[*********************100%%**********************]  1 of 1 completed\n",
            "[*********************100%%**********************]  1 of 1 completed"
          ]
        },
        {
          "name": "stderr",
          "output_type": "stream",
          "text": [
            "\n",
            "1 Failed download:\n",
            "['002230.KS']: Exception('%ticker%: No timezone found, symbol may be delisted')\n"
          ]
        },
        {
          "name": "stdout",
          "output_type": "stream",
          "text": [
            "\n",
            "No data available for 002230\n",
            "[*********************100%%**********************]  1 of 1 completed\n",
            "[*********************100%%**********************]  1 of 1 completed\n",
            "[*********************100%%**********************]  1 of 1 completed\n",
            "[*********************100%%**********************]  1 of 1 completed\n",
            "[*********************100%%**********************]  1 of 1 completed\n",
            "[*********************100%%**********************]  1 of 1 completed\n",
            "[*********************100%%**********************]  1 of 1 completed\n",
            "[*********************100%%**********************]  1 of 1 completed\n",
            "[*********************100%%**********************]  1 of 1 completed\n",
            "[*********************100%%**********************]  1 of 1 completed\n",
            "[*********************100%%**********************]  1 of 1 completed\n",
            "[*********************100%%**********************]  1 of 1 completed\n",
            "[*********************100%%**********************]  1 of 1 completed\n",
            "[*********************100%%**********************]  1 of 1 completed\n",
            "[*********************100%%**********************]  1 of 1 completed\n",
            "[*********************100%%**********************]  1 of 1 completed\n",
            "[*********************100%%**********************]  1 of 1 completed"
          ]
        },
        {
          "name": "stderr",
          "output_type": "stream",
          "text": [
            "\n",
            "1 Failed download:\n",
            "['003100.KS']: Exception('%ticker%: No timezone found, symbol may be delisted')\n"
          ]
        },
        {
          "name": "stdout",
          "output_type": "stream",
          "text": [
            "\n",
            "No data available for 003100\n",
            "[*********************100%%**********************]  1 of 1 completed\n",
            "[*********************100%%**********************]  1 of 1 completed\n",
            "[*********************100%%**********************]  1 of 1 completed\n",
            "[*********************100%%**********************]  1 of 1 completed\n",
            "[*********************100%%**********************]  1 of 1 completed\n",
            "[*********************100%%**********************]  1 of 1 completed\n",
            "[*********************100%%**********************]  1 of 1 completed\n",
            "[*********************100%%**********************]  1 of 1 completed\n",
            "[*********************100%%**********************]  1 of 1 completed\n",
            "[*********************100%%**********************]  1 of 1 completed\n",
            "[*********************100%%**********************]  1 of 1 completed\n",
            "[*********************100%%**********************]  1 of 1 completed\n",
            "[*********************100%%**********************]  1 of 1 completed\n",
            "[*********************100%%**********************]  1 of 1 completed\n",
            "[*********************100%%**********************]  1 of 1 completed\n",
            "[*********************100%%**********************]  1 of 1 completed\n",
            "[*********************100%%**********************]  1 of 1 completed\n",
            "[*********************100%%**********************]  1 of 1 completed\n",
            "[*********************100%%**********************]  1 of 1 completed\n",
            "[*********************100%%**********************]  1 of 1 completed\n",
            "[*********************100%%**********************]  1 of 1 completed\n",
            "[*********************100%%**********************]  1 of 1 completed\n",
            "[*********************100%%**********************]  1 of 1 completed\n",
            "[*********************100%%**********************]  1 of 1 completed\n",
            "[*********************100%%**********************]  1 of 1 completed\n",
            "[*********************100%%**********************]  1 of 1 completed\n",
            "[*********************100%%**********************]  1 of 1 completed\n",
            "[*********************100%%**********************]  1 of 1 completed\n",
            "[*********************100%%**********************]  1 of 1 completed\n",
            "[*********************100%%**********************]  1 of 1 completed"
          ]
        },
        {
          "name": "stderr",
          "output_type": "stream",
          "text": [
            "\n",
            "1 Failed download:\n",
            "['005160.KS']: Exception('%ticker%: No timezone found, symbol may be delisted')\n"
          ]
        },
        {
          "name": "stdout",
          "output_type": "stream",
          "text": [
            "\n",
            "No data available for 005160\n",
            "[*********************100%%**********************]  1 of 1 completed\n",
            "[*********************100%%**********************]  1 of 1 completed\n",
            "[*********************100%%**********************]  1 of 1 completed\n",
            "[*********************100%%**********************]  1 of 1 completed\n",
            "[*********************100%%**********************]  1 of 1 completed"
          ]
        },
        {
          "name": "stderr",
          "output_type": "stream",
          "text": [
            "\n",
            "1 Failed download:\n",
            "['005670.KS']: Exception('%ticker%: No timezone found, symbol may be delisted')\n"
          ]
        },
        {
          "name": "stdout",
          "output_type": "stream",
          "text": [
            "\n",
            "No data available for 005670\n",
            "[*********************100%%**********************]  1 of 1 completed\n",
            "[*********************100%%**********************]  1 of 1 completed"
          ]
        },
        {
          "name": "stderr",
          "output_type": "stream",
          "text": [
            "\n",
            "1 Failed download:\n",
            "['005710.KS']: Exception('%ticker%: No timezone found, symbol may be delisted')\n"
          ]
        },
        {
          "name": "stdout",
          "output_type": "stream",
          "text": [
            "\n",
            "No data available for 005710\n",
            "[*********************100%%**********************]  1 of 1 completed\n",
            "[*********************100%%**********************]  1 of 1 completed\n",
            "[*********************100%%**********************]  1 of 1 completed\n",
            "[*********************100%%**********************]  1 of 1 completed\n",
            "[*********************100%%**********************]  1 of 1 completed\n",
            "[*********************100%%**********************]  1 of 1 completed"
          ]
        },
        {
          "name": "stderr",
          "output_type": "stream",
          "text": [
            "\n",
            "1 Failed download:\n",
            "['005860.KS']: Exception('%ticker%: No timezone found, symbol may be delisted')\n"
          ]
        },
        {
          "name": "stdout",
          "output_type": "stream",
          "text": [
            "\n",
            "No data available for 005860\n",
            "[*********************100%%**********************]  1 of 1 completed\n",
            "[*********************100%%**********************]  1 of 1 completed\n",
            "[*********************100%%**********************]  1 of 1 completed\n",
            "[*********************100%%**********************]  1 of 1 completed\n",
            "[*********************100%%**********************]  1 of 1 completed\n",
            "[*********************100%%**********************]  1 of 1 completed\n",
            "[*********************100%%**********************]  1 of 1 completed"
          ]
        },
        {
          "name": "stderr",
          "output_type": "stream",
          "text": [
            "\n",
            "1 Failed download:\n",
            "['006580.KS']: Exception('%ticker%: No timezone found, symbol may be delisted')\n"
          ]
        },
        {
          "name": "stdout",
          "output_type": "stream",
          "text": [
            "\n",
            "No data available for 006580\n",
            "[*********************100%%**********************]  1 of 1 completed\n",
            "[*********************100%%**********************]  1 of 1 completed\n",
            "[*********************100%%**********************]  1 of 1 completed"
          ]
        },
        {
          "name": "stderr",
          "output_type": "stream",
          "text": [
            "\n",
            "1 Failed download:\n",
            "['006920.KS']: Exception('%ticker%: No timezone found, symbol may be delisted')\n"
          ]
        },
        {
          "name": "stdout",
          "output_type": "stream",
          "text": [
            "\n",
            "No data available for 006920\n",
            "[*********************100%%**********************]  1 of 1 completed\n",
            "[*********************100%%**********************]  1 of 1 completed\n",
            "[*********************100%%**********************]  1 of 1 completed\n",
            "[*********************100%%**********************]  1 of 1 completed\n",
            "[*********************100%%**********************]  1 of 1 completed\n",
            "[*********************100%%**********************]  1 of 1 completed"
          ]
        },
        {
          "name": "stderr",
          "output_type": "stream",
          "text": [
            "\n",
            "1 Failed download:\n",
            "['007720.KS']: Exception('%ticker%: No timezone found, symbol may be delisted')\n"
          ]
        },
        {
          "name": "stdout",
          "output_type": "stream",
          "text": [
            "\n",
            "No data available for 007720\n",
            "[*********************100%%**********************]  1 of 1 completed\n",
            "[*********************100%%**********************]  1 of 1 completed\n",
            "[*********************100%%**********************]  1 of 1 completed\n",
            "[*********************100%%**********************]  1 of 1 completed\n",
            "[*********************100%%**********************]  1 of 1 completed\n",
            "[*********************100%%**********************]  1 of 1 completed\n",
            "[*********************100%%**********************]  1 of 1 completed\n",
            "[*********************100%%**********************]  1 of 1 completed\n",
            "[*********************100%%**********************]  1 of 1 completed\n",
            "[*********************100%%**********************]  1 of 1 completed\n",
            "[*********************100%%**********************]  1 of 1 completed\n",
            "[*********************100%%**********************]  1 of 1 completed\n",
            "[*********************100%%**********************]  1 of 1 completed\n",
            "[*********************100%%**********************]  1 of 1 completed\n",
            "[*********************100%%**********************]  1 of 1 completed\n",
            "[*********************100%%**********************]  1 of 1 completed\n",
            "[*********************100%%**********************]  1 of 1 completed\n",
            "[*********************100%%**********************]  1 of 1 completed\n",
            "[*********************100%%**********************]  1 of 1 completed\n",
            "[*********************100%%**********************]  1 of 1 completed\n",
            "[*********************100%%**********************]  1 of 1 completed\n",
            "[*********************100%%**********************]  1 of 1 completed\n",
            "[*********************100%%**********************]  1 of 1 completed\n",
            "[*********************100%%**********************]  1 of 1 completed\n",
            "[*********************100%%**********************]  1 of 1 completed\n",
            "[*********************100%%**********************]  1 of 1 completed\n",
            "[*********************100%%**********************]  1 of 1 completed\n",
            "[*********************100%%**********************]  1 of 1 completed\n",
            "[*********************100%%**********************]  1 of 1 completed\n",
            "[*********************100%%**********************]  1 of 1 completed\n",
            "[*********************100%%**********************]  1 of 1 completed\n",
            "[*********************100%%**********************]  1 of 1 completed\n",
            "[*********************100%%**********************]  1 of 1 completed\n",
            "[*********************100%%**********************]  1 of 1 completed\n",
            "[*********************100%%**********************]  1 of 1 completed\n",
            "[*********************100%%**********************]  1 of 1 completed\n",
            "[*********************100%%**********************]  1 of 1 completed\n",
            "[*********************100%%**********************]  1 of 1 completed\n",
            "[*********************100%%**********************]  1 of 1 completed\n",
            "[*********************100%%**********************]  1 of 1 completed\n",
            "[*********************100%%**********************]  1 of 1 completed\n",
            "[*********************100%%**********************]  1 of 1 completed\n",
            "[*********************100%%**********************]  1 of 1 completed"
          ]
        },
        {
          "name": "stderr",
          "output_type": "stream",
          "text": [
            "\n",
            "1 Failed download:\n",
            "['012340.KS']: Exception('%ticker%: No timezone found, symbol may be delisted')\n"
          ]
        },
        {
          "name": "stdout",
          "output_type": "stream",
          "text": [
            "\n",
            "No data available for 012340\n",
            "[*********************100%%**********************]  1 of 1 completed\n",
            "[*********************100%%**********************]  1 of 1 completed\n",
            "[*********************100%%**********************]  1 of 1 completed\n",
            "[*********************100%%**********************]  1 of 1 completed\n",
            "[*********************100%%**********************]  1 of 1 completed\n",
            "[*********************100%%**********************]  1 of 1 completed\n",
            "[*********************100%%**********************]  1 of 1 completed\n",
            "[*********************100%%**********************]  1 of 1 completed"
          ]
        },
        {
          "name": "stderr",
          "output_type": "stream",
          "text": [
            "\n",
            "1 Failed download:\n",
            "['013810.KS']: Exception('%ticker%: No timezone found, symbol may be delisted')\n"
          ]
        },
        {
          "name": "stdout",
          "output_type": "stream",
          "text": [
            "\n",
            "No data available for 013810\n",
            "[*********************100%%**********************]  1 of 1 completed"
          ]
        },
        {
          "name": "stderr",
          "output_type": "stream",
          "text": [
            "\n",
            "1 Failed download:\n",
            "['014470.KS']: Exception('%ticker%: No timezone found, symbol may be delisted')\n"
          ]
        },
        {
          "name": "stdout",
          "output_type": "stream",
          "text": [
            "\n",
            "No data available for 014470\n",
            "[*********************100%%**********************]  1 of 1 completed"
          ]
        },
        {
          "name": "stderr",
          "output_type": "stream",
          "text": [
            "\n",
            "1 Failed download:\n",
            "['014620.KS']: Exception('%ticker%: No timezone found, symbol may be delisted')\n"
          ]
        },
        {
          "name": "stdout",
          "output_type": "stream",
          "text": [
            "\n",
            "No data available for 014620\n",
            "[*********************100%%**********************]  1 of 1 completed\n",
            "[*********************100%%**********************]  1 of 1 completed\n",
            "[*********************100%%**********************]  1 of 1 completed\n",
            "[*********************100%%**********************]  1 of 1 completed\n",
            "[*********************100%%**********************]  1 of 1 completed\n",
            "[*********************100%%**********************]  1 of 1 completed\n",
            "[*********************100%%**********************]  1 of 1 completed\n",
            "[*********************100%%**********************]  1 of 1 completed\n",
            "[*********************100%%**********************]  1 of 1 completed\n",
            "[*********************100%%**********************]  1 of 1 completed\n",
            "[*********************100%%**********************]  1 of 1 completed\n",
            "[*********************100%%**********************]  1 of 1 completed\n",
            "[*********************100%%**********************]  1 of 1 completed"
          ]
        },
        {
          "name": "stderr",
          "output_type": "stream",
          "text": [
            "\n",
            "1 Failed download:\n",
            "['016920.KS']: Exception('%ticker%: No timezone found, symbol may be delisted')\n"
          ]
        },
        {
          "name": "stdout",
          "output_type": "stream",
          "text": [
            "\n",
            "No data available for 016920\n",
            "[*********************100%%**********************]  1 of 1 completed\n",
            "[*********************100%%**********************]  1 of 1 completed\n",
            "[*********************100%%**********************]  1 of 1 completed\n",
            "[*********************100%%**********************]  1 of 1 completed\n",
            "[*********************100%%**********************]  1 of 1 completed\n",
            "[*********************100%%**********************]  1 of 1 completed\n",
            "[*********************100%%**********************]  1 of 1 completed"
          ]
        },
        {
          "name": "stderr",
          "output_type": "stream",
          "text": [
            "\n",
            "1 Failed download:\n",
            "['017890.KS']: Exception('%ticker%: No timezone found, symbol may be delisted')\n"
          ]
        },
        {
          "name": "stdout",
          "output_type": "stream",
          "text": [
            "\n",
            "No data available for 017890\n",
            "[*********************100%%**********************]  1 of 1 completed\n",
            "[*********************100%%**********************]  1 of 1 completed\n",
            "[*********************100%%**********************]  1 of 1 completed\n",
            "[*********************100%%**********************]  1 of 1 completed"
          ]
        },
        {
          "name": "stderr",
          "output_type": "stream",
          "text": [
            "\n",
            "1 Failed download:\n",
            "['019010.KS']: Exception('%ticker%: No timezone found, symbol may be delisted')\n"
          ]
        },
        {
          "name": "stdout",
          "output_type": "stream",
          "text": [
            "\n",
            "No data available for 019010\n",
            "[*********************100%%**********************]  1 of 1 completed\n",
            "[*********************100%%**********************]  1 of 1 completed"
          ]
        },
        {
          "name": "stderr",
          "output_type": "stream",
          "text": [
            "\n",
            "1 Failed download:\n",
            "['019210.KS']: Exception('%ticker%: No timezone found, symbol may be delisted')\n"
          ]
        },
        {
          "name": "stdout",
          "output_type": "stream",
          "text": [
            "\n",
            "No data available for 019210\n",
            "[*********************100%%**********************]  1 of 1 completed\n",
            "[*********************100%%**********************]  1 of 1 completed\n",
            "[*********************100%%**********************]  1 of 1 completed"
          ]
        },
        {
          "name": "stderr",
          "output_type": "stream",
          "text": [
            "\n",
            "1 Failed download:\n",
            "['020710.KS']: Exception('%ticker%: No timezone found, symbol may be delisted')\n"
          ]
        },
        {
          "name": "stdout",
          "output_type": "stream",
          "text": [
            "\n",
            "No data available for 020710\n",
            "[*********************100%%**********************]  1 of 1 completed"
          ]
        },
        {
          "name": "stderr",
          "output_type": "stream",
          "text": [
            "\n",
            "1 Failed download:\n",
            "['021650.KS']: Exception('%ticker%: No timezone found, symbol may be delisted')\n"
          ]
        },
        {
          "name": "stdout",
          "output_type": "stream",
          "text": [
            "\n",
            "No data available for 021650\n",
            "[*********************100%%**********************]  1 of 1 completed\n",
            "[*********************100%%**********************]  1 of 1 completed\n",
            "[*********************100%%**********************]  1 of 1 completed"
          ]
        },
        {
          "name": "stderr",
          "output_type": "stream",
          "text": [
            "\n",
            "1 Failed download:\n",
            "['023600.KS']: Exception('%ticker%: No timezone found, symbol may be delisted')\n"
          ]
        },
        {
          "name": "stdout",
          "output_type": "stream",
          "text": [
            "\n",
            "No data available for 023600\n",
            "[*********************100%%**********************]  1 of 1 completed\n",
            "[*********************100%%**********************]  1 of 1 completed\n",
            "[*********************100%%**********************]  1 of 1 completed"
          ]
        },
        {
          "name": "stderr",
          "output_type": "stream",
          "text": [
            "\n",
            "1 Failed download:\n",
            "['023900.KS']: Exception('%ticker%: No timezone found, symbol may be delisted')\n"
          ]
        },
        {
          "name": "stdout",
          "output_type": "stream",
          "text": [
            "\n",
            "No data available for 023900\n",
            "[*********************100%%**********************]  1 of 1 completed\n",
            "[*********************100%%**********************]  1 of 1 completed"
          ]
        },
        {
          "name": "stderr",
          "output_type": "stream",
          "text": [
            "\n",
            "1 Failed download:\n",
            "['024740.KS']: Exception('%ticker%: No timezone found, symbol may be delisted')\n"
          ]
        },
        {
          "name": "stdout",
          "output_type": "stream",
          "text": [
            "\n",
            "No data available for 024740\n",
            "[*********************100%%**********************]  1 of 1 completed\n",
            "[*********************100%%**********************]  1 of 1 completed\n",
            "[*********************100%%**********************]  1 of 1 completed"
          ]
        },
        {
          "name": "stderr",
          "output_type": "stream",
          "text": [
            "\n",
            "1 Failed download:\n",
            "['025320.KS']: Exception('%ticker%: No timezone found, symbol may be delisted')\n"
          ]
        },
        {
          "name": "stdout",
          "output_type": "stream",
          "text": [
            "\n",
            "No data available for 025320\n",
            "[*********************100%%**********************]  1 of 1 completed"
          ]
        },
        {
          "name": "stderr",
          "output_type": "stream",
          "text": [
            "\n",
            "1 Failed download:\n",
            "['025440.KS']: Exception('%ticker%: No timezone found, symbol may be delisted')\n"
          ]
        },
        {
          "name": "stdout",
          "output_type": "stream",
          "text": [
            "\n",
            "No data available for 025440\n",
            "[*********************100%%**********************]  1 of 1 completed\n",
            "[*********************100%%**********************]  1 of 1 completed\n",
            "[*********************100%%**********************]  1 of 1 completed\n",
            "[*********************100%%**********************]  1 of 1 completed\n",
            "[*********************100%%**********************]  1 of 1 completed\n",
            "[*********************100%%**********************]  1 of 1 completed"
          ]
        },
        {
          "name": "stderr",
          "output_type": "stream",
          "text": [
            "\n",
            "1 Failed download:\n",
            "['027040.KS']: Exception('%ticker%: No timezone found, symbol may be delisted')\n"
          ]
        },
        {
          "name": "stdout",
          "output_type": "stream",
          "text": [
            "\n",
            "No data available for 027040\n",
            "[*********************100%%**********************]  1 of 1 completed"
          ]
        },
        {
          "name": "stderr",
          "output_type": "stream",
          "text": [
            "\n",
            "1 Failed download:\n",
            "['027710.KS']: Exception('%ticker%: No timezone found, symbol may be delisted')\n"
          ]
        },
        {
          "name": "stdout",
          "output_type": "stream",
          "text": [
            "\n",
            "No data available for 027710\n",
            "[*********************100%%**********************]  1 of 1 completed"
          ]
        },
        {
          "name": "stderr",
          "output_type": "stream",
          "text": [
            "\n",
            "1 Failed download:\n",
            "['028300.KS']: Exception('%ticker%: No timezone found, symbol may be delisted')\n"
          ]
        },
        {
          "name": "stdout",
          "output_type": "stream",
          "text": [
            "\n",
            "No data available for 028300\n",
            "[*********************100%%**********************]  1 of 1 completed\n",
            "[*********************100%%**********************]  1 of 1 completed\n",
            "[*********************100%%**********************]  1 of 1 completed\n",
            "[*********************100%%**********************]  1 of 1 completed\n",
            "[*********************100%%**********************]  1 of 1 completed\n",
            "[*********************100%%**********************]  1 of 1 completed"
          ]
        },
        {
          "name": "stderr",
          "output_type": "stream",
          "text": [
            "\n",
            "1 Failed download:\n",
            "['030530.KS']: Exception('%ticker%: No timezone found, symbol may be delisted')\n"
          ]
        },
        {
          "name": "stdout",
          "output_type": "stream",
          "text": [
            "\n",
            "No data available for 030530\n",
            "[*********************100%%**********************]  1 of 1 completed"
          ]
        },
        {
          "name": "stderr",
          "output_type": "stream",
          "text": [
            "\n",
            "1 Failed download:\n",
            "['031310.KS']: Exception('%ticker%: No timezone found, symbol may be delisted')\n"
          ]
        },
        {
          "name": "stdout",
          "output_type": "stream",
          "text": [
            "\n",
            "No data available for 031310\n",
            "[*********************100%%**********************]  1 of 1 completed"
          ]
        },
        {
          "name": "stderr",
          "output_type": "stream",
          "text": [
            "\n",
            "1 Failed download:\n",
            "['031330.KS']: Exception('%ticker%: No timezone found, symbol may be delisted')\n"
          ]
        },
        {
          "name": "stdout",
          "output_type": "stream",
          "text": [
            "\n",
            "No data available for 031330\n",
            "[*********************100%%**********************]  1 of 1 completed"
          ]
        },
        {
          "name": "stderr",
          "output_type": "stream",
          "text": [
            "\n",
            "1 Failed download:\n",
            "['031510.KS']: Exception('%ticker%: No timezone found, symbol may be delisted')\n"
          ]
        },
        {
          "name": "stdout",
          "output_type": "stream",
          "text": [
            "\n",
            "No data available for 031510\n",
            "[*********************100%%**********************]  1 of 1 completed"
          ]
        },
        {
          "name": "stderr",
          "output_type": "stream",
          "text": [
            "\n",
            "1 Failed download:\n",
            "['032500.KS']: Exception('%ticker%: No timezone found, symbol may be delisted')\n"
          ]
        },
        {
          "name": "stdout",
          "output_type": "stream",
          "text": [
            "\n",
            "No data available for 032500\n",
            "[*********************100%%**********************]  1 of 1 completed\n",
            "[*********************100%%**********************]  1 of 1 completed\n",
            "[*********************100%%**********************]  1 of 1 completed"
          ]
        },
        {
          "name": "stderr",
          "output_type": "stream",
          "text": [
            "\n",
            "1 Failed download:\n",
            "['032750.KS']: Exception('%ticker%: No timezone found, symbol may be delisted')\n"
          ]
        },
        {
          "name": "stdout",
          "output_type": "stream",
          "text": [
            "\n",
            "No data available for 032750\n",
            "[*********************100%%**********************]  1 of 1 completed"
          ]
        },
        {
          "name": "stderr",
          "output_type": "stream",
          "text": [
            "\n",
            "1 Failed download:\n",
            "['032940.KS']: Exception('%ticker%: No timezone found, symbol may be delisted')\n"
          ]
        },
        {
          "name": "stdout",
          "output_type": "stream",
          "text": [
            "\n",
            "No data available for 032940\n",
            "[*********************100%%**********************]  1 of 1 completed"
          ]
        },
        {
          "name": "stderr",
          "output_type": "stream",
          "text": [
            "\n",
            "1 Failed download:\n",
            "['033050.KS']: Exception('%ticker%: No timezone found, symbol may be delisted')\n"
          ]
        },
        {
          "name": "stdout",
          "output_type": "stream",
          "text": [
            "\n",
            "No data available for 033050\n",
            "[*********************100%%**********************]  1 of 1 completed\n",
            "[*********************100%%**********************]  1 of 1 completed"
          ]
        },
        {
          "name": "stderr",
          "output_type": "stream",
          "text": [
            "\n",
            "1 Failed download:\n",
            "['033230.KS']: Exception('%ticker%: No timezone found, symbol may be delisted')\n"
          ]
        },
        {
          "name": "stdout",
          "output_type": "stream",
          "text": [
            "\n",
            "No data available for 033230\n",
            "[*********************100%%**********************]  1 of 1 completed\n",
            "[*********************100%%**********************]  1 of 1 completed"
          ]
        },
        {
          "name": "stderr",
          "output_type": "stream",
          "text": [
            "\n",
            "1 Failed download:\n",
            "['033290.KS']: Exception('%ticker%: No timezone found, symbol may be delisted')\n"
          ]
        },
        {
          "name": "stdout",
          "output_type": "stream",
          "text": [
            "\n",
            "No data available for 033290\n",
            "[*********************100%%**********************]  1 of 1 completed\n",
            "[*********************100%%**********************]  1 of 1 completed"
          ]
        },
        {
          "name": "stderr",
          "output_type": "stream",
          "text": [
            "\n",
            "1 Failed download:\n",
            "['033560.KS']: Exception('%ticker%: No timezone found, symbol may be delisted')\n"
          ]
        },
        {
          "name": "stdout",
          "output_type": "stream",
          "text": [
            "\n",
            "No data available for 033560\n",
            "[*********************100%%**********************]  1 of 1 completed"
          ]
        },
        {
          "name": "stderr",
          "output_type": "stream",
          "text": [
            "\n",
            "1 Failed download:\n",
            "['033640.KS']: Exception('%ticker%: No timezone found, symbol may be delisted')\n"
          ]
        },
        {
          "name": "stdout",
          "output_type": "stream",
          "text": [
            "\n",
            "No data available for 033640\n",
            "[*********************100%%**********************]  1 of 1 completed\n",
            "[*********************100%%**********************]  1 of 1 completed\n",
            "[*********************100%%**********************]  1 of 1 completed\n",
            "[*********************100%%**********************]  1 of 1 completed\n",
            "[*********************100%%**********************]  1 of 1 completed"
          ]
        },
        {
          "name": "stderr",
          "output_type": "stream",
          "text": [
            "\n",
            "1 Failed download:\n",
            "['034230.KS']: Exception('%ticker%: No timezone found, symbol may be delisted')\n"
          ]
        },
        {
          "name": "stdout",
          "output_type": "stream",
          "text": [
            "\n",
            "No data available for 034230\n",
            "[*********************100%%**********************]  1 of 1 completed\n",
            "[*********************100%%**********************]  1 of 1 completed\n",
            "[*********************100%%**********************]  1 of 1 completed"
          ]
        },
        {
          "name": "stderr",
          "output_type": "stream",
          "text": [
            "\n",
            "1 Failed download:\n",
            "['034950.KS']: Exception('%ticker%: No timezone found, symbol may be delisted')\n"
          ]
        },
        {
          "name": "stdout",
          "output_type": "stream",
          "text": [
            "\n",
            "No data available for 034950\n",
            "[*********************100%%**********************]  1 of 1 completed"
          ]
        },
        {
          "name": "stderr",
          "output_type": "stream",
          "text": [
            "\n",
            "1 Failed download:\n",
            "['035080.KS']: Exception('%ticker%: No timezone found, symbol may be delisted')\n"
          ]
        },
        {
          "name": "stdout",
          "output_type": "stream",
          "text": [
            "\n",
            "No data available for 035080\n",
            "[*********************100%%**********************]  1 of 1 completed\n",
            "[*********************100%%**********************]  1 of 1 completed\n",
            "[*********************100%%**********************]  1 of 1 completed"
          ]
        },
        {
          "name": "stderr",
          "output_type": "stream",
          "text": [
            "\n",
            "1 Failed download:\n",
            "['035460.KS']: Exception('%ticker%: No timezone found, symbol may be delisted')\n"
          ]
        },
        {
          "name": "stdout",
          "output_type": "stream",
          "text": [
            "\n",
            "No data available for 035460\n",
            "[*********************100%%**********************]  1 of 1 completed"
          ]
        },
        {
          "name": "stderr",
          "output_type": "stream",
          "text": [
            "\n",
            "1 Failed download:\n",
            "['035610.KS']: Exception('%ticker%: No timezone found, symbol may be delisted')\n"
          ]
        },
        {
          "name": "stdout",
          "output_type": "stream",
          "text": [
            "\n",
            "No data available for 035610\n",
            "[*********************100%%**********************]  1 of 1 completed\n",
            "[*********************100%%**********************]  1 of 1 completed"
          ]
        },
        {
          "name": "stderr",
          "output_type": "stream",
          "text": [
            "\n",
            "1 Failed download:\n",
            "['035760.KS']: Exception('%ticker%: No timezone found, symbol may be delisted')\n"
          ]
        },
        {
          "name": "stdout",
          "output_type": "stream",
          "text": [
            "\n",
            "No data available for 035760\n",
            "[*********************100%%**********************]  1 of 1 completed"
          ]
        },
        {
          "name": "stderr",
          "output_type": "stream",
          "text": [
            "\n",
            "1 Failed download:\n",
            "['035810.KS']: Exception('%ticker%: No timezone found, symbol may be delisted')\n"
          ]
        },
        {
          "name": "stdout",
          "output_type": "stream",
          "text": [
            "\n",
            "No data available for 035810\n",
            "[*********************100%%**********************]  1 of 1 completed\n",
            "[*********************100%%**********************]  1 of 1 completed"
          ]
        },
        {
          "name": "stderr",
          "output_type": "stream",
          "text": [
            "\n",
            "1 Failed download:\n",
            "['036690.KS']: Exception('%ticker%: No timezone found, symbol may be delisted')\n"
          ]
        },
        {
          "name": "stdout",
          "output_type": "stream",
          "text": [
            "\n",
            "No data available for 036690\n",
            "[*********************100%%**********************]  1 of 1 completed\n",
            "[*********************100%%**********************]  1 of 1 completed"
          ]
        },
        {
          "name": "stderr",
          "output_type": "stream",
          "text": [
            "\n",
            "1 Failed download:\n",
            "['036830.KS']: Exception('%ticker%: No timezone found, symbol may be delisted')\n"
          ]
        },
        {
          "name": "stdout",
          "output_type": "stream",
          "text": [
            "\n",
            "No data available for 036830\n",
            "[*********************100%%**********************]  1 of 1 completed"
          ]
        },
        {
          "name": "stderr",
          "output_type": "stream",
          "text": [
            "\n",
            "1 Failed download:\n",
            "['036890.KS']: Exception('%ticker%: No timezone found, symbol may be delisted')\n"
          ]
        },
        {
          "name": "stdout",
          "output_type": "stream",
          "text": [
            "\n",
            "No data available for 036890\n",
            "[*********************100%%**********************]  1 of 1 completed"
          ]
        },
        {
          "name": "stderr",
          "output_type": "stream",
          "text": [
            "\n",
            "1 Failed download:\n",
            "['036930.KS']: Exception('%ticker%: No timezone found, symbol may be delisted')\n"
          ]
        },
        {
          "name": "stdout",
          "output_type": "stream",
          "text": [
            "\n",
            "No data available for 036930\n",
            "[*********************100%%**********************]  1 of 1 completed"
          ]
        },
        {
          "name": "stderr",
          "output_type": "stream",
          "text": [
            "\n",
            "1 Failed download:\n",
            "['037330.KS']: Exception('%ticker%: No timezone found, symbol may be delisted')\n"
          ]
        },
        {
          "name": "stdout",
          "output_type": "stream",
          "text": [
            "\n",
            "No data available for 037330\n",
            "[*********************100%%**********************]  1 of 1 completed"
          ]
        },
        {
          "name": "stderr",
          "output_type": "stream",
          "text": [
            "\n",
            "1 Failed download:\n",
            "['037350.KS']: Exception('%ticker%: No timezone found, symbol may be delisted')\n"
          ]
        },
        {
          "name": "stdout",
          "output_type": "stream",
          "text": [
            "\n",
            "No data available for 037350\n",
            "[*********************100%%**********************]  1 of 1 completed"
          ]
        },
        {
          "name": "stderr",
          "output_type": "stream",
          "text": [
            "\n",
            "1 Failed download:\n",
            "['037370.KS']: Exception('%ticker%: No timezone found, symbol may be delisted')\n"
          ]
        },
        {
          "name": "stdout",
          "output_type": "stream",
          "text": [
            "\n",
            "No data available for 037370\n",
            "[*********************100%%**********************]  1 of 1 completed"
          ]
        },
        {
          "name": "stderr",
          "output_type": "stream",
          "text": [
            "\n",
            "1 Failed download:\n",
            "['037400.KS']: Exception('%ticker%: No timezone found, symbol may be delisted')\n"
          ]
        },
        {
          "name": "stdout",
          "output_type": "stream",
          "text": [
            "\n",
            "No data available for 037400\n",
            "[*********************100%%**********************]  1 of 1 completed"
          ]
        },
        {
          "name": "stderr",
          "output_type": "stream",
          "text": [
            "\n",
            "1 Failed download:\n",
            "['038340.KS']: Exception('%ticker%: No timezone found, symbol may be delisted')\n"
          ]
        },
        {
          "name": "stdout",
          "output_type": "stream",
          "text": [
            "\n",
            "No data available for 038340\n",
            "[*********************100%%**********************]  1 of 1 completed"
          ]
        },
        {
          "name": "stderr",
          "output_type": "stream",
          "text": [
            "\n",
            "1 Failed download:\n",
            "['038500.KS']: Exception('%ticker%: No timezone found, symbol may be delisted')\n"
          ]
        },
        {
          "name": "stdout",
          "output_type": "stream",
          "text": [
            "\n",
            "No data available for 038500\n",
            "[*********************100%%**********************]  1 of 1 completed"
          ]
        },
        {
          "name": "stderr",
          "output_type": "stream",
          "text": [
            "\n",
            "1 Failed download:\n",
            "['038680.KS']: Exception('%ticker%: No timezone found, symbol may be delisted')\n"
          ]
        },
        {
          "name": "stdout",
          "output_type": "stream",
          "text": [
            "\n",
            "No data available for 038680\n",
            "[*********************100%%**********************]  1 of 1 completed"
          ]
        },
        {
          "name": "stderr",
          "output_type": "stream",
          "text": [
            "\n",
            "1 Failed download:\n",
            "['038870.KS']: Exception('%ticker%: No timezone found, symbol may be delisted')\n"
          ]
        },
        {
          "name": "stdout",
          "output_type": "stream",
          "text": [
            "\n",
            "No data available for 038870\n",
            "[*********************100%%**********************]  1 of 1 completed"
          ]
        },
        {
          "name": "stderr",
          "output_type": "stream",
          "text": [
            "\n",
            "1 Failed download:\n",
            "['039020.KS']: Exception('%ticker%: No timezone found, symbol may be delisted')\n"
          ]
        },
        {
          "name": "stdout",
          "output_type": "stream",
          "text": [
            "\n",
            "No data available for 039020\n",
            "[*********************100%%**********************]  1 of 1 completed"
          ]
        },
        {
          "name": "stderr",
          "output_type": "stream",
          "text": [
            "\n",
            "1 Failed download:\n",
            "['039030.KS']: Exception('%ticker%: No timezone found, symbol may be delisted')\n"
          ]
        },
        {
          "name": "stdout",
          "output_type": "stream",
          "text": [
            "\n",
            "No data available for 039030\n",
            "[*********************100%%**********************]  1 of 1 completed"
          ]
        },
        {
          "name": "stderr",
          "output_type": "stream",
          "text": [
            "\n",
            "1 Failed download:\n",
            "['039310.KS']: Exception('%ticker%: No timezone found, symbol may be delisted')\n"
          ]
        },
        {
          "name": "stdout",
          "output_type": "stream",
          "text": [
            "\n",
            "No data available for 039310\n",
            "[*********************100%%**********************]  1 of 1 completed"
          ]
        },
        {
          "name": "stderr",
          "output_type": "stream",
          "text": [
            "\n",
            "1 Failed download:\n",
            "['039740.KS']: Exception('%ticker%: No timezone found, symbol may be delisted')\n"
          ]
        },
        {
          "name": "stdout",
          "output_type": "stream",
          "text": [
            "\n",
            "No data available for 039740\n",
            "[*********************100%%**********************]  1 of 1 completed"
          ]
        },
        {
          "name": "stderr",
          "output_type": "stream",
          "text": [
            "\n",
            "1 Failed download:\n",
            "['040160.KS']: Exception('%ticker%: No timezone found, symbol may be delisted')\n"
          ]
        },
        {
          "name": "stdout",
          "output_type": "stream",
          "text": [
            "\n",
            "No data available for 040160\n",
            "[*********************100%%**********************]  1 of 1 completed"
          ]
        },
        {
          "name": "stderr",
          "output_type": "stream",
          "text": [
            "\n",
            "1 Failed download:\n",
            "['040350.KS']: Exception('%ticker%: No timezone found, symbol may be delisted')\n"
          ]
        },
        {
          "name": "stdout",
          "output_type": "stream",
          "text": [
            "\n",
            "No data available for 040350\n",
            "[*********************100%%**********************]  1 of 1 completed"
          ]
        },
        {
          "name": "stderr",
          "output_type": "stream",
          "text": [
            "\n",
            "1 Failed download:\n",
            "['040610.KS']: Exception('%ticker%: No timezone found, symbol may be delisted')\n"
          ]
        },
        {
          "name": "stdout",
          "output_type": "stream",
          "text": [
            "\n",
            "No data available for 040610\n",
            "[*********************100%%**********************]  1 of 1 completed"
          ]
        },
        {
          "name": "stderr",
          "output_type": "stream",
          "text": [
            "\n",
            "1 Failed download:\n",
            "['041520.KS']: Exception('%ticker%: No timezone found, symbol may be delisted')\n"
          ]
        },
        {
          "name": "stdout",
          "output_type": "stream",
          "text": [
            "\n",
            "No data available for 041520\n",
            "[*********************100%%**********************]  1 of 1 completed\n",
            "[*********************100%%**********************]  1 of 1 completed"
          ]
        },
        {
          "name": "stderr",
          "output_type": "stream",
          "text": [
            "\n",
            "1 Failed download:\n",
            "['041930.KS']: Exception('%ticker%: No timezone found, symbol may be delisted')\n"
          ]
        },
        {
          "name": "stdout",
          "output_type": "stream",
          "text": [
            "\n",
            "No data available for 041930\n",
            "[*********************100%%**********************]  1 of 1 completed"
          ]
        },
        {
          "name": "stderr",
          "output_type": "stream",
          "text": [
            "\n",
            "1 Failed download:\n",
            "['042420.KS']: Exception('%ticker%: No timezone found, symbol may be delisted')\n"
          ]
        },
        {
          "name": "stdout",
          "output_type": "stream",
          "text": [
            "\n",
            "No data available for 042420\n",
            "[*********************100%%**********************]  1 of 1 completed\n",
            "[*********************100%%**********************]  1 of 1 completed\n",
            "[*********************100%%**********************]  1 of 1 completed"
          ]
        },
        {
          "name": "stderr",
          "output_type": "stream",
          "text": [
            "\n",
            "1 Failed download:\n",
            "['043370.KS']: Exception('%ticker%: No timezone found, symbol may be delisted')\n"
          ]
        },
        {
          "name": "stdout",
          "output_type": "stream",
          "text": [
            "\n",
            "No data available for 043370\n",
            "[*********************100%%**********************]  1 of 1 completed\n",
            "[*********************100%%**********************]  1 of 1 completed\n",
            "[*********************100%%**********************]  1 of 1 completed"
          ]
        },
        {
          "name": "stderr",
          "output_type": "stream",
          "text": [
            "\n",
            "1 Failed download:\n",
            "['045060.KS']: Exception('%ticker%: No timezone found, symbol may be delisted')\n"
          ]
        },
        {
          "name": "stdout",
          "output_type": "stream",
          "text": [
            "\n",
            "No data available for 045060\n",
            "[*********************100%%**********************]  1 of 1 completed"
          ]
        },
        {
          "name": "stderr",
          "output_type": "stream",
          "text": [
            "\n",
            "1 Failed download:\n",
            "['045100.KS']: Exception('%ticker%: No timezone found, symbol may be delisted')\n"
          ]
        },
        {
          "name": "stdout",
          "output_type": "stream",
          "text": [
            "\n",
            "No data available for 045100\n",
            "[*********************100%%**********************]  1 of 1 completed"
          ]
        },
        {
          "name": "stderr",
          "output_type": "stream",
          "text": [
            "\n",
            "1 Failed download:\n",
            "['045300.KS']: Exception('%ticker%: No timezone found, symbol may be delisted')\n"
          ]
        },
        {
          "name": "stdout",
          "output_type": "stream",
          "text": [
            "\n",
            "No data available for 045300\n",
            "[*********************100%%**********************]  1 of 1 completed"
          ]
        },
        {
          "name": "stderr",
          "output_type": "stream",
          "text": [
            "\n",
            "1 Failed download:\n",
            "['045970.KS']: Exception('%ticker%: No timezone found, symbol may be delisted')\n"
          ]
        },
        {
          "name": "stdout",
          "output_type": "stream",
          "text": [
            "\n",
            "No data available for 045970\n",
            "[*********************100%%**********************]  1 of 1 completed"
          ]
        },
        {
          "name": "stderr",
          "output_type": "stream",
          "text": [
            "\n",
            "1 Failed download:\n",
            "['046310.KS']: Exception('%ticker%: No timezone found, symbol may be delisted')\n"
          ]
        },
        {
          "name": "stdout",
          "output_type": "stream",
          "text": [
            "\n",
            "No data available for 046310\n",
            "[*********************100%%**********************]  1 of 1 completed"
          ]
        },
        {
          "name": "stderr",
          "output_type": "stream",
          "text": [
            "\n",
            "1 Failed download:\n",
            "['046890.KS']: Exception('%ticker%: No timezone found, symbol may be delisted')\n"
          ]
        },
        {
          "name": "stdout",
          "output_type": "stream",
          "text": [
            "\n",
            "No data available for 046890\n",
            "[*********************100%%**********************]  1 of 1 completed"
          ]
        },
        {
          "name": "stderr",
          "output_type": "stream",
          "text": [
            "\n",
            "1 Failed download:\n",
            "['046940.KS']: Exception('%ticker%: No timezone found, symbol may be delisted')\n"
          ]
        },
        {
          "name": "stdout",
          "output_type": "stream",
          "text": [
            "\n",
            "No data available for 046940\n",
            "[*********************100%%**********************]  1 of 1 completed\n",
            "[*********************100%%**********************]  1 of 1 completed\n",
            "[*********************100%%**********************]  1 of 1 completed"
          ]
        },
        {
          "name": "stderr",
          "output_type": "stream",
          "text": [
            "\n",
            "1 Failed download:\n",
            "['047310.KS']: Exception('%ticker%: No timezone found, symbol may be delisted')\n"
          ]
        },
        {
          "name": "stdout",
          "output_type": "stream",
          "text": [
            "\n",
            "No data available for 047310\n",
            "[*********************100%%**********************]  1 of 1 completed"
          ]
        },
        {
          "name": "stderr",
          "output_type": "stream",
          "text": [
            "\n",
            "1 Failed download:\n",
            "['047770.KS']: Exception('%ticker%: No timezone found, symbol may be delisted')\n"
          ]
        },
        {
          "name": "stdout",
          "output_type": "stream",
          "text": [
            "\n",
            "No data available for 047770\n",
            "[*********************100%%**********************]  1 of 1 completed"
          ]
        },
        {
          "name": "stderr",
          "output_type": "stream",
          "text": [
            "\n",
            "1 Failed download:\n",
            "['047820.KS']: Exception('%ticker%: No timezone found, symbol may be delisted')\n"
          ]
        },
        {
          "name": "stdout",
          "output_type": "stream",
          "text": [
            "\n",
            "No data available for 047820\n",
            "[*********************100%%**********************]  1 of 1 completed"
          ]
        },
        {
          "name": "stderr",
          "output_type": "stream",
          "text": [
            "\n",
            "1 Failed download:\n",
            "['048410.KS']: Exception('%ticker%: No timezone found, symbol may be delisted')\n"
          ]
        },
        {
          "name": "stdout",
          "output_type": "stream",
          "text": [
            "\n",
            "No data available for 048410\n",
            "[*********************100%%**********************]  1 of 1 completed"
          ]
        },
        {
          "name": "stderr",
          "output_type": "stream",
          "text": [
            "\n",
            "1 Failed download:\n",
            "['048550.KS']: Exception('%ticker%: No timezone found, symbol may be delisted')\n"
          ]
        },
        {
          "name": "stdout",
          "output_type": "stream",
          "text": [
            "\n",
            "No data available for 048550\n",
            "[*********************100%%**********************]  1 of 1 completed"
          ]
        },
        {
          "name": "stderr",
          "output_type": "stream",
          "text": [
            "\n",
            "1 Failed download:\n",
            "['048870.KS']: Exception('%ticker%: No timezone found, symbol may be delisted')\n"
          ]
        },
        {
          "name": "stdout",
          "output_type": "stream",
          "text": [
            "\n",
            "No data available for 048870\n",
            "[*********************100%%**********************]  1 of 1 completed"
          ]
        },
        {
          "name": "stderr",
          "output_type": "stream",
          "text": [
            "\n",
            "1 Failed download:\n",
            "['048910.KS']: Exception('%ticker%: No timezone found, symbol may be delisted')\n"
          ]
        },
        {
          "name": "stdout",
          "output_type": "stream",
          "text": [
            "\n",
            "No data available for 048910\n",
            "[*********************100%%**********************]  1 of 1 completed\n",
            "[*********************100%%**********************]  1 of 1 completed"
          ]
        },
        {
          "name": "stderr",
          "output_type": "stream",
          "text": [
            "\n",
            "1 Failed download:\n",
            "['049430.KS']: Exception('%ticker%: No timezone found, symbol may be delisted')\n"
          ]
        },
        {
          "name": "stdout",
          "output_type": "stream",
          "text": [
            "\n",
            "No data available for 049430\n",
            "[*********************100%%**********************]  1 of 1 completed"
          ]
        },
        {
          "name": "stderr",
          "output_type": "stream",
          "text": [
            "\n",
            "1 Failed download:\n",
            "['049520.KS']: Exception('%ticker%: No timezone found, symbol may be delisted')\n"
          ]
        },
        {
          "name": "stdout",
          "output_type": "stream",
          "text": [
            "\n",
            "No data available for 049520\n",
            "[*********************100%%**********************]  1 of 1 completed\n",
            "[*********************100%%**********************]  1 of 1 completed\n",
            "[*********************100%%**********************]  1 of 1 completed"
          ]
        },
        {
          "name": "stderr",
          "output_type": "stream",
          "text": [
            "\n",
            "1 Failed download:\n",
            "['050760.KS']: Exception('%ticker%: No timezone found, symbol may be delisted')\n"
          ]
        },
        {
          "name": "stdout",
          "output_type": "stream",
          "text": [
            "\n",
            "No data available for 050760\n",
            "[*********************100%%**********************]  1 of 1 completed"
          ]
        },
        {
          "name": "stderr",
          "output_type": "stream",
          "text": [
            "\n",
            "1 Failed download:\n",
            "['050890.KS']: Exception('%ticker%: No timezone found, symbol may be delisted')\n"
          ]
        },
        {
          "name": "stdout",
          "output_type": "stream",
          "text": [
            "\n",
            "No data available for 050890\n",
            "[*********************100%%**********************]  1 of 1 completed"
          ]
        },
        {
          "name": "stderr",
          "output_type": "stream",
          "text": [
            "\n",
            "1 Failed download:\n",
            "['051490.KS']: Exception('%ticker%: No timezone found, symbol may be delisted')\n"
          ]
        },
        {
          "name": "stdout",
          "output_type": "stream",
          "text": [
            "\n",
            "No data available for 051490\n",
            "[*********************100%%**********************]  1 of 1 completed"
          ]
        },
        {
          "name": "stderr",
          "output_type": "stream",
          "text": [
            "\n",
            "1 Failed download:\n",
            "['051780.KS']: Exception('%ticker%: No timezone found, symbol may be delisted')\n"
          ]
        },
        {
          "name": "stdout",
          "output_type": "stream",
          "text": [
            "\n",
            "No data available for 051780\n",
            "[*********************100%%**********************]  1 of 1 completed\n",
            "[*********************100%%**********************]  1 of 1 completed"
          ]
        },
        {
          "name": "stderr",
          "output_type": "stream",
          "text": [
            "\n",
            "1 Failed download:\n",
            "['052300.KS']: Exception('%ticker%: No timezone found, symbol may be delisted')\n"
          ]
        },
        {
          "name": "stdout",
          "output_type": "stream",
          "text": [
            "\n",
            "No data available for 052300\n",
            "[*********************100%%**********************]  1 of 1 completed"
          ]
        },
        {
          "name": "stderr",
          "output_type": "stream",
          "text": [
            "\n",
            "1 Failed download:\n",
            "['052710.KS']: Exception('%ticker%: No timezone found, symbol may be delisted')\n"
          ]
        },
        {
          "name": "stdout",
          "output_type": "stream",
          "text": [
            "\n",
            "No data available for 052710\n",
            "[*********************100%%**********************]  1 of 1 completed"
          ]
        },
        {
          "name": "stderr",
          "output_type": "stream",
          "text": [
            "\n",
            "1 Failed download:\n",
            "['053060.KS']: Exception('%ticker%: No timezone found, symbol may be delisted')\n"
          ]
        },
        {
          "name": "stdout",
          "output_type": "stream",
          "text": [
            "\n",
            "No data available for 053060\n",
            "[*********************100%%**********************]  1 of 1 completed\n",
            "No data available for 053210 for the year 2010\n",
            "No data available for 053210 for the year 2010\n",
            "No data available for 053210 for the year 2010\n",
            "No data available for 053210 for the year 2010\n",
            "No data available for 053210 for the year 2010\n",
            "No data available for 053210 for the year 2010\n",
            "No data available for 053210 for the year 2010\n",
            "No data available for 053210 for the year 2010\n",
            "No data available for 053210 for the year 2010\n",
            "No data available for 053210 for the year 2010\n",
            "No data available for 053210 for the year 2010\n",
            "No data available for 053210 for the year 2010\n",
            "No data available for 053210 for the year 2010\n",
            "[*********************100%%**********************]  1 of 1 completed"
          ]
        },
        {
          "name": "stderr",
          "output_type": "stream",
          "text": [
            "\n",
            "1 Failed download:\n",
            "['053270.KS']: Exception('%ticker%: No timezone found, symbol may be delisted')\n"
          ]
        },
        {
          "name": "stdout",
          "output_type": "stream",
          "text": [
            "\n",
            "No data available for 053270\n",
            "[*********************100%%**********************]  1 of 1 completed"
          ]
        },
        {
          "name": "stderr",
          "output_type": "stream",
          "text": [
            "\n",
            "1 Failed download:\n",
            "['053450.KS']: Exception('%ticker%: No timezone found, symbol may be delisted')\n"
          ]
        },
        {
          "name": "stdout",
          "output_type": "stream",
          "text": [
            "\n",
            "No data available for 053450\n",
            "[*********************100%%**********************]  1 of 1 completed"
          ]
        },
        {
          "name": "stderr",
          "output_type": "stream",
          "text": [
            "\n",
            "1 Failed download:\n",
            "['053980.KS']: Exception('%ticker%: No timezone found, symbol may be delisted')\n"
          ]
        },
        {
          "name": "stdout",
          "output_type": "stream",
          "text": [
            "\n",
            "No data available for 053980\n",
            "[*********************100%%**********************]  1 of 1 completed"
          ]
        },
        {
          "name": "stderr",
          "output_type": "stream",
          "text": [
            "\n",
            "1 Failed download:\n",
            "['054090.KS']: Exception('%ticker%: No timezone found, symbol may be delisted')\n"
          ]
        },
        {
          "name": "stdout",
          "output_type": "stream",
          "text": [
            "\n",
            "No data available for 054090\n",
            "[*********************100%%**********************]  1 of 1 completed\n",
            "[*********************100%%**********************]  1 of 1 completed\n",
            "[*********************100%%**********************]  1 of 1 completed"
          ]
        },
        {
          "name": "stderr",
          "output_type": "stream",
          "text": [
            "\n",
            "1 Failed download:\n",
            "['054940.KS']: Exception('%ticker%: No timezone found, symbol may be delisted')\n"
          ]
        },
        {
          "name": "stdout",
          "output_type": "stream",
          "text": [
            "\n",
            "No data available for 054940\n",
            "[*********************100%%**********************]  1 of 1 completed"
          ]
        },
        {
          "name": "stderr",
          "output_type": "stream",
          "text": [
            "\n",
            "1 Failed download:\n",
            "['056190.KS']: Exception('%ticker%: No timezone found, symbol may be delisted')\n"
          ]
        },
        {
          "name": "stdout",
          "output_type": "stream",
          "text": [
            "\n",
            "No data available for 056190\n",
            "[*********************100%%**********************]  1 of 1 completed"
          ]
        },
        {
          "name": "stderr",
          "output_type": "stream",
          "text": [
            "\n",
            "1 Failed download:\n",
            "['056700.KS']: Exception('%ticker%: No timezone found, symbol may be delisted')\n"
          ]
        },
        {
          "name": "stdout",
          "output_type": "stream",
          "text": [
            "\n",
            "No data available for 056700\n",
            "[*********************100%%**********************]  1 of 1 completed"
          ]
        },
        {
          "name": "stderr",
          "output_type": "stream",
          "text": [
            "\n",
            "1 Failed download:\n",
            "['058610.KS']: Exception('%ticker%: No timezone found, symbol may be delisted')\n"
          ]
        },
        {
          "name": "stdout",
          "output_type": "stream",
          "text": [
            "\n",
            "No data available for 058610\n",
            "[*********************100%%**********************]  1 of 1 completed\n",
            "[*********************100%%**********************]  1 of 1 completed\n",
            "[*********************100%%**********************]  1 of 1 completed"
          ]
        },
        {
          "name": "stderr",
          "output_type": "stream",
          "text": [
            "\n",
            "1 Failed download:\n",
            "['060540.KS']: Exception('%ticker%: No timezone found, symbol may be delisted')\n"
          ]
        },
        {
          "name": "stdout",
          "output_type": "stream",
          "text": [
            "\n",
            "No data available for 060540\n",
            "[*********************100%%**********************]  1 of 1 completed"
          ]
        },
        {
          "name": "stderr",
          "output_type": "stream",
          "text": [
            "\n",
            "1 Failed download:\n",
            "['060560.KS']: Exception('%ticker%: No timezone found, symbol may be delisted')\n"
          ]
        },
        {
          "name": "stdout",
          "output_type": "stream",
          "text": [
            "\n",
            "No data available for 060560\n",
            "[*********************100%%**********************]  1 of 1 completed"
          ]
        },
        {
          "name": "stderr",
          "output_type": "stream",
          "text": [
            "\n",
            "1 Failed download:\n",
            "['060570.KS']: Exception('%ticker%: No timezone found, symbol may be delisted')\n"
          ]
        },
        {
          "name": "stdout",
          "output_type": "stream",
          "text": [
            "\n",
            "No data available for 060570\n",
            "[*********************100%%**********************]  1 of 1 completed"
          ]
        },
        {
          "name": "stderr",
          "output_type": "stream",
          "text": [
            "\n",
            "1 Failed download:\n",
            "['060720.KS']: Exception('%ticker%: No timezone found, symbol may be delisted')\n"
          ]
        },
        {
          "name": "stdout",
          "output_type": "stream",
          "text": [
            "\n",
            "No data available for 060720\n",
            "[*********************100%%**********************]  1 of 1 completed\n",
            "[*********************100%%**********************]  1 of 1 completed"
          ]
        },
        {
          "name": "stderr",
          "output_type": "stream",
          "text": [
            "\n",
            "1 Failed download:\n",
            "['061040.KS']: Exception('%ticker%: No timezone found, symbol may be delisted')\n"
          ]
        },
        {
          "name": "stdout",
          "output_type": "stream",
          "text": [
            "\n",
            "No data available for 061040\n",
            "[*********************100%%**********************]  1 of 1 completed\n",
            "[*********************100%%**********************]  1 of 1 completed"
          ]
        },
        {
          "name": "stderr",
          "output_type": "stream",
          "text": [
            "\n",
            "1 Failed download:\n",
            "['065060.KS']: Exception('%ticker%: No timezone found, symbol may be delisted')\n"
          ]
        },
        {
          "name": "stdout",
          "output_type": "stream",
          "text": [
            "\n",
            "No data available for 065060\n",
            "[*********************100%%**********************]  1 of 1 completed"
          ]
        },
        {
          "name": "stderr",
          "output_type": "stream",
          "text": [
            "\n",
            "1 Failed download:\n",
            "['065170.KS']: Exception('%ticker%: No timezone found, symbol may be delisted')\n"
          ]
        },
        {
          "name": "stdout",
          "output_type": "stream",
          "text": [
            "\n",
            "No data available for 065170\n",
            "[*********************100%%**********************]  1 of 1 completed\n",
            "[*********************100%%**********************]  1 of 1 completed\n",
            "[*********************100%%**********************]  1 of 1 completed"
          ]
        },
        {
          "name": "stderr",
          "output_type": "stream",
          "text": [
            "\n",
            "1 Failed download:\n",
            "['065690.KS']: Exception('%ticker%: No timezone found, symbol may be delisted')\n"
          ]
        },
        {
          "name": "stdout",
          "output_type": "stream",
          "text": [
            "\n",
            "No data available for 065690\n",
            "[*********************100%%**********************]  1 of 1 completed"
          ]
        },
        {
          "name": "stderr",
          "output_type": "stream",
          "text": [
            "\n",
            "1 Failed download:\n",
            "['065770.KS']: Exception('%ticker%: No timezone found, symbol may be delisted')\n"
          ]
        },
        {
          "name": "stdout",
          "output_type": "stream",
          "text": [
            "\n",
            "No data available for 065770\n",
            "[*********************100%%**********************]  1 of 1 completed\n",
            "[*********************100%%**********************]  1 of 1 completed"
          ]
        },
        {
          "name": "stderr",
          "output_type": "stream",
          "text": [
            "\n",
            "1 Failed download:\n",
            "['066590.KS']: Exception('%ticker%: No timezone found, symbol may be delisted')\n"
          ]
        },
        {
          "name": "stdout",
          "output_type": "stream",
          "text": [
            "\n",
            "No data available for 066590\n",
            "[*********************100%%**********************]  1 of 1 completed"
          ]
        },
        {
          "name": "stderr",
          "output_type": "stream",
          "text": [
            "\n",
            "1 Failed download:\n",
            "['066620.KS']: Exception('%ticker%: No timezone found, symbol may be delisted')\n"
          ]
        },
        {
          "name": "stdout",
          "output_type": "stream",
          "text": [
            "\n",
            "No data available for 066620\n",
            "[*********************100%%**********************]  1 of 1 completed"
          ]
        },
        {
          "name": "stderr",
          "output_type": "stream",
          "text": [
            "\n",
            "1 Failed download:\n",
            "['066970.KS']: Exception('%ticker%: No timezone found, symbol may be delisted')\n"
          ]
        },
        {
          "name": "stdout",
          "output_type": "stream",
          "text": [
            "\n",
            "No data available for 066970\n",
            "[*********************100%%**********************]  1 of 1 completed"
          ]
        },
        {
          "name": "stderr",
          "output_type": "stream",
          "text": [
            "\n",
            "1 Failed download:\n",
            "['067770.KS']: Exception('%ticker%: No timezone found, symbol may be delisted')\n"
          ]
        },
        {
          "name": "stdout",
          "output_type": "stream",
          "text": [
            "\n",
            "No data available for 067770\n",
            "[*********************100%%**********************]  1 of 1 completed"
          ]
        },
        {
          "name": "stderr",
          "output_type": "stream",
          "text": [
            "\n",
            "1 Failed download:\n",
            "['068790.KS']: Exception('%ticker%: No timezone found, symbol may be delisted')\n"
          ]
        },
        {
          "name": "stdout",
          "output_type": "stream",
          "text": [
            "\n",
            "No data available for 068790\n",
            "[*********************100%%**********************]  1 of 1 completed"
          ]
        },
        {
          "name": "stderr",
          "output_type": "stream",
          "text": [
            "\n",
            "1 Failed download:\n",
            "['069510.KS']: Exception('%ticker%: No timezone found, symbol may be delisted')\n"
          ]
        },
        {
          "name": "stdout",
          "output_type": "stream",
          "text": [
            "\n",
            "No data available for 069510\n",
            "[*********************100%%**********************]  1 of 1 completed"
          ]
        },
        {
          "name": "stderr",
          "output_type": "stream",
          "text": [
            "\n",
            "1 Failed download:\n",
            "['069540.KS']: Exception('%ticker%: No timezone found, symbol may be delisted')\n"
          ]
        },
        {
          "name": "stdout",
          "output_type": "stream",
          "text": [
            "\n",
            "No data available for 069540\n",
            "[*********************100%%**********************]  1 of 1 completed\n",
            "[*********************100%%**********************]  1 of 1 completed\n",
            "[*********************100%%**********************]  1 of 1 completed"
          ]
        },
        {
          "name": "stderr",
          "output_type": "stream",
          "text": [
            "\n",
            "1 Failed download:\n",
            "['072520.KS']: Exception('%ticker%: No timezone found, symbol may be delisted')\n"
          ]
        },
        {
          "name": "stdout",
          "output_type": "stream",
          "text": [
            "\n",
            "No data available for 072520\n",
            "[*********************100%%**********************]  1 of 1 completed"
          ]
        },
        {
          "name": "stderr",
          "output_type": "stream",
          "text": [
            "\n",
            "1 Failed download:\n",
            "['073190.KS']: Exception('%ticker%: No timezone found, symbol may be delisted')\n"
          ]
        },
        {
          "name": "stdout",
          "output_type": "stream",
          "text": [
            "\n",
            "No data available for 073190\n",
            "[*********************100%%**********************]  1 of 1 completed\n",
            "[*********************100%%**********************]  1 of 1 completed"
          ]
        },
        {
          "name": "stderr",
          "output_type": "stream",
          "text": [
            "\n",
            "1 Failed download:\n",
            "['074600.KS']: Exception('%ticker%: No timezone found, symbol may be delisted')\n"
          ]
        },
        {
          "name": "stdout",
          "output_type": "stream",
          "text": [
            "\n",
            "No data available for 074600\n",
            "[*********************100%%**********************]  1 of 1 completed\n",
            "[*********************100%%**********************]  1 of 1 completed\n",
            "[*********************100%%**********************]  1 of 1 completed"
          ]
        },
        {
          "name": "stderr",
          "output_type": "stream",
          "text": [
            "\n",
            "1 Failed download:\n",
            "['078350.KS']: Exception('%ticker%: No timezone found, symbol may be delisted')\n"
          ]
        },
        {
          "name": "stdout",
          "output_type": "stream",
          "text": [
            "\n",
            "No data available for 078350\n",
            "[*********************100%%**********************]  1 of 1 completed"
          ]
        },
        {
          "name": "stderr",
          "output_type": "stream",
          "text": [
            "\n",
            "1 Failed download:\n",
            "['078600.KS']: Exception('%ticker%: No timezone found, symbol may be delisted')\n"
          ]
        },
        {
          "name": "stdout",
          "output_type": "stream",
          "text": [
            "\n",
            "No data available for 078600\n",
            "[*********************100%%**********************]  1 of 1 completed\n",
            "[*********************100%%**********************]  1 of 1 completed\n",
            "[*********************100%%**********************]  1 of 1 completed"
          ]
        },
        {
          "name": "stderr",
          "output_type": "stream",
          "text": [
            "\n",
            "1 Failed download:\n",
            "['079370.KS']: Exception('%ticker%: No timezone found, symbol may be delisted')\n"
          ]
        },
        {
          "name": "stdout",
          "output_type": "stream",
          "text": [
            "\n",
            "No data available for 079370\n",
            "[*********************100%%**********************]  1 of 1 completed"
          ]
        },
        {
          "name": "stderr",
          "output_type": "stream",
          "text": [
            "\n",
            "1 Failed download:\n",
            "['079650.KS']: Exception('%ticker%: No timezone found, symbol may be delisted')\n"
          ]
        },
        {
          "name": "stdout",
          "output_type": "stream",
          "text": [
            "\n",
            "No data available for 079650\n",
            "[*********************100%%**********************]  1 of 1 completed"
          ]
        },
        {
          "name": "stderr",
          "output_type": "stream",
          "text": [
            "\n",
            "1 Failed download:\n",
            "['079940.KS']: Exception('%ticker%: No timezone found, symbol may be delisted')\n"
          ]
        },
        {
          "name": "stdout",
          "output_type": "stream",
          "text": [
            "\n",
            "No data available for 079940\n",
            "[*********************100%%**********************]  1 of 1 completed"
          ]
        },
        {
          "name": "stderr",
          "output_type": "stream",
          "text": [
            "\n",
            "1 Failed download:\n",
            "['079960.KS']: Exception('%ticker%: No timezone found, symbol may be delisted')\n"
          ]
        },
        {
          "name": "stdout",
          "output_type": "stream",
          "text": [
            "\n",
            "No data available for 079960\n",
            "[*********************100%%**********************]  1 of 1 completed"
          ]
        },
        {
          "name": "stderr",
          "output_type": "stream",
          "text": [
            "\n",
            "1 Failed download:\n",
            "['080470.KS']: Exception('%ticker%: No timezone found, symbol may be delisted')\n"
          ]
        },
        {
          "name": "stdout",
          "output_type": "stream",
          "text": [
            "\n",
            "No data available for 080470\n",
            "[*********************100%%**********************]  1 of 1 completed"
          ]
        },
        {
          "name": "stderr",
          "output_type": "stream",
          "text": [
            "\n",
            "1 Failed download:\n",
            "['080520.KS']: Exception('%ticker%: No timezone found, symbol may be delisted')\n"
          ]
        },
        {
          "name": "stdout",
          "output_type": "stream",
          "text": [
            "\n",
            "No data available for 080520\n",
            "[*********************100%%**********************]  1 of 1 completed\n",
            "[*********************100%%**********************]  1 of 1 completed"
          ]
        },
        {
          "name": "stderr",
          "output_type": "stream",
          "text": [
            "\n",
            "1 Failed download:\n",
            "['082210.KS']: Exception('%ticker%: No timezone found, symbol may be delisted')\n"
          ]
        },
        {
          "name": "stdout",
          "output_type": "stream",
          "text": [
            "\n",
            "No data available for 082210\n",
            "[*********************100%%**********************]  1 of 1 completed"
          ]
        },
        {
          "name": "stderr",
          "output_type": "stream",
          "text": [
            "\n",
            "1 Failed download:\n",
            "['082850.KS']: Exception('%ticker%: No timezone found, symbol may be delisted')\n"
          ]
        },
        {
          "name": "stdout",
          "output_type": "stream",
          "text": [
            "\n",
            "No data available for 082850\n",
            "[*********************100%%**********************]  1 of 1 completed"
          ]
        },
        {
          "name": "stderr",
          "output_type": "stream",
          "text": [
            "\n",
            "1 Failed download:\n",
            "['083470.KS']: Exception('%ticker%: No timezone found, symbol may be delisted')\n"
          ]
        },
        {
          "name": "stdout",
          "output_type": "stream",
          "text": [
            "\n",
            "No data available for 083470\n",
            "[*********************100%%**********************]  1 of 1 completed"
          ]
        },
        {
          "name": "stderr",
          "output_type": "stream",
          "text": [
            "\n",
            "1 Failed download:\n",
            "['083550.KS']: Exception('%ticker%: No timezone found, symbol may be delisted')\n"
          ]
        },
        {
          "name": "stdout",
          "output_type": "stream",
          "text": [
            "\n",
            "No data available for 083550\n",
            "[*********************100%%**********************]  1 of 1 completed\n",
            "[*********************100%%**********************]  1 of 1 completed\n",
            "[*********************100%%**********************]  1 of 1 completed"
          ]
        },
        {
          "name": "stderr",
          "output_type": "stream",
          "text": [
            "\n",
            "1 Failed download:\n",
            "['085660.KS']: Exception('%ticker%: No timezone found, symbol may be delisted')\n"
          ]
        },
        {
          "name": "stdout",
          "output_type": "stream",
          "text": [
            "\n",
            "No data available for 085660\n",
            "[*********************100%%**********************]  1 of 1 completed"
          ]
        },
        {
          "name": "stderr",
          "output_type": "stream",
          "text": [
            "\n",
            "1 Failed download:\n",
            "['086060.KS']: Exception('%ticker%: No timezone found, symbol may be delisted')\n"
          ]
        },
        {
          "name": "stdout",
          "output_type": "stream",
          "text": [
            "\n",
            "No data available for 086060\n",
            "[*********************100%%**********************]  1 of 1 completed\n",
            "[*********************100%%**********************]  1 of 1 completed"
          ]
        },
        {
          "name": "stderr",
          "output_type": "stream",
          "text": [
            "\n",
            "1 Failed download:\n",
            "['086980.KS']: Exception('%ticker%: No timezone found, symbol may be delisted')\n"
          ]
        },
        {
          "name": "stdout",
          "output_type": "stream",
          "text": [
            "\n",
            "No data available for 086980\n",
            "[*********************100%%**********************]  1 of 1 completed"
          ]
        },
        {
          "name": "stderr",
          "output_type": "stream",
          "text": [
            "\n",
            "1 Failed download:\n",
            "['088130.KS']: Exception('%ticker%: No timezone found, symbol may be delisted')\n"
          ]
        },
        {
          "name": "stdout",
          "output_type": "stream",
          "text": [
            "\n",
            "No data available for 088130\n",
            "[*********************100%%**********************]  1 of 1 completed"
          ]
        },
        {
          "name": "stderr",
          "output_type": "stream",
          "text": [
            "\n",
            "1 Failed download:\n",
            "['089010.KS']: Exception('%ticker%: No timezone found, symbol may be delisted')\n"
          ]
        },
        {
          "name": "stdout",
          "output_type": "stream",
          "text": [
            "\n",
            "No data available for 089010\n",
            "[*********************100%%**********************]  1 of 1 completed\n",
            "[*********************100%%**********************]  1 of 1 completed\n",
            "[*********************100%%**********************]  1 of 1 completed"
          ]
        },
        {
          "name": "stderr",
          "output_type": "stream",
          "text": [
            "\n",
            "1 Failed download:\n",
            "['091590.KS']: Exception('%ticker%: No timezone found, symbol may be delisted')\n"
          ]
        },
        {
          "name": "stdout",
          "output_type": "stream",
          "text": [
            "\n",
            "No data available for 091590\n",
            "[*********************100%%**********************]  1 of 1 completed"
          ]
        },
        {
          "name": "stderr",
          "output_type": "stream",
          "text": [
            "\n",
            "1 Failed download:\n",
            "['091700.KS']: Exception('%ticker%: No timezone found, symbol may be delisted')\n"
          ]
        },
        {
          "name": "stdout",
          "output_type": "stream",
          "text": [
            "\n",
            "No data available for 091700\n",
            "[*********************100%%**********************]  1 of 1 completed"
          ]
        },
        {
          "name": "stderr",
          "output_type": "stream",
          "text": [
            "\n",
            "1 Failed download:\n",
            "['091970.KS']: Exception('%ticker%: No timezone found, symbol may be delisted')\n"
          ]
        },
        {
          "name": "stdout",
          "output_type": "stream",
          "text": [
            "\n",
            "No data available for 091970\n",
            "[*********************100%%**********************]  1 of 1 completed\n",
            "[*********************100%%**********************]  1 of 1 completed\n",
            "[*********************100%%**********************]  1 of 1 completed\n",
            "[*********************100%%**********************]  1 of 1 completed"
          ]
        },
        {
          "name": "stderr",
          "output_type": "stream",
          "text": [
            "\n",
            "1 Failed download:\n",
            "['093920.KS']: Exception('%ticker%: No timezone found, symbol may be delisted')\n"
          ]
        },
        {
          "name": "stdout",
          "output_type": "stream",
          "text": [
            "\n",
            "No data available for 093920\n",
            "[*********************100%%**********************]  1 of 1 completed\n",
            "[*********************100%%**********************]  1 of 1 completed"
          ]
        },
        {
          "name": "stderr",
          "output_type": "stream",
          "text": [
            "\n",
            "1 Failed download:\n",
            "['094480.KS']: Exception('%ticker%: No timezone found, symbol may be delisted')\n"
          ]
        },
        {
          "name": "stdout",
          "output_type": "stream",
          "text": [
            "\n",
            "No data available for 094480\n",
            "[*********************100%%**********************]  1 of 1 completed"
          ]
        },
        {
          "name": "stderr",
          "output_type": "stream",
          "text": [
            "\n",
            "1 Failed download:\n",
            "['094970.KS']: Exception('%ticker%: No timezone found, symbol may be delisted')\n"
          ]
        },
        {
          "name": "stdout",
          "output_type": "stream",
          "text": [
            "\n",
            "No data available for 094970\n",
            "[*********************100%%**********************]  1 of 1 completed"
          ]
        },
        {
          "name": "stderr",
          "output_type": "stream",
          "text": [
            "\n",
            "1 Failed download:\n",
            "['095500.KS']: Exception('%ticker%: No timezone found, symbol may be delisted')\n"
          ]
        },
        {
          "name": "stdout",
          "output_type": "stream",
          "text": [
            "\n",
            "No data available for 095500\n",
            "[*********************100%%**********************]  1 of 1 completed"
          ]
        },
        {
          "name": "stderr",
          "output_type": "stream",
          "text": [
            "\n",
            "1 Failed download:\n",
            "['095660.KS']: Exception('%ticker%: No timezone found, symbol may be delisted')\n"
          ]
        },
        {
          "name": "stdout",
          "output_type": "stream",
          "text": [
            "\n",
            "No data available for 095660\n",
            "[*********************100%%**********************]  1 of 1 completed\n",
            "[*********************100%%**********************]  1 of 1 completed\n",
            "[*********************100%%**********************]  1 of 1 completed\n",
            "[*********************100%%**********************]  1 of 1 completed\n",
            "[*********************100%%**********************]  1 of 1 completed"
          ]
        },
        {
          "name": "stderr",
          "output_type": "stream",
          "text": [
            "\n",
            "1 Failed download:\n",
            "['097780.KS']: Exception('%ticker%: No timezone found, symbol may be delisted')\n"
          ]
        },
        {
          "name": "stdout",
          "output_type": "stream",
          "text": [
            "\n",
            "No data available for 097780\n",
            "[*********************100%%**********************]  1 of 1 completed\n",
            "[*********************100%%**********************]  1 of 1 completed"
          ]
        },
        {
          "name": "stderr",
          "output_type": "stream",
          "text": [
            "\n",
            "1 Failed download:\n",
            "['099220.KS']: Exception('%ticker%: No timezone found, symbol may be delisted')\n"
          ]
        },
        {
          "name": "stdout",
          "output_type": "stream",
          "text": [
            "\n",
            "No data available for 099220\n",
            "[*********************100%%**********************]  1 of 1 completed\n",
            "[*********************100%%**********************]  1 of 1 completed"
          ]
        },
        {
          "name": "stderr",
          "output_type": "stream",
          "text": [
            "\n",
            "1 Failed download:\n",
            "['101160.KS']: Exception('%ticker%: No timezone found, symbol may be delisted')\n"
          ]
        },
        {
          "name": "stdout",
          "output_type": "stream",
          "text": [
            "\n",
            "No data available for 101160\n",
            "[*********************100%%**********************]  1 of 1 completed\n",
            "[*********************100%%**********************]  1 of 1 completed"
          ]
        },
        {
          "name": "stderr",
          "output_type": "stream",
          "text": [
            "\n",
            "1 Failed download:\n",
            "['101390.KS']: Exception('%ticker%: No timezone found, symbol may be delisted')\n"
          ]
        },
        {
          "name": "stdout",
          "output_type": "stream",
          "text": [
            "\n",
            "No data available for 101390\n",
            "[*********************100%%**********************]  1 of 1 completed\n",
            "[*********************100%%**********************]  1 of 1 completed\n",
            "[*********************100%%**********************]  1 of 1 completed\n",
            "[*********************100%%**********************]  1 of 1 completed\n",
            "[*********************100%%**********************]  1 of 1 completed"
          ]
        },
        {
          "name": "stderr",
          "output_type": "stream",
          "text": [
            "\n",
            "1 Failed download:\n",
            "['106240.KS']: Exception('%ticker%: No timezone found, symbol may be delisted')\n"
          ]
        },
        {
          "name": "stdout",
          "output_type": "stream",
          "text": [
            "\n",
            "No data available for 106240\n",
            "[*********************100%%**********************]  1 of 1 completed\n",
            "[*********************100%%**********************]  1 of 1 completed\n",
            "[*********************100%%**********************]  1 of 1 completed"
          ]
        },
        {
          "name": "stderr",
          "output_type": "stream",
          "text": [
            "\n",
            "1 Failed download:\n",
            "['115160.KS']: Exception('%ticker%: No timezone found, symbol may be delisted')\n"
          ]
        },
        {
          "name": "stdout",
          "output_type": "stream",
          "text": [
            "\n",
            "No data available for 115160\n",
            "[*********************100%%**********************]  1 of 1 completed\n",
            "[*********************100%%**********************]  1 of 1 completed"
          ]
        },
        {
          "name": "stderr",
          "output_type": "stream",
          "text": [
            "\n",
            "1 Failed download:\n",
            "['122990.KS']: Exception('%ticker%: No timezone found, symbol may be delisted')\n"
          ]
        },
        {
          "name": "stdout",
          "output_type": "stream",
          "text": [
            "\n",
            "No data available for 122990\n",
            "[*********************100%%**********************]  1 of 1 completed\n",
            "[*********************100%%**********************]  1 of 1 completed"
          ]
        },
        {
          "name": "stderr",
          "output_type": "stream",
          "text": [
            "\n",
            "1 Failed download:\n",
            "['131290.KS']: Exception('%ticker%: No timezone found, symbol may be delisted')\n"
          ]
        },
        {
          "name": "stdout",
          "output_type": "stream",
          "text": [
            "\n",
            "No data available for 131290\n",
            "[*********************100%%**********************]  1 of 1 completed"
          ]
        },
        {
          "name": "stderr",
          "output_type": "stream",
          "text": [
            "\n",
            "1 Failed download:\n",
            "['900070.KS']: Exception('%ticker%: No timezone found, symbol may be delisted')\n"
          ]
        },
        {
          "name": "stdout",
          "output_type": "stream",
          "text": [
            "\n",
            "No data available for 900070\n",
            "[*********************100%%**********************]  1 of 1 completed\n"
          ]
        }
      ],
      "source": [
        "#yf.download('005930.KS', start='2010-01-01', end='2022-12-31')\n",
        "result_list = []\n",
        "for i in ticker_list:\n",
        "    data = yf.download(f'{i}.KS', start='2010-01-01', end='2022-12-31')\n",
        "    if not data.empty:  # 데이터프레임이 비어있는지 확인\n",
        "        for j in years:\n",
        "            if (data.index.year == 2010).any():  # 해당 연도의 데이터가 있는지 확인\n",
        "                a = data.loc[data.index.year == 2010].head(1)['Adj Close'][0]\n",
        "                b = data.loc[data.index.year == 2018].head(1)['Adj Close'][0]\n",
        "                c = data.loc[data.index.year == j].tail(1)['Adj Close'][0]\n",
        "                result_list.append({\n",
        "                    'ticker': i,\n",
        "                    'year': j,\n",
        "                    '2010_head': a,\n",
        "                    '2018_head': b,\n",
        "                    'year_tail': c\n",
        "                })\n",
        "            else:\n",
        "                print(f\"No data available for {i} for the year 2010\")\n",
        "    else:\n",
        "        print(f\"No data available for {i}\")\n",
        "\n",
        "result_df = pd.DataFrame(result_list)"
      ]
    },
    {
      "cell_type": "code",
      "execution_count": null,
      "metadata": {
        "id": "V6Xc-SR7DAyh",
        "outputId": "8397f5c3-9ac9-4cd5-d624-e1121b372920"
      },
      "outputs": [
        {
          "data": {
            "text/html": [
              "<div>\n",
              "<style scoped>\n",
              "    .dataframe tbody tr th:only-of-type {\n",
              "        vertical-align: middle;\n",
              "    }\n",
              "\n",
              "    .dataframe tbody tr th {\n",
              "        vertical-align: top;\n",
              "    }\n",
              "\n",
              "    .dataframe thead th {\n",
              "        text-align: right;\n",
              "    }\n",
              "</style>\n",
              "<table border=\"1\" class=\"dataframe\">\n",
              "  <thead>\n",
              "    <tr style=\"text-align: right;\">\n",
              "      <th></th>\n",
              "      <th>ticker</th>\n",
              "      <th>year</th>\n",
              "      <th>2010_head</th>\n",
              "      <th>2018_head</th>\n",
              "      <th>year_tail</th>\n",
              "      <th>CAGR_train</th>\n",
              "      <th>CAGR_test</th>\n",
              "    </tr>\n",
              "  </thead>\n",
              "  <tbody>\n",
              "    <tr>\n",
              "      <th>0</th>\n",
              "      <td>000040</td>\n",
              "      <td>2010</td>\n",
              "      <td>3569.998291</td>\n",
              "      <td>1991.999023</td>\n",
              "      <td>4049.998047</td>\n",
              "      <td>0.134454</td>\n",
              "      <td>-0.096400</td>\n",
              "    </tr>\n",
              "    <tr>\n",
              "      <th>1</th>\n",
              "      <td>000040</td>\n",
              "      <td>2011</td>\n",
              "      <td>3569.998291</td>\n",
              "      <td>1991.999023</td>\n",
              "      <td>3989.998047</td>\n",
              "      <td>0.057188</td>\n",
              "      <td>-0.109325</td>\n",
              "    </tr>\n",
              "    <tr>\n",
              "      <th>2</th>\n",
              "      <td>000040</td>\n",
              "      <td>2012</td>\n",
              "      <td>3569.998291</td>\n",
              "      <td>1991.999023</td>\n",
              "      <td>2963.998535</td>\n",
              "      <td>-0.060125</td>\n",
              "      <td>-0.076404</td>\n",
              "    </tr>\n",
              "    <tr>\n",
              "      <th>3</th>\n",
              "      <td>000040</td>\n",
              "      <td>2013</td>\n",
              "      <td>3569.998291</td>\n",
              "      <td>1991.999023</td>\n",
              "      <td>2627.998779</td>\n",
              "      <td>-0.073726</td>\n",
              "      <td>-0.066926</td>\n",
              "    </tr>\n",
              "    <tr>\n",
              "      <th>4</th>\n",
              "      <td>000040</td>\n",
              "      <td>2014</td>\n",
              "      <td>3569.998291</td>\n",
              "      <td>1991.999023</td>\n",
              "      <td>6209.997070</td>\n",
              "      <td>0.117081</td>\n",
              "      <td>-0.315459</td>\n",
              "    </tr>\n",
              "    <tr>\n",
              "      <th>...</th>\n",
              "      <td>...</td>\n",
              "      <td>...</td>\n",
              "      <td>...</td>\n",
              "      <td>...</td>\n",
              "      <td>...</td>\n",
              "      <td>...</td>\n",
              "      <td>...</td>\n",
              "    </tr>\n",
              "    <tr>\n",
              "      <th>3466</th>\n",
              "      <td>900140</td>\n",
              "      <td>2018</td>\n",
              "      <td>4710.367676</td>\n",
              "      <td>4248.348145</td>\n",
              "      <td>2186.079834</td>\n",
              "      <td>-0.081759</td>\n",
              "      <td>-0.485428</td>\n",
              "    </tr>\n",
              "    <tr>\n",
              "      <th>3467</th>\n",
              "      <td>900140</td>\n",
              "      <td>2019</td>\n",
              "      <td>4710.367676</td>\n",
              "      <td>4248.348145</td>\n",
              "      <td>3903.043701</td>\n",
              "      <td>-0.018625</td>\n",
              "      <td>-0.041501</td>\n",
              "    </tr>\n",
              "    <tr>\n",
              "      <th>3468</th>\n",
              "      <td>900140</td>\n",
              "      <td>2020</td>\n",
              "      <td>4710.367676</td>\n",
              "      <td>4248.348145</td>\n",
              "      <td>3612.191895</td>\n",
              "      <td>-0.023843</td>\n",
              "      <td>-0.052636</td>\n",
              "    </tr>\n",
              "    <tr>\n",
              "      <th>3469</th>\n",
              "      <td>900140</td>\n",
              "      <td>2021</td>\n",
              "      <td>4710.367676</td>\n",
              "      <td>4248.348145</td>\n",
              "      <td>3415.163330</td>\n",
              "      <td>-0.026439</td>\n",
              "      <td>-0.053114</td>\n",
              "    </tr>\n",
              "    <tr>\n",
              "      <th>3470</th>\n",
              "      <td>900140</td>\n",
              "      <td>2022</td>\n",
              "      <td>4710.367676</td>\n",
              "      <td>4248.348145</td>\n",
              "      <td>2467.549316</td>\n",
              "      <td>-0.048517</td>\n",
              "      <td>-0.102965</td>\n",
              "    </tr>\n",
              "  </tbody>\n",
              "</table>\n",
              "<p>3471 rows × 7 columns</p>\n",
              "</div>"
            ],
            "text/plain": [
              "      ticker  year    2010_head    2018_head    year_tail  CAGR_train  \\\n",
              "0     000040  2010  3569.998291  1991.999023  4049.998047    0.134454   \n",
              "1     000040  2011  3569.998291  1991.999023  3989.998047    0.057188   \n",
              "2     000040  2012  3569.998291  1991.999023  2963.998535   -0.060125   \n",
              "3     000040  2013  3569.998291  1991.999023  2627.998779   -0.073726   \n",
              "4     000040  2014  3569.998291  1991.999023  6209.997070    0.117081   \n",
              "...      ...   ...          ...          ...          ...         ...   \n",
              "3466  900140  2018  4710.367676  4248.348145  2186.079834   -0.081759   \n",
              "3467  900140  2019  4710.367676  4248.348145  3903.043701   -0.018625   \n",
              "3468  900140  2020  4710.367676  4248.348145  3612.191895   -0.023843   \n",
              "3469  900140  2021  4710.367676  4248.348145  3415.163330   -0.026439   \n",
              "3470  900140  2022  4710.367676  4248.348145  2467.549316   -0.048517   \n",
              "\n",
              "      CAGR_test  \n",
              "0     -0.096400  \n",
              "1     -0.109325  \n",
              "2     -0.076404  \n",
              "3     -0.066926  \n",
              "4     -0.315459  \n",
              "...         ...  \n",
              "3466  -0.485428  \n",
              "3467  -0.041501  \n",
              "3468  -0.052636  \n",
              "3469  -0.053114  \n",
              "3470  -0.102965  \n",
              "\n",
              "[3471 rows x 7 columns]"
            ]
          },
          "execution_count": 497,
          "metadata": {},
          "output_type": "execute_result"
        }
      ],
      "source": [
        "result_df"
      ]
    },
    {
      "cell_type": "code",
      "execution_count": null,
      "metadata": {
        "id": "52RU34NSDAyh",
        "outputId": "e3edb43a-b07c-41bc-a262-6bd28a23a5ed"
      },
      "outputs": [
        {
          "data": {
            "text/plain": [
              "ticker        0\n",
              "year          0\n",
              "2010_head     0\n",
              "2018_head     0\n",
              "year_tail     0\n",
              "CAGR_train    0\n",
              "CAGR_test     0\n",
              "dtype: int64"
            ]
          },
          "execution_count": 498,
          "metadata": {},
          "output_type": "execute_result"
        }
      ],
      "source": [
        "result_df.isna().sum()"
      ]
    },
    {
      "cell_type": "code",
      "execution_count": null,
      "metadata": {
        "id": "8W26YYa1DAyh"
      },
      "outputs": [],
      "source": [
        "import pandas as pd\n",
        "\n",
        "# CAGR 계산 함수 정의\n",
        "def calculate_cagr(beginning_value, ending_value, num_years):\n",
        "    return ((ending_value / beginning_value) ** (1 / num_years)) - 1\n",
        "\n",
        "# CAGR_train 및 CAGR_test 계산하여 데이터프레임 업데이트\n",
        "result_df['CAGR_train'] =  calculate_cagr(result_df['2010_head'], result_df['year_tail'], result_df['year'] - 2010 + 1)\n",
        "result_df['CAGR_test'] = calculate_cagr(result_df['2018_head'], result_df['year_tail'], result_df['year'] - 2018 + 1)\n",
        "\n"
      ]
    },
    {
      "cell_type": "code",
      "execution_count": null,
      "metadata": {
        "id": "TiSDr3NvDAyh",
        "outputId": "a6b6d841-feed-410c-eddc-2c98022438a4"
      },
      "outputs": [
        {
          "data": {
            "text/html": [
              "<div>\n",
              "<style scoped>\n",
              "    .dataframe tbody tr th:only-of-type {\n",
              "        vertical-align: middle;\n",
              "    }\n",
              "\n",
              "    .dataframe tbody tr th {\n",
              "        vertical-align: top;\n",
              "    }\n",
              "\n",
              "    .dataframe thead th {\n",
              "        text-align: right;\n",
              "    }\n",
              "</style>\n",
              "<table border=\"1\" class=\"dataframe\">\n",
              "  <thead>\n",
              "    <tr style=\"text-align: right;\">\n",
              "      <th></th>\n",
              "      <th>ticker</th>\n",
              "      <th>year</th>\n",
              "      <th>2010_head</th>\n",
              "      <th>2018_head</th>\n",
              "      <th>year_tail</th>\n",
              "      <th>CAGR_train</th>\n",
              "      <th>CAGR_test</th>\n",
              "    </tr>\n",
              "  </thead>\n",
              "  <tbody>\n",
              "    <tr>\n",
              "      <th>0</th>\n",
              "      <td>000040</td>\n",
              "      <td>2010</td>\n",
              "      <td>3569.998291</td>\n",
              "      <td>1991.999023</td>\n",
              "      <td>4049.998047</td>\n",
              "      <td>0.134454</td>\n",
              "      <td>-0.096400</td>\n",
              "    </tr>\n",
              "    <tr>\n",
              "      <th>1</th>\n",
              "      <td>000040</td>\n",
              "      <td>2011</td>\n",
              "      <td>3569.998291</td>\n",
              "      <td>1991.999023</td>\n",
              "      <td>3989.998047</td>\n",
              "      <td>0.057188</td>\n",
              "      <td>-0.109325</td>\n",
              "    </tr>\n",
              "    <tr>\n",
              "      <th>2</th>\n",
              "      <td>000040</td>\n",
              "      <td>2012</td>\n",
              "      <td>3569.998291</td>\n",
              "      <td>1991.999023</td>\n",
              "      <td>2963.998535</td>\n",
              "      <td>-0.060125</td>\n",
              "      <td>-0.076404</td>\n",
              "    </tr>\n",
              "    <tr>\n",
              "      <th>3</th>\n",
              "      <td>000040</td>\n",
              "      <td>2013</td>\n",
              "      <td>3569.998291</td>\n",
              "      <td>1991.999023</td>\n",
              "      <td>2627.998779</td>\n",
              "      <td>-0.073726</td>\n",
              "      <td>-0.066926</td>\n",
              "    </tr>\n",
              "    <tr>\n",
              "      <th>4</th>\n",
              "      <td>000040</td>\n",
              "      <td>2014</td>\n",
              "      <td>3569.998291</td>\n",
              "      <td>1991.999023</td>\n",
              "      <td>6209.997070</td>\n",
              "      <td>0.117081</td>\n",
              "      <td>-0.315459</td>\n",
              "    </tr>\n",
              "    <tr>\n",
              "      <th>...</th>\n",
              "      <td>...</td>\n",
              "      <td>...</td>\n",
              "      <td>...</td>\n",
              "      <td>...</td>\n",
              "      <td>...</td>\n",
              "      <td>...</td>\n",
              "      <td>...</td>\n",
              "    </tr>\n",
              "    <tr>\n",
              "      <th>3466</th>\n",
              "      <td>900140</td>\n",
              "      <td>2018</td>\n",
              "      <td>4710.367676</td>\n",
              "      <td>4248.348145</td>\n",
              "      <td>2186.079834</td>\n",
              "      <td>-0.081759</td>\n",
              "      <td>-0.485428</td>\n",
              "    </tr>\n",
              "    <tr>\n",
              "      <th>3467</th>\n",
              "      <td>900140</td>\n",
              "      <td>2019</td>\n",
              "      <td>4710.367676</td>\n",
              "      <td>4248.348145</td>\n",
              "      <td>3903.043701</td>\n",
              "      <td>-0.018625</td>\n",
              "      <td>-0.041501</td>\n",
              "    </tr>\n",
              "    <tr>\n",
              "      <th>3468</th>\n",
              "      <td>900140</td>\n",
              "      <td>2020</td>\n",
              "      <td>4710.367676</td>\n",
              "      <td>4248.348145</td>\n",
              "      <td>3612.191895</td>\n",
              "      <td>-0.023843</td>\n",
              "      <td>-0.052636</td>\n",
              "    </tr>\n",
              "    <tr>\n",
              "      <th>3469</th>\n",
              "      <td>900140</td>\n",
              "      <td>2021</td>\n",
              "      <td>4710.367676</td>\n",
              "      <td>4248.348145</td>\n",
              "      <td>3415.163330</td>\n",
              "      <td>-0.026439</td>\n",
              "      <td>-0.053114</td>\n",
              "    </tr>\n",
              "    <tr>\n",
              "      <th>3470</th>\n",
              "      <td>900140</td>\n",
              "      <td>2022</td>\n",
              "      <td>4710.367676</td>\n",
              "      <td>4248.348145</td>\n",
              "      <td>2467.549316</td>\n",
              "      <td>-0.048517</td>\n",
              "      <td>-0.102965</td>\n",
              "    </tr>\n",
              "  </tbody>\n",
              "</table>\n",
              "<p>3471 rows × 7 columns</p>\n",
              "</div>"
            ],
            "text/plain": [
              "      ticker  year    2010_head    2018_head    year_tail  CAGR_train  \\\n",
              "0     000040  2010  3569.998291  1991.999023  4049.998047    0.134454   \n",
              "1     000040  2011  3569.998291  1991.999023  3989.998047    0.057188   \n",
              "2     000040  2012  3569.998291  1991.999023  2963.998535   -0.060125   \n",
              "3     000040  2013  3569.998291  1991.999023  2627.998779   -0.073726   \n",
              "4     000040  2014  3569.998291  1991.999023  6209.997070    0.117081   \n",
              "...      ...   ...          ...          ...          ...         ...   \n",
              "3466  900140  2018  4710.367676  4248.348145  2186.079834   -0.081759   \n",
              "3467  900140  2019  4710.367676  4248.348145  3903.043701   -0.018625   \n",
              "3468  900140  2020  4710.367676  4248.348145  3612.191895   -0.023843   \n",
              "3469  900140  2021  4710.367676  4248.348145  3415.163330   -0.026439   \n",
              "3470  900140  2022  4710.367676  4248.348145  2467.549316   -0.048517   \n",
              "\n",
              "      CAGR_test  \n",
              "0     -0.096400  \n",
              "1     -0.109325  \n",
              "2     -0.076404  \n",
              "3     -0.066926  \n",
              "4     -0.315459  \n",
              "...         ...  \n",
              "3466  -0.485428  \n",
              "3467  -0.041501  \n",
              "3468  -0.052636  \n",
              "3469  -0.053114  \n",
              "3470  -0.102965  \n",
              "\n",
              "[3471 rows x 7 columns]"
            ]
          },
          "execution_count": 512,
          "metadata": {},
          "output_type": "execute_result"
        }
      ],
      "source": [
        "result_df"
      ]
    },
    {
      "cell_type": "code",
      "execution_count": null,
      "metadata": {
        "id": "LvS42asuDAyi"
      },
      "outputs": [],
      "source": [
        "import pandas as pd\n",
        "\n",
        "# 'CAGR' 열 초기화\n",
        "result_df['CAGR'] = None\n",
        "\n",
        "# 'year' 열의 값을 기준으로 'CAGR_train'과 'CAGR_test' 값을 'CAGR' 열에 할당\n",
        "result_df.loc[result_df['year'] <= 2017, 'CAGR'] = result_df['CAGR_train']\n",
        "result_df.loc[result_df['year'] > 2017, 'CAGR'] = result_df['CAGR_test']\n"
      ]
    },
    {
      "cell_type": "code",
      "execution_count": null,
      "metadata": {
        "id": "d-NYeM12DAyi",
        "outputId": "98b30df3-3a43-4665-98ae-a0c501139d59"
      },
      "outputs": [
        {
          "data": {
            "text/html": [
              "<div>\n",
              "<style scoped>\n",
              "    .dataframe tbody tr th:only-of-type {\n",
              "        vertical-align: middle;\n",
              "    }\n",
              "\n",
              "    .dataframe tbody tr th {\n",
              "        vertical-align: top;\n",
              "    }\n",
              "\n",
              "    .dataframe thead th {\n",
              "        text-align: right;\n",
              "    }\n",
              "</style>\n",
              "<table border=\"1\" class=\"dataframe\">\n",
              "  <thead>\n",
              "    <tr style=\"text-align: right;\">\n",
              "      <th></th>\n",
              "      <th>ticker</th>\n",
              "      <th>year</th>\n",
              "      <th>2010_head</th>\n",
              "      <th>2018_head</th>\n",
              "      <th>year_tail</th>\n",
              "      <th>CAGR_train</th>\n",
              "      <th>CAGR_test</th>\n",
              "      <th>CAGR</th>\n",
              "    </tr>\n",
              "  </thead>\n",
              "  <tbody>\n",
              "    <tr>\n",
              "      <th>0</th>\n",
              "      <td>000040</td>\n",
              "      <td>2010</td>\n",
              "      <td>3569.998291</td>\n",
              "      <td>1991.999023</td>\n",
              "      <td>4049.998047</td>\n",
              "      <td>0.134454</td>\n",
              "      <td>-0.096400</td>\n",
              "      <td>0.134454</td>\n",
              "    </tr>\n",
              "    <tr>\n",
              "      <th>1</th>\n",
              "      <td>000040</td>\n",
              "      <td>2011</td>\n",
              "      <td>3569.998291</td>\n",
              "      <td>1991.999023</td>\n",
              "      <td>3989.998047</td>\n",
              "      <td>0.057188</td>\n",
              "      <td>-0.109325</td>\n",
              "      <td>0.057188</td>\n",
              "    </tr>\n",
              "    <tr>\n",
              "      <th>2</th>\n",
              "      <td>000040</td>\n",
              "      <td>2012</td>\n",
              "      <td>3569.998291</td>\n",
              "      <td>1991.999023</td>\n",
              "      <td>2963.998535</td>\n",
              "      <td>-0.060125</td>\n",
              "      <td>-0.076404</td>\n",
              "      <td>-0.060125</td>\n",
              "    </tr>\n",
              "    <tr>\n",
              "      <th>3</th>\n",
              "      <td>000040</td>\n",
              "      <td>2013</td>\n",
              "      <td>3569.998291</td>\n",
              "      <td>1991.999023</td>\n",
              "      <td>2627.998779</td>\n",
              "      <td>-0.073726</td>\n",
              "      <td>-0.066926</td>\n",
              "      <td>-0.073726</td>\n",
              "    </tr>\n",
              "    <tr>\n",
              "      <th>4</th>\n",
              "      <td>000040</td>\n",
              "      <td>2014</td>\n",
              "      <td>3569.998291</td>\n",
              "      <td>1991.999023</td>\n",
              "      <td>6209.997070</td>\n",
              "      <td>0.117081</td>\n",
              "      <td>-0.315459</td>\n",
              "      <td>0.117081</td>\n",
              "    </tr>\n",
              "    <tr>\n",
              "      <th>5</th>\n",
              "      <td>000040</td>\n",
              "      <td>2015</td>\n",
              "      <td>3569.998291</td>\n",
              "      <td>1991.999023</td>\n",
              "      <td>7619.996094</td>\n",
              "      <td>0.134700</td>\n",
              "      <td>-0.488710</td>\n",
              "      <td>0.1347</td>\n",
              "    </tr>\n",
              "    <tr>\n",
              "      <th>6</th>\n",
              "      <td>000040</td>\n",
              "      <td>2016</td>\n",
              "      <td>3569.998291</td>\n",
              "      <td>1991.999023</td>\n",
              "      <td>5177.997559</td>\n",
              "      <td>0.054558</td>\n",
              "      <td>-0.615295</td>\n",
              "      <td>0.054558</td>\n",
              "    </tr>\n",
              "    <tr>\n",
              "      <th>7</th>\n",
              "      <td>000040</td>\n",
              "      <td>2017</td>\n",
              "      <td>3569.998291</td>\n",
              "      <td>1991.999023</td>\n",
              "      <td>1991.999023</td>\n",
              "      <td>-0.070333</td>\n",
              "      <td>0.000000</td>\n",
              "      <td>-0.070333</td>\n",
              "    </tr>\n",
              "    <tr>\n",
              "      <th>8</th>\n",
              "      <td>000040</td>\n",
              "      <td>2018</td>\n",
              "      <td>3569.998291</td>\n",
              "      <td>1991.999023</td>\n",
              "      <td>2000.000000</td>\n",
              "      <td>-0.062351</td>\n",
              "      <td>0.004017</td>\n",
              "      <td>0.004017</td>\n",
              "    </tr>\n",
              "    <tr>\n",
              "      <th>9</th>\n",
              "      <td>000040</td>\n",
              "      <td>2019</td>\n",
              "      <td>3569.998291</td>\n",
              "      <td>1991.999023</td>\n",
              "      <td>1116.000000</td>\n",
              "      <td>-0.109775</td>\n",
              "      <td>-0.251507</td>\n",
              "      <td>-0.251507</td>\n",
              "    </tr>\n",
              "    <tr>\n",
              "      <th>10</th>\n",
              "      <td>000040</td>\n",
              "      <td>2020</td>\n",
              "      <td>3569.998291</td>\n",
              "      <td>1991.999023</td>\n",
              "      <td>1135.000000</td>\n",
              "      <td>-0.098933</td>\n",
              "      <td>-0.170973</td>\n",
              "      <td>-0.170973</td>\n",
              "    </tr>\n",
              "    <tr>\n",
              "      <th>11</th>\n",
              "      <td>000040</td>\n",
              "      <td>2021</td>\n",
              "      <td>3569.998291</td>\n",
              "      <td>1991.999023</td>\n",
              "      <td>865.000000</td>\n",
              "      <td>-0.111422</td>\n",
              "      <td>-0.188232</td>\n",
              "      <td>-0.188232</td>\n",
              "    </tr>\n",
              "    <tr>\n",
              "      <th>12</th>\n",
              "      <td>000040</td>\n",
              "      <td>2022</td>\n",
              "      <td>3569.998291</td>\n",
              "      <td>1991.999023</td>\n",
              "      <td>560.000000</td>\n",
              "      <td>-0.132805</td>\n",
              "      <td>-0.224146</td>\n",
              "      <td>-0.224146</td>\n",
              "    </tr>\n",
              "    <tr>\n",
              "      <th>13</th>\n",
              "      <td>000050</td>\n",
              "      <td>2010</td>\n",
              "      <td>8965.350586</td>\n",
              "      <td>13099.279297</td>\n",
              "      <td>8330.416016</td>\n",
              "      <td>-0.070821</td>\n",
              "      <td>0.066800</td>\n",
              "      <td>-0.070821</td>\n",
              "    </tr>\n",
              "    <tr>\n",
              "      <th>14</th>\n",
              "      <td>000050</td>\n",
              "      <td>2011</td>\n",
              "      <td>8965.350586</td>\n",
              "      <td>13099.279297</td>\n",
              "      <td>6484.589844</td>\n",
              "      <td>-0.149533</td>\n",
              "      <td>0.124331</td>\n",
              "      <td>-0.149533</td>\n",
              "    </tr>\n",
              "    <tr>\n",
              "      <th>15</th>\n",
              "      <td>000050</td>\n",
              "      <td>2012</td>\n",
              "      <td>8965.350586</td>\n",
              "      <td>13099.279297</td>\n",
              "      <td>7433.082031</td>\n",
              "      <td>-0.060564</td>\n",
              "      <td>0.119994</td>\n",
              "      <td>-0.060564</td>\n",
              "    </tr>\n",
              "    <tr>\n",
              "      <th>16</th>\n",
              "      <td>000050</td>\n",
              "      <td>2013</td>\n",
              "      <td>8965.350586</td>\n",
              "      <td>13099.279297</td>\n",
              "      <td>9970.158203</td>\n",
              "      <td>0.026913</td>\n",
              "      <td>0.070622</td>\n",
              "      <td>0.026913</td>\n",
              "    </tr>\n",
              "    <tr>\n",
              "      <th>17</th>\n",
              "      <td>000050</td>\n",
              "      <td>2014</td>\n",
              "      <td>8965.350586</td>\n",
              "      <td>13099.279297</td>\n",
              "      <td>16694.578125</td>\n",
              "      <td>0.132405</td>\n",
              "      <td>-0.077661</td>\n",
              "      <td>0.132405</td>\n",
              "    </tr>\n",
              "    <tr>\n",
              "      <th>18</th>\n",
              "      <td>000050</td>\n",
              "      <td>2015</td>\n",
              "      <td>8965.350586</td>\n",
              "      <td>13099.279297</td>\n",
              "      <td>17776.238281</td>\n",
              "      <td>0.120845</td>\n",
              "      <td>-0.141572</td>\n",
              "      <td>0.120845</td>\n",
              "    </tr>\n",
              "    <tr>\n",
              "      <th>19</th>\n",
              "      <td>000050</td>\n",
              "      <td>2016</td>\n",
              "      <td>8965.350586</td>\n",
              "      <td>13099.279297</td>\n",
              "      <td>14290.425781</td>\n",
              "      <td>0.068871</td>\n",
              "      <td>-0.083353</td>\n",
              "      <td>0.068871</td>\n",
              "    </tr>\n",
              "  </tbody>\n",
              "</table>\n",
              "</div>"
            ],
            "text/plain": [
              "    ticker  year    2010_head     2018_head     year_tail  CAGR_train  \\\n",
              "0   000040  2010  3569.998291   1991.999023   4049.998047    0.134454   \n",
              "1   000040  2011  3569.998291   1991.999023   3989.998047    0.057188   \n",
              "2   000040  2012  3569.998291   1991.999023   2963.998535   -0.060125   \n",
              "3   000040  2013  3569.998291   1991.999023   2627.998779   -0.073726   \n",
              "4   000040  2014  3569.998291   1991.999023   6209.997070    0.117081   \n",
              "5   000040  2015  3569.998291   1991.999023   7619.996094    0.134700   \n",
              "6   000040  2016  3569.998291   1991.999023   5177.997559    0.054558   \n",
              "7   000040  2017  3569.998291   1991.999023   1991.999023   -0.070333   \n",
              "8   000040  2018  3569.998291   1991.999023   2000.000000   -0.062351   \n",
              "9   000040  2019  3569.998291   1991.999023   1116.000000   -0.109775   \n",
              "10  000040  2020  3569.998291   1991.999023   1135.000000   -0.098933   \n",
              "11  000040  2021  3569.998291   1991.999023    865.000000   -0.111422   \n",
              "12  000040  2022  3569.998291   1991.999023    560.000000   -0.132805   \n",
              "13  000050  2010  8965.350586  13099.279297   8330.416016   -0.070821   \n",
              "14  000050  2011  8965.350586  13099.279297   6484.589844   -0.149533   \n",
              "15  000050  2012  8965.350586  13099.279297   7433.082031   -0.060564   \n",
              "16  000050  2013  8965.350586  13099.279297   9970.158203    0.026913   \n",
              "17  000050  2014  8965.350586  13099.279297  16694.578125    0.132405   \n",
              "18  000050  2015  8965.350586  13099.279297  17776.238281    0.120845   \n",
              "19  000050  2016  8965.350586  13099.279297  14290.425781    0.068871   \n",
              "\n",
              "    CAGR_test      CAGR  \n",
              "0   -0.096400  0.134454  \n",
              "1   -0.109325  0.057188  \n",
              "2   -0.076404 -0.060125  \n",
              "3   -0.066926 -0.073726  \n",
              "4   -0.315459  0.117081  \n",
              "5   -0.488710    0.1347  \n",
              "6   -0.615295  0.054558  \n",
              "7    0.000000 -0.070333  \n",
              "8    0.004017  0.004017  \n",
              "9   -0.251507 -0.251507  \n",
              "10  -0.170973 -0.170973  \n",
              "11  -0.188232 -0.188232  \n",
              "12  -0.224146 -0.224146  \n",
              "13   0.066800 -0.070821  \n",
              "14   0.124331 -0.149533  \n",
              "15   0.119994 -0.060564  \n",
              "16   0.070622  0.026913  \n",
              "17  -0.077661  0.132405  \n",
              "18  -0.141572  0.120845  \n",
              "19  -0.083353  0.068871  "
            ]
          },
          "execution_count": 533,
          "metadata": {},
          "output_type": "execute_result"
        }
      ],
      "source": [
        "result_df.iloc[0:20,:]"
      ]
    },
    {
      "cell_type": "code",
      "execution_count": null,
      "metadata": {
        "id": "3oGNVKhjDAyi"
      },
      "outputs": [],
      "source": [
        "result_df.to_csv('adj_adj_cagr.csv', index= False, encoding='utf-8-sig')"
      ]
    },
    {
      "cell_type": "code",
      "execution_count": null,
      "metadata": {
        "id": "aFLZdxhhDAyi"
      },
      "outputs": [],
      "source": []
    }
  ],
  "metadata": {
    "kernelspec": {
      "display_name": "Python 3",
      "language": "python",
      "name": "python3"
    },
    "language_info": {
      "codemirror_mode": {
        "name": "ipython",
        "version": 3
      },
      "file_extension": ".py",
      "mimetype": "text/x-python",
      "name": "python",
      "nbconvert_exporter": "python",
      "pygments_lexer": "ipython3",
      "version": "3.8.5"
    },
    "colab": {
      "provenance": []
    }
  },
  "nbformat": 4,
  "nbformat_minor": 0
}