{
 "cells": [
  {
   "cell_type": "markdown",
   "metadata": {},
   "source": [
    "#### 01_홍콩달러 상승률"
   ]
  },
  {
   "cell_type": "code",
   "execution_count": 3,
   "metadata": {},
   "outputs": [
    {
     "data": {
      "text/html": [
       "<div>\n",
       "<style scoped>\n",
       "    .dataframe tbody tr th:only-of-type {\n",
       "        vertical-align: middle;\n",
       "    }\n",
       "\n",
       "    .dataframe tbody tr th {\n",
       "        vertical-align: top;\n",
       "    }\n",
       "\n",
       "    .dataframe thead th {\n",
       "        text-align: right;\n",
       "    }\n",
       "</style>\n",
       "<table border=\"1\" class=\"dataframe\">\n",
       "  <thead>\n",
       "    <tr style=\"text-align: right;\">\n",
       "      <th></th>\n",
       "      <th>날짜</th>\n",
       "      <th>종가</th>\n",
       "      <th>시가</th>\n",
       "      <th>고가</th>\n",
       "      <th>저가</th>\n",
       "      <th>거래량</th>\n",
       "      <th>변동 %</th>\n",
       "    </tr>\n",
       "  </thead>\n",
       "  <tbody>\n",
       "    <tr>\n",
       "      <th>0</th>\n",
       "      <td>2024- 01- 18</td>\n",
       "      <td>7.8210</td>\n",
       "      <td>7.8229</td>\n",
       "      <td>7.8231</td>\n",
       "      <td>7.8177</td>\n",
       "      <td>NaN</td>\n",
       "      <td>0.00%</td>\n",
       "    </tr>\n",
       "    <tr>\n",
       "      <th>1</th>\n",
       "      <td>2024- 01- 17</td>\n",
       "      <td>7.8210</td>\n",
       "      <td>7.8264</td>\n",
       "      <td>7.8274</td>\n",
       "      <td>7.8186</td>\n",
       "      <td>NaN</td>\n",
       "      <td>-0.06%</td>\n",
       "    </tr>\n",
       "    <tr>\n",
       "      <th>2</th>\n",
       "      <td>2024- 01- 16</td>\n",
       "      <td>7.8260</td>\n",
       "      <td>7.8235</td>\n",
       "      <td>7.8286</td>\n",
       "      <td>7.8204</td>\n",
       "      <td>NaN</td>\n",
       "      <td>0.03%</td>\n",
       "    </tr>\n",
       "    <tr>\n",
       "      <th>3</th>\n",
       "      <td>2024- 01- 15</td>\n",
       "      <td>7.8235</td>\n",
       "      <td>7.8211</td>\n",
       "      <td>7.8242</td>\n",
       "      <td>7.8172</td>\n",
       "      <td>NaN</td>\n",
       "      <td>0.03%</td>\n",
       "    </tr>\n",
       "    <tr>\n",
       "      <th>4</th>\n",
       "      <td>2024- 01- 12</td>\n",
       "      <td>7.8211</td>\n",
       "      <td>7.8179</td>\n",
       "      <td>7.8233</td>\n",
       "      <td>7.8161</td>\n",
       "      <td>NaN</td>\n",
       "      <td>0.05%</td>\n",
       "    </tr>\n",
       "  </tbody>\n",
       "</table>\n",
       "</div>"
      ],
      "text/plain": [
       "             날짜      종가      시가      고가      저가  거래량    변동 %\n",
       "0  2024- 01- 18  7.8210  7.8229  7.8231  7.8177  NaN   0.00%\n",
       "1  2024- 01- 17  7.8210  7.8264  7.8274  7.8186  NaN  -0.06%\n",
       "2  2024- 01- 16  7.8260  7.8235  7.8286  7.8204  NaN   0.03%\n",
       "3  2024- 01- 15  7.8235  7.8211  7.8242  7.8172  NaN   0.03%\n",
       "4  2024- 01- 12  7.8211  7.8179  7.8233  7.8161  NaN   0.05%"
      ]
     },
     "execution_count": 3,
     "metadata": {},
     "output_type": "execute_result"
    }
   ],
   "source": [
    "import pandas as pd\n",
    "df1 = pd.read_csv('01_홍콩달러 상승률.csv')\n",
    "df1.head()"
   ]
  },
  {
   "cell_type": "code",
   "execution_count": null,
   "metadata": {},
   "outputs": [],
   "source": []
  }
 ],
 "metadata": {
  "kernelspec": {
   "display_name": "Python 3",
   "language": "python",
   "name": "python3"
  },
  "language_info": {
   "codemirror_mode": {
    "name": "ipython",
    "version": 3
   },
   "file_extension": ".py",
   "mimetype": "text/x-python",
   "name": "python",
   "nbconvert_exporter": "python",
   "pygments_lexer": "ipython3",
   "version": "3.8.5"
  }
 },
 "nbformat": 4,
 "nbformat_minor": 2
}
