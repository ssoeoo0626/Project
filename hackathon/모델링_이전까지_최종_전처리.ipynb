{
  "cells": [
    {
      "cell_type": "code",
      "execution_count": null,
      "metadata": {
        "id": "uVGaTVvkBd8a"
      },
      "outputs": [],
      "source": [
        "import pandas as pd"
      ]
    },
    {
      "cell_type": "code",
      "execution_count": null,
      "metadata": {
        "id": "sTqO8kxDBd8d"
      },
      "outputs": [],
      "source": [
        "\n",
        "df1 = pd.read_csv('../../240103/stock_filtered.csv', encoding='cp949')\n",
        "\n",
        "df2 = pd.read_csv('final_final_final.csv', encoding= 'utf-8')"
      ]
    },
    {
      "cell_type": "code",
      "execution_count": null,
      "metadata": {
        "id": "u7TsWDS1Bd8d"
      },
      "outputs": [],
      "source": [
        "df1.drop('Unnamed: 0', axis=1, inplace= True)"
      ]
    },
    {
      "cell_type": "code",
      "execution_count": null,
      "metadata": {
        "id": "OxuYqYqxBd8e",
        "outputId": "b0e6c07e-6544-42fd-fd40-7d5eb6b9041c"
      },
      "outputs": [
        {
          "data": {
            "text/plain": [
              "회사명          0\n",
              "거래소코드        0\n",
              "회계년도         0\n",
              "ROE        777\n",
              "ROIC       777\n",
              "OPEX/매출      1\n",
              "잉여현금흐름       0\n",
              "Buffett      0\n",
              "ROCE       777\n",
              "자사주매입1       1\n",
              "자사주매입2       1\n",
              "주주환원1        1\n",
              "주주환원2        1\n",
              "배당율          1\n",
              "보통주식비율       0\n",
              "dtype: int64"
            ]
          },
          "execution_count": 126,
          "metadata": {},
          "output_type": "execute_result"
        }
      ],
      "source": [
        "df1.isna().sum()"
      ]
    },
    {
      "cell_type": "code",
      "execution_count": null,
      "metadata": {
        "id": "lz-IQdB4Bd8f"
      },
      "outputs": [],
      "source": []
    },
    {
      "cell_type": "code",
      "execution_count": null,
      "metadata": {
        "id": "j-2iGUM1Bd8f"
      },
      "outputs": [],
      "source": []
    },
    {
      "cell_type": "code",
      "execution_count": null,
      "metadata": {
        "id": "1EaLy_kPBd8g"
      },
      "outputs": [],
      "source": [
        "df2 = df2.drop(['자본총계','부채총계','유동자산','비유동자산','당좌자산','유동부채','비유동부채','신용등급mapping'], axis=1)"
      ]
    },
    {
      "cell_type": "code",
      "execution_count": null,
      "metadata": {
        "id": "kAb641fWBd8g",
        "outputId": "33652e0a-aa69-4844-9a16-d10a23213d25"
      },
      "outputs": [
        {
          "data": {
            "text/plain": [
              "회사명           0\n",
              "거래소코드         0\n",
              "회계년도          0\n",
              "평가사명 및 등급     0\n",
              "신용등급          0\n",
              "증권명          62\n",
              "자산총계          0\n",
              "부채비율          0\n",
              "당좌비율          0\n",
              "유동비율          0\n",
              "자기자본 비율       0\n",
              "재무레버리지        0\n",
              "연도            0\n",
              "신용스프레드        0\n",
              "dtype: int64"
            ]
          },
          "execution_count": 296,
          "metadata": {},
          "output_type": "execute_result"
        }
      ],
      "source": [
        "df2.isna().sum()"
      ]
    },
    {
      "cell_type": "code",
      "execution_count": null,
      "metadata": {
        "id": "OQAMv7MnBd8g"
      },
      "outputs": [],
      "source": [
        "df2['증권명']= df2['증권명'].fillna('-')\n"
      ]
    },
    {
      "cell_type": "code",
      "execution_count": null,
      "metadata": {
        "id": "DKbVUJViBd8h",
        "outputId": "4826234a-9125-41a0-cfd7-1c9c5a6c2c4f"
      },
      "outputs": [
        {
          "data": {
            "text/plain": [
              "회사명          0\n",
              "거래소코드        0\n",
              "회계년도         0\n",
              "평가사명 및 등급    0\n",
              "신용등급         0\n",
              "증권명          0\n",
              "자산총계         0\n",
              "부채비율         0\n",
              "당좌비율         0\n",
              "유동비율         0\n",
              "자기자본 비율      0\n",
              "재무레버리지       0\n",
              "연도           0\n",
              "신용스프레드       0\n",
              "dtype: int64"
            ]
          },
          "execution_count": 298,
          "metadata": {},
          "output_type": "execute_result"
        }
      ],
      "source": [
        "df2.isna().sum()"
      ]
    },
    {
      "cell_type": "code",
      "execution_count": null,
      "metadata": {
        "id": "ry9FJxMNBd8h"
      },
      "outputs": [],
      "source": [
        "from datetime import datetime\n",
        "\n",
        "df1['회계년도'] = pd.to_datetime(df1['회계년도'])"
      ]
    },
    {
      "cell_type": "code",
      "execution_count": null,
      "metadata": {
        "id": "k7eZ_dS3Bd8i"
      },
      "outputs": [],
      "source": [
        "df1['연도']= df1['회계년도'].dt.year"
      ]
    },
    {
      "cell_type": "code",
      "execution_count": null,
      "metadata": {
        "id": "NVX_fVuqBd8i"
      },
      "outputs": [],
      "source": [
        "df1['회계년도'] = pd.to_datetime(df1['회계년도'])\n",
        "\n",
        "# 날짜를 원하는 포맷으로 변환 (예: YYYY/MM)\n",
        "df1['회계년도'] = df1['회계년도'].dt.strftime('%Y/%m')"
      ]
    },
    {
      "cell_type": "code",
      "execution_count": null,
      "metadata": {
        "id": "NAgfdG18Bd8i"
      },
      "outputs": [],
      "source": [
        "df2['회계년도'] = pd.to_datetime(df2['회계년도'])\n",
        "\n",
        "# 날짜를 원하는 포맷으로 변환 (예: YYYY/MM)\n",
        "df2['회계년도'] = df2['회계년도'].dt.strftime('%Y/%m')"
      ]
    },
    {
      "cell_type": "code",
      "execution_count": null,
      "metadata": {
        "id": "nCPFXjzvBd8i"
      },
      "outputs": [],
      "source": [
        "df2['회계년도']= df2['회계년도'].astype(str)"
      ]
    },
    {
      "cell_type": "code",
      "execution_count": null,
      "metadata": {
        "id": "YcAtzxIMBd8j"
      },
      "outputs": [],
      "source": [
        "df = pd.merge(df1, df2, on = ['회사명','거래소코드','회계년도','연도'], how='inner')"
      ]
    },
    {
      "cell_type": "code",
      "execution_count": null,
      "metadata": {
        "id": "7l8VvLz3Bd8j",
        "outputId": "342b46f7-bae3-40fc-96dc-5dd6540ca104"
      },
      "outputs": [
        {
          "data": {
            "text/plain": [
              "회사명            0\n",
              "거래소코드          0\n",
              "회계년도           0\n",
              "ROE          638\n",
              "ROIC         638\n",
              "OPEX/매출        0\n",
              "잉여현금흐름         0\n",
              "Buffett        0\n",
              "ROCE         638\n",
              "자사주매입1         0\n",
              "자사주매입2         0\n",
              "주주환원1          0\n",
              "주주환원2          0\n",
              "배당율            0\n",
              "보통주식비율         0\n",
              "연도             0\n",
              "평가사명 및 등급      0\n",
              "신용등급           0\n",
              "증권명            0\n",
              "자산총계           0\n",
              "부채비율           0\n",
              "당좌비율           0\n",
              "유동비율           0\n",
              "자기자본 비율        0\n",
              "재무레버리지         0\n",
              "신용스프레드         0\n",
              "dtype: int64"
            ]
          },
          "execution_count": 200,
          "metadata": {},
          "output_type": "execute_result"
        }
      ],
      "source": [
        "df.isna().sum()"
      ]
    },
    {
      "cell_type": "code",
      "execution_count": null,
      "metadata": {
        "id": "CEGtx0pTBd8j",
        "outputId": "27d03642-6328-4a82-b797-b605599ad989"
      },
      "outputs": [
        {
          "data": {
            "text/plain": [
              "728"
            ]
          },
          "execution_count": 301,
          "metadata": {},
          "output_type": "execute_result"
        }
      ],
      "source": [
        "df2[df2['연도'] == 2010].value_counts().sum()"
      ]
    },
    {
      "cell_type": "code",
      "execution_count": null,
      "metadata": {
        "id": "-ZJY5WGwBd8j",
        "outputId": "bc806d65-5728-4d07-bb08-3acf978d87c0"
      },
      "outputs": [
        {
          "name": "stdout",
          "output_type": "stream",
          "text": [
            "거래소코드가 13개인 회사의 개수: 735\n",
            "거래소코드가 13개가 아닌 회사의 개수: 0\n"
          ]
        }
      ],
      "source": [
        "counts_per_company = df2.groupby('회사명')['회계년도'].nunique()\n",
        "\n",
        "# 13개인 회사들과 13개가 아닌 회사들의 개수 뽑기\n",
        "num_companies_13_codes = (counts_per_company[counts_per_company == 13]).count()\n",
        "num_companies_not_13_codes = (counts_per_company[counts_per_company != 13]).count()\n",
        "\n",
        "print(\"거래소코드가 13개인 회사의 개수:\", num_companies_13_codes)\n",
        "print(\"거래소코드가 13개가 아닌 회사의 개수:\", num_companies_not_13_codes)"
      ]
    },
    {
      "cell_type": "code",
      "execution_count": null,
      "metadata": {
        "id": "RWqwwZYeBd8k"
      },
      "outputs": [],
      "source": []
    },
    {
      "cell_type": "code",
      "execution_count": null,
      "metadata": {
        "id": "fEfTrrSRBd8k"
      },
      "outputs": [],
      "source": [
        "df3 = df2.drop(df2[df2['연도'] ==2023].index)"
      ]
    },
    {
      "cell_type": "code",
      "execution_count": null,
      "metadata": {
        "id": "Fq5Te_9EBd8k",
        "outputId": "5e97418e-5a5a-45e6-8be5-3af5798812ef"
      },
      "outputs": [
        {
          "data": {
            "text/plain": [
              "0"
            ]
          },
          "execution_count": 320,
          "metadata": {},
          "output_type": "execute_result"
        }
      ],
      "source": [
        "df3[df3['연도'] ==20].value_counts().sum()"
      ]
    },
    {
      "cell_type": "markdown",
      "source": [
        "# 13개인 회사들과 13개가 아닌 회사들의 개수 뽑기"
      ],
      "metadata": {
        "id": "svvgcArkBhWQ"
      }
    },
    {
      "cell_type": "code",
      "execution_count": null,
      "metadata": {
        "id": "vgI5jS8aBd8k",
        "outputId": "75e52583-5bab-4525-8cdd-e33c2f6ae61f"
      },
      "outputs": [
        {
          "name": "stdout",
          "output_type": "stream",
          "text": [
            "거래소코드가 13개인 회사의 개수: 727\n",
            "거래소코드가 13개가 아닌 회사의 개수: 0\n"
          ]
        }
      ],
      "source": [
        "counts_per_company = df3.groupby('회사명')['회계년도'].nunique()\n",
        "\n",
        "# 13개인 회사들과 13개가 아닌 회사들의 개수 뽑기\n",
        "num_companies_13_codes = (counts_per_company[counts_per_company == 13]).count()\n",
        "num_companies_not_13_codes = (counts_per_company[counts_per_company != 13]).count()\n",
        "\n",
        "print(\"거래소코드가 13개인 회사의 개수:\", num_companies_13_codes)\n",
        "print(\"거래소코드가 13개가 아닌 회사의 개수:\", num_companies_not_13_codes)"
      ]
    },
    {
      "cell_type": "code",
      "execution_count": null,
      "metadata": {
        "id": "_r25eaJeBd8l",
        "outputId": "6ede1b2c-77e2-455d-a8a0-da5bee092b55"
      },
      "outputs": [
        {
          "data": {
            "text/plain": [
              "회사명\n",
              "(주)금비         12\n",
              "(주)모아텍        12\n",
              "(주)삼에스코리아     12\n",
              "(주)인터엠        12\n",
              "(주)체시스        12\n",
              "(주)형지엘리트      12\n",
              "한스바이오메드(주)    12\n",
              "효성오앤비(주)      12\n",
              "Name: 회계년도, dtype: int64"
            ]
          },
          "execution_count": 322,
          "metadata": {},
          "output_type": "execute_result"
        }
      ],
      "source": [
        "counts_per_company[counts_per_company != 13]"
      ]
    },
    {
      "cell_type": "markdown",
      "source": [
        "# 13년간 데이터가 없는 회사들은 한 번 더 확인하고 삭제"
      ],
      "metadata": {
        "id": "JtKm0aPaBnRn"
      }
    },
    {
      "cell_type": "code",
      "execution_count": null,
      "metadata": {
        "id": "kbEGd1RGBd8l"
      },
      "outputs": [],
      "source": [
        "delete_companies = ['(주)금비', '(주)모아텍', '(주)삼에스코리아', '(주)인터엠', '(주)체시스', '(주)형지엘리트', '한스바이오메드(주)', '효성오앤비(주)']\n",
        "\n",
        "# 삭제할 회사들의 인덱스 찾기\n",
        "indexes_to_delete = df3[df3['회사명'].isin(delete_companies)].index\n",
        "\n",
        "# 해당 인덱스를 기준으로 데이터프레임에서 행 삭제\n",
        "df3 = df3.drop(indexes_to_delete)\n"
      ]
    },
    {
      "cell_type": "code",
      "execution_count": null,
      "metadata": {
        "id": "TvRX0OJ9Bd8l",
        "outputId": "63f33833-ee40-43ac-ea39-1a876bd386ec"
      },
      "outputs": [
        {
          "data": {
            "text/html": [
              "<div>\n",
              "<style scoped>\n",
              "    .dataframe tbody tr th:only-of-type {\n",
              "        vertical-align: middle;\n",
              "    }\n",
              "\n",
              "    .dataframe tbody tr th {\n",
              "        vertical-align: top;\n",
              "    }\n",
              "\n",
              "    .dataframe thead th {\n",
              "        text-align: right;\n",
              "    }\n",
              "</style>\n",
              "<table border=\"1\" class=\"dataframe\">\n",
              "  <thead>\n",
              "    <tr style=\"text-align: right;\">\n",
              "      <th></th>\n",
              "      <th>index</th>\n",
              "      <th>회사명</th>\n",
              "      <th>거래소코드</th>\n",
              "      <th>회계년도</th>\n",
              "      <th>평가사명 및 등급</th>\n",
              "      <th>신용등급</th>\n",
              "      <th>증권명</th>\n",
              "      <th>자산총계</th>\n",
              "      <th>부채비율</th>\n",
              "      <th>당좌비율</th>\n",
              "      <th>유동비율</th>\n",
              "      <th>자기자본 비율</th>\n",
              "      <th>재무레버리지</th>\n",
              "      <th>연도</th>\n",
              "      <th>신용스프레드</th>\n",
              "    </tr>\n",
              "  </thead>\n",
              "  <tbody>\n",
              "    <tr>\n",
              "      <th>0</th>\n",
              "      <td>0</td>\n",
              "      <td>(주)DB하이텍</td>\n",
              "      <td>990</td>\n",
              "      <td>2010/12</td>\n",
              "      <td>한국기업평가(AAA~D)</td>\n",
              "      <td>BBB-</td>\n",
              "      <td>기업신용등급</td>\n",
              "      <td>1.381251e+09</td>\n",
              "      <td>247.033931</td>\n",
              "      <td>0.094359</td>\n",
              "      <td>1.404803</td>\n",
              "      <td>100.000000</td>\n",
              "      <td>2.470339</td>\n",
              "      <td>2010</td>\n",
              "      <td>6.934648</td>\n",
              "    </tr>\n",
              "    <tr>\n",
              "      <th>1</th>\n",
              "      <td>1</td>\n",
              "      <td>(주)DB하이텍</td>\n",
              "      <td>990</td>\n",
              "      <td>2011/12</td>\n",
              "      <td>한신정평가(AAA~D)</td>\n",
              "      <td>BBB-</td>\n",
              "      <td>기업신용등급</td>\n",
              "      <td>1.199044e+09</td>\n",
              "      <td>289.222002</td>\n",
              "      <td>0.044922</td>\n",
              "      <td>1.345755</td>\n",
              "      <td>100.000000</td>\n",
              "      <td>2.892220</td>\n",
              "      <td>2011</td>\n",
              "      <td>6.679649</td>\n",
              "    </tr>\n",
              "    <tr>\n",
              "      <th>2</th>\n",
              "      <td>2</td>\n",
              "      <td>(주)DB하이텍</td>\n",
              "      <td>990</td>\n",
              "      <td>2012/12</td>\n",
              "      <td>한국신용평가(AAA~D)</td>\n",
              "      <td>BBB-</td>\n",
              "      <td>기업신용등급</td>\n",
              "      <td>1.157755e+09</td>\n",
              "      <td>297.999848</td>\n",
              "      <td>0.046048</td>\n",
              "      <td>1.335571</td>\n",
              "      <td>100.000000</td>\n",
              "      <td>2.979998</td>\n",
              "      <td>2012</td>\n",
              "      <td>6.018549</td>\n",
              "    </tr>\n",
              "    <tr>\n",
              "      <th>3</th>\n",
              "      <td>3</td>\n",
              "      <td>(주)DB하이텍</td>\n",
              "      <td>990</td>\n",
              "      <td>2013/12</td>\n",
              "      <td>한신정평가(AAA~D)</td>\n",
              "      <td>BBB-</td>\n",
              "      <td>-</td>\n",
              "      <td>1.058392e+09</td>\n",
              "      <td>416.902052</td>\n",
              "      <td>0.041261</td>\n",
              "      <td>1.239864</td>\n",
              "      <td>100.000000</td>\n",
              "      <td>4.169021</td>\n",
              "      <td>2013</td>\n",
              "      <td>6.058273</td>\n",
              "    </tr>\n",
              "    <tr>\n",
              "      <th>4</th>\n",
              "      <td>4</td>\n",
              "      <td>(주)DB하이텍</td>\n",
              "      <td>990</td>\n",
              "      <td>2014/12</td>\n",
              "      <td>한신정평가(AAA~D)</td>\n",
              "      <td>BBB-</td>\n",
              "      <td>기업신용등급</td>\n",
              "      <td>9.848766e+08</td>\n",
              "      <td>715.952219</td>\n",
              "      <td>0.046714</td>\n",
              "      <td>1.139674</td>\n",
              "      <td>100.000000</td>\n",
              "      <td>7.159522</td>\n",
              "      <td>2014</td>\n",
              "      <td>6.242679</td>\n",
              "    </tr>\n",
              "    <tr>\n",
              "      <th>...</th>\n",
              "      <td>...</td>\n",
              "      <td>...</td>\n",
              "      <td>...</td>\n",
              "      <td>...</td>\n",
              "      <td>...</td>\n",
              "      <td>...</td>\n",
              "      <td>...</td>\n",
              "      <td>...</td>\n",
              "      <td>...</td>\n",
              "      <td>...</td>\n",
              "      <td>...</td>\n",
              "      <td>...</td>\n",
              "      <td>...</td>\n",
              "      <td>...</td>\n",
              "      <td>...</td>\n",
              "    </tr>\n",
              "    <tr>\n",
              "      <th>9446</th>\n",
              "      <td>9550</td>\n",
              "      <td>흥아해운(주)</td>\n",
              "      <td>3280</td>\n",
              "      <td>2018/12</td>\n",
              "      <td>한국기업평가</td>\n",
              "      <td>BBB-</td>\n",
              "      <td>회사채</td>\n",
              "      <td>8.036985e+08</td>\n",
              "      <td>998.726601</td>\n",
              "      <td>0.020906</td>\n",
              "      <td>1.100128</td>\n",
              "      <td>100.000000</td>\n",
              "      <td>9.987266</td>\n",
              "      <td>2018</td>\n",
              "      <td>6.562249</td>\n",
              "    </tr>\n",
              "    <tr>\n",
              "      <th>9447</th>\n",
              "      <td>9551</td>\n",
              "      <td>흥아해운(주)</td>\n",
              "      <td>3280</td>\n",
              "      <td>2019/12</td>\n",
              "      <td>한국기업평가</td>\n",
              "      <td>BBB-</td>\n",
              "      <td>회사채</td>\n",
              "      <td>4.309627e+08</td>\n",
              "      <td>1293.827044</td>\n",
              "      <td>0.034140</td>\n",
              "      <td>1.077290</td>\n",
              "      <td>100.000000</td>\n",
              "      <td>12.938270</td>\n",
              "      <td>2019</td>\n",
              "      <td>6.366166</td>\n",
              "    </tr>\n",
              "    <tr>\n",
              "      <th>9448</th>\n",
              "      <td>9552</td>\n",
              "      <td>흥아해운(주)</td>\n",
              "      <td>3280</td>\n",
              "      <td>2020/12</td>\n",
              "      <td>한국기업평가</td>\n",
              "      <td>BBB-</td>\n",
              "      <td>회사채</td>\n",
              "      <td>2.867760e+08</td>\n",
              "      <td>-1191.072253</td>\n",
              "      <td>0.015692</td>\n",
              "      <td>0.916042</td>\n",
              "      <td>100.000000</td>\n",
              "      <td>-11.910723</td>\n",
              "      <td>2020</td>\n",
              "      <td>6.590891</td>\n",
              "    </tr>\n",
              "    <tr>\n",
              "      <th>9449</th>\n",
              "      <td>9553</td>\n",
              "      <td>흥아해운(주)</td>\n",
              "      <td>3280</td>\n",
              "      <td>2021/12</td>\n",
              "      <td>한국기업평가</td>\n",
              "      <td>BBB-</td>\n",
              "      <td>회사채</td>\n",
              "      <td>2.472987e+08</td>\n",
              "      <td>140.236247</td>\n",
              "      <td>0.264540</td>\n",
              "      <td>1.713082</td>\n",
              "      <td>100.000000</td>\n",
              "      <td>1.402362</td>\n",
              "      <td>2021</td>\n",
              "      <td>6.387397</td>\n",
              "    </tr>\n",
              "    <tr>\n",
              "      <th>9450</th>\n",
              "      <td>9554</td>\n",
              "      <td>흥아해운(주)</td>\n",
              "      <td>3280</td>\n",
              "      <td>2022/12</td>\n",
              "      <td>한국기업평가</td>\n",
              "      <td>BBB-</td>\n",
              "      <td>회사채</td>\n",
              "      <td>3.170599e+08</td>\n",
              "      <td>134.330257</td>\n",
              "      <td>0.334535</td>\n",
              "      <td>1.744434</td>\n",
              "      <td>100.000001</td>\n",
              "      <td>1.343303</td>\n",
              "      <td>2022</td>\n",
              "      <td>6.814670</td>\n",
              "    </tr>\n",
              "  </tbody>\n",
              "</table>\n",
              "<p>9451 rows × 15 columns</p>\n",
              "</div>"
            ],
            "text/plain": [
              "      index       회사명  거래소코드     회계년도      평가사명 및 등급  신용등급     증권명  \\\n",
              "0         0  (주)DB하이텍    990  2010/12  한국기업평가(AAA~D)  BBB-  기업신용등급   \n",
              "1         1  (주)DB하이텍    990  2011/12   한신정평가(AAA~D)  BBB-  기업신용등급   \n",
              "2         2  (주)DB하이텍    990  2012/12  한국신용평가(AAA~D)  BBB-  기업신용등급   \n",
              "3         3  (주)DB하이텍    990  2013/12   한신정평가(AAA~D)  BBB-       -   \n",
              "4         4  (주)DB하이텍    990  2014/12   한신정평가(AAA~D)  BBB-  기업신용등급   \n",
              "...     ...       ...    ...      ...            ...   ...     ...   \n",
              "9446   9550   흥아해운(주)   3280  2018/12         한국기업평가  BBB-     회사채   \n",
              "9447   9551   흥아해운(주)   3280  2019/12         한국기업평가  BBB-     회사채   \n",
              "9448   9552   흥아해운(주)   3280  2020/12         한국기업평가  BBB-     회사채   \n",
              "9449   9553   흥아해운(주)   3280  2021/12         한국기업평가  BBB-     회사채   \n",
              "9450   9554   흥아해운(주)   3280  2022/12         한국기업평가  BBB-     회사채   \n",
              "\n",
              "              자산총계         부채비율      당좌비율      유동비율     자기자본 비율     재무레버리지  \\\n",
              "0     1.381251e+09   247.033931  0.094359  1.404803  100.000000   2.470339   \n",
              "1     1.199044e+09   289.222002  0.044922  1.345755  100.000000   2.892220   \n",
              "2     1.157755e+09   297.999848  0.046048  1.335571  100.000000   2.979998   \n",
              "3     1.058392e+09   416.902052  0.041261  1.239864  100.000000   4.169021   \n",
              "4     9.848766e+08   715.952219  0.046714  1.139674  100.000000   7.159522   \n",
              "...            ...          ...       ...       ...         ...        ...   \n",
              "9446  8.036985e+08   998.726601  0.020906  1.100128  100.000000   9.987266   \n",
              "9447  4.309627e+08  1293.827044  0.034140  1.077290  100.000000  12.938270   \n",
              "9448  2.867760e+08 -1191.072253  0.015692  0.916042  100.000000 -11.910723   \n",
              "9449  2.472987e+08   140.236247  0.264540  1.713082  100.000000   1.402362   \n",
              "9450  3.170599e+08   134.330257  0.334535  1.744434  100.000001   1.343303   \n",
              "\n",
              "        연도    신용스프레드  \n",
              "0     2010  6.934648  \n",
              "1     2011  6.679649  \n",
              "2     2012  6.018549  \n",
              "3     2013  6.058273  \n",
              "4     2014  6.242679  \n",
              "...    ...       ...  \n",
              "9446  2018  6.562249  \n",
              "9447  2019  6.366166  \n",
              "9448  2020  6.590891  \n",
              "9449  2021  6.387397  \n",
              "9450  2022  6.814670  \n",
              "\n",
              "[9451 rows x 15 columns]"
            ]
          },
          "execution_count": 325,
          "metadata": {},
          "output_type": "execute_result"
        }
      ],
      "source": [
        "df3.reset_index()"
      ]
    },
    {
      "cell_type": "code",
      "execution_count": null,
      "metadata": {
        "id": "-WxzXoleBd8l",
        "outputId": "30ffa97c-5ebb-4fe0-b682-ad8fca71c6da"
      },
      "outputs": [
        {
          "data": {
            "text/plain": [
              "727"
            ]
          },
          "execution_count": 344,
          "metadata": {},
          "output_type": "execute_result"
        }
      ],
      "source": [
        "df3[df3['연도'] == 2022].value_counts().sum()"
      ]
    },
    {
      "cell_type": "markdown",
      "source": [
        "## 최종 아님"
      ],
      "metadata": {
        "id": "1v2ZPsdDBkso"
      }
    },
    {
      "cell_type": "code",
      "execution_count": null,
      "metadata": {
        "id": "xi2iv61JBd8l"
      },
      "outputs": [],
      "source": [
        "df3.to_csv('진짜최종.csv', index = False, encoding='utf-8-sig')"
      ]
    },
    {
      "cell_type": "code",
      "execution_count": null,
      "metadata": {
        "id": "Eu7jz36IBd8m"
      },
      "outputs": [],
      "source": [
        "import pandas as pd\n",
        "\n",
        "df_min =pd.read_csv('결측치없음.csv', encoding='cp949')\n",
        "df_in = pd.read_csv('진짜최종.csv', encoding= 'utf-8')"
      ]
    },
    {
      "cell_type": "code",
      "execution_count": null,
      "metadata": {
        "id": "7hGCOInIBd8m"
      },
      "outputs": [],
      "source": [
        "df_min.drop('Unnamed: 0', axis=1, inplace= True)"
      ]
    },
    {
      "cell_type": "code",
      "execution_count": null,
      "metadata": {
        "id": "ATzoeVg0Bd8m"
      },
      "outputs": [],
      "source": [
        "from datetime import datetime\n",
        "\n",
        "df_min['회계년도'] = pd.to_datetime(df_min['회계년도'])\n",
        "df_min['연도']= df_min['회계년도'].dt.year\n",
        "df_min['회계년도'] = df_min['회계년도'].dt.strftime('%Y/%m')"
      ]
    },
    {
      "cell_type": "code",
      "execution_count": null,
      "metadata": {
        "id": "wjSsp078Bd8m"
      },
      "outputs": [],
      "source": [
        "df_min['회계년도']= df_min['회계년도'].astype(str)"
      ]
    },
    {
      "cell_type": "code",
      "execution_count": null,
      "metadata": {
        "id": "jcnXpd8ABd8m",
        "outputId": "8228ce10-9edc-4f82-d08b-09605889b197"
      },
      "outputs": [
        {
          "data": {
            "text/html": [
              "<div>\n",
              "<style scoped>\n",
              "    .dataframe tbody tr th:only-of-type {\n",
              "        vertical-align: middle;\n",
              "    }\n",
              "\n",
              "    .dataframe tbody tr th {\n",
              "        vertical-align: top;\n",
              "    }\n",
              "\n",
              "    .dataframe thead th {\n",
              "        text-align: right;\n",
              "    }\n",
              "</style>\n",
              "<table border=\"1\" class=\"dataframe\">\n",
              "  <thead>\n",
              "    <tr style=\"text-align: right;\">\n",
              "      <th></th>\n",
              "      <th>회사명</th>\n",
              "      <th>거래소코드</th>\n",
              "      <th>회계년도</th>\n",
              "      <th>ROE</th>\n",
              "      <th>ROIC</th>\n",
              "      <th>OPEX/매출</th>\n",
              "      <th>잉여현금흐름</th>\n",
              "      <th>Buffett</th>\n",
              "      <th>ROCE</th>\n",
              "      <th>자사주매입1</th>\n",
              "      <th>자사주매입2</th>\n",
              "      <th>주주환원1</th>\n",
              "      <th>주주환원2</th>\n",
              "      <th>배당율</th>\n",
              "      <th>보통주식비율</th>\n",
              "      <th>연도</th>\n",
              "    </tr>\n",
              "  </thead>\n",
              "  <tbody>\n",
              "    <tr>\n",
              "      <th>0</th>\n",
              "      <td>케이알모터스(주)</td>\n",
              "      <td>40</td>\n",
              "      <td>2010/12</td>\n",
              "      <td>-0.008024</td>\n",
              "      <td>-0.004607</td>\n",
              "      <td>0.099983</td>\n",
              "      <td>16608229.0</td>\n",
              "      <td>1378953.0</td>\n",
              "      <td>0.936112</td>\n",
              "      <td>-0.000000</td>\n",
              "      <td>-0.0</td>\n",
              "      <td>-0.000000</td>\n",
              "      <td>-0.0</td>\n",
              "      <td>0.0</td>\n",
              "      <td>31.53</td>\n",
              "      <td>2010</td>\n",
              "    </tr>\n",
              "    <tr>\n",
              "      <th>1</th>\n",
              "      <td>케이알모터스(주)</td>\n",
              "      <td>40</td>\n",
              "      <td>2011/12</td>\n",
              "      <td>0.028117</td>\n",
              "      <td>0.017462</td>\n",
              "      <td>0.101558</td>\n",
              "      <td>-9483710.0</td>\n",
              "      <td>4940232.0</td>\n",
              "      <td>-0.254909</td>\n",
              "      <td>0.000000</td>\n",
              "      <td>0.0</td>\n",
              "      <td>0.000000</td>\n",
              "      <td>0.0</td>\n",
              "      <td>-0.0</td>\n",
              "      <td>31.53</td>\n",
              "      <td>2011</td>\n",
              "    </tr>\n",
              "    <tr>\n",
              "      <th>2</th>\n",
              "      <td>케이알모터스(주)</td>\n",
              "      <td>40</td>\n",
              "      <td>2012/12</td>\n",
              "      <td>-0.127075</td>\n",
              "      <td>-0.078015</td>\n",
              "      <td>0.122010</td>\n",
              "      <td>-5545690.0</td>\n",
              "      <td>-5606436.0</td>\n",
              "      <td>-0.148497</td>\n",
              "      <td>-0.000000</td>\n",
              "      <td>-0.0</td>\n",
              "      <td>-0.000000</td>\n",
              "      <td>-0.0</td>\n",
              "      <td>0.0</td>\n",
              "      <td>32.10</td>\n",
              "      <td>2012</td>\n",
              "    </tr>\n",
              "    <tr>\n",
              "      <th>3</th>\n",
              "      <td>케이알모터스(주)</td>\n",
              "      <td>40</td>\n",
              "      <td>2013/12</td>\n",
              "      <td>-0.112003</td>\n",
              "      <td>-0.065277</td>\n",
              "      <td>0.110926</td>\n",
              "      <td>-3093752.0</td>\n",
              "      <td>-7058574.0</td>\n",
              "      <td>0.034653</td>\n",
              "      <td>-0.000000</td>\n",
              "      <td>-0.0</td>\n",
              "      <td>-0.000000</td>\n",
              "      <td>-0.0</td>\n",
              "      <td>0.0</td>\n",
              "      <td>32.09</td>\n",
              "      <td>2013</td>\n",
              "    </tr>\n",
              "    <tr>\n",
              "      <th>4</th>\n",
              "      <td>케이알모터스(주)</td>\n",
              "      <td>40</td>\n",
              "      <td>2014/12</td>\n",
              "      <td>-0.246924</td>\n",
              "      <td>-0.116590</td>\n",
              "      <td>0.158845</td>\n",
              "      <td>-47047856.0</td>\n",
              "      <td>-24120954.0</td>\n",
              "      <td>-53.260413</td>\n",
              "      <td>-0.000000</td>\n",
              "      <td>-0.0</td>\n",
              "      <td>-0.000000</td>\n",
              "      <td>-0.0</td>\n",
              "      <td>0.0</td>\n",
              "      <td>32.09</td>\n",
              "      <td>2014</td>\n",
              "    </tr>\n",
              "    <tr>\n",
              "      <th>...</th>\n",
              "      <td>...</td>\n",
              "      <td>...</td>\n",
              "      <td>...</td>\n",
              "      <td>...</td>\n",
              "      <td>...</td>\n",
              "      <td>...</td>\n",
              "      <td>...</td>\n",
              "      <td>...</td>\n",
              "      <td>...</td>\n",
              "      <td>...</td>\n",
              "      <td>...</td>\n",
              "      <td>...</td>\n",
              "      <td>...</td>\n",
              "      <td>...</td>\n",
              "      <td>...</td>\n",
              "      <td>...</td>\n",
              "    </tr>\n",
              "    <tr>\n",
              "      <th>7028</th>\n",
              "      <td>엘브이엠씨홀딩스(주)</td>\n",
              "      <td>900140</td>\n",
              "      <td>2018/12</td>\n",
              "      <td>-0.129496</td>\n",
              "      <td>-0.095922</td>\n",
              "      <td>0.225463</td>\n",
              "      <td>-14565119.0</td>\n",
              "      <td>-51762067.0</td>\n",
              "      <td>0.003358</td>\n",
              "      <td>-0.060133</td>\n",
              "      <td>-0.0</td>\n",
              "      <td>-0.060133</td>\n",
              "      <td>-0.0</td>\n",
              "      <td>0.0</td>\n",
              "      <td>45.01</td>\n",
              "      <td>2018</td>\n",
              "    </tr>\n",
              "    <tr>\n",
              "      <th>7029</th>\n",
              "      <td>엘브이엠씨홀딩스(주)</td>\n",
              "      <td>900140</td>\n",
              "      <td>2019/12</td>\n",
              "      <td>-0.162199</td>\n",
              "      <td>-0.110801</td>\n",
              "      <td>0.153946</td>\n",
              "      <td>20486655.0</td>\n",
              "      <td>-41882430.0</td>\n",
              "      <td>0.242182</td>\n",
              "      <td>-0.000000</td>\n",
              "      <td>-0.0</td>\n",
              "      <td>-0.000000</td>\n",
              "      <td>-0.0</td>\n",
              "      <td>0.0</td>\n",
              "      <td>45.09</td>\n",
              "      <td>2019</td>\n",
              "    </tr>\n",
              "    <tr>\n",
              "      <th>7030</th>\n",
              "      <td>엘브이엠씨홀딩스(주)</td>\n",
              "      <td>900140</td>\n",
              "      <td>2020/12</td>\n",
              "      <td>-0.071747</td>\n",
              "      <td>-0.056633</td>\n",
              "      <td>0.176435</td>\n",
              "      <td>62682386.0</td>\n",
              "      <td>-9474979.0</td>\n",
              "      <td>0.590186</td>\n",
              "      <td>-0.000000</td>\n",
              "      <td>-0.0</td>\n",
              "      <td>-0.000000</td>\n",
              "      <td>-0.0</td>\n",
              "      <td>0.0</td>\n",
              "      <td>38.45</td>\n",
              "      <td>2020</td>\n",
              "    </tr>\n",
              "    <tr>\n",
              "      <th>7031</th>\n",
              "      <td>엘브이엠씨홀딩스(주)</td>\n",
              "      <td>900140</td>\n",
              "      <td>2021/12</td>\n",
              "      <td>-0.049496</td>\n",
              "      <td>-0.059361</td>\n",
              "      <td>0.219790</td>\n",
              "      <td>108519914.0</td>\n",
              "      <td>-1793524.0</td>\n",
              "      <td>0.525809</td>\n",
              "      <td>-0.000000</td>\n",
              "      <td>-0.0</td>\n",
              "      <td>-0.000000</td>\n",
              "      <td>-0.0</td>\n",
              "      <td>0.0</td>\n",
              "      <td>47.81</td>\n",
              "      <td>2021</td>\n",
              "    </tr>\n",
              "    <tr>\n",
              "      <th>7032</th>\n",
              "      <td>엘브이엠씨홀딩스(주)</td>\n",
              "      <td>900140</td>\n",
              "      <td>2022/12</td>\n",
              "      <td>-0.094044</td>\n",
              "      <td>-0.159704</td>\n",
              "      <td>0.188620</td>\n",
              "      <td>66097678.0</td>\n",
              "      <td>-20169680.0</td>\n",
              "      <td>0.318786</td>\n",
              "      <td>-0.000000</td>\n",
              "      <td>-0.0</td>\n",
              "      <td>-0.000000</td>\n",
              "      <td>-0.0</td>\n",
              "      <td>0.0</td>\n",
              "      <td>47.81</td>\n",
              "      <td>2022</td>\n",
              "    </tr>\n",
              "  </tbody>\n",
              "</table>\n",
              "<p>7033 rows × 16 columns</p>\n",
              "</div>"
            ],
            "text/plain": [
              "              회사명   거래소코드     회계년도       ROE      ROIC   OPEX/매출       잉여현금흐름  \\\n",
              "0       케이알모터스(주)      40  2010/12 -0.008024 -0.004607  0.099983   16608229.0   \n",
              "1       케이알모터스(주)      40  2011/12  0.028117  0.017462  0.101558   -9483710.0   \n",
              "2       케이알모터스(주)      40  2012/12 -0.127075 -0.078015  0.122010   -5545690.0   \n",
              "3       케이알모터스(주)      40  2013/12 -0.112003 -0.065277  0.110926   -3093752.0   \n",
              "4       케이알모터스(주)      40  2014/12 -0.246924 -0.116590  0.158845  -47047856.0   \n",
              "...           ...     ...      ...       ...       ...       ...          ...   \n",
              "7028  엘브이엠씨홀딩스(주)  900140  2018/12 -0.129496 -0.095922  0.225463  -14565119.0   \n",
              "7029  엘브이엠씨홀딩스(주)  900140  2019/12 -0.162199 -0.110801  0.153946   20486655.0   \n",
              "7030  엘브이엠씨홀딩스(주)  900140  2020/12 -0.071747 -0.056633  0.176435   62682386.0   \n",
              "7031  엘브이엠씨홀딩스(주)  900140  2021/12 -0.049496 -0.059361  0.219790  108519914.0   \n",
              "7032  엘브이엠씨홀딩스(주)  900140  2022/12 -0.094044 -0.159704  0.188620   66097678.0   \n",
              "\n",
              "         Buffett       ROCE    자사주매입1  자사주매입2     주주환원1  주주환원2  배당율  보통주식비율  \\\n",
              "0      1378953.0   0.936112 -0.000000    -0.0 -0.000000   -0.0  0.0   31.53   \n",
              "1      4940232.0  -0.254909  0.000000     0.0  0.000000    0.0 -0.0   31.53   \n",
              "2     -5606436.0  -0.148497 -0.000000    -0.0 -0.000000   -0.0  0.0   32.10   \n",
              "3     -7058574.0   0.034653 -0.000000    -0.0 -0.000000   -0.0  0.0   32.09   \n",
              "4    -24120954.0 -53.260413 -0.000000    -0.0 -0.000000   -0.0  0.0   32.09   \n",
              "...          ...        ...       ...     ...       ...    ...  ...     ...   \n",
              "7028 -51762067.0   0.003358 -0.060133    -0.0 -0.060133   -0.0  0.0   45.01   \n",
              "7029 -41882430.0   0.242182 -0.000000    -0.0 -0.000000   -0.0  0.0   45.09   \n",
              "7030  -9474979.0   0.590186 -0.000000    -0.0 -0.000000   -0.0  0.0   38.45   \n",
              "7031  -1793524.0   0.525809 -0.000000    -0.0 -0.000000   -0.0  0.0   47.81   \n",
              "7032 -20169680.0   0.318786 -0.000000    -0.0 -0.000000   -0.0  0.0   47.81   \n",
              "\n",
              "        연도  \n",
              "0     2010  \n",
              "1     2011  \n",
              "2     2012  \n",
              "3     2013  \n",
              "4     2014  \n",
              "...    ...  \n",
              "7028  2018  \n",
              "7029  2019  \n",
              "7030  2020  \n",
              "7031  2021  \n",
              "7032  2022  \n",
              "\n",
              "[7033 rows x 16 columns]"
            ]
          },
          "execution_count": 366,
          "metadata": {},
          "output_type": "execute_result"
        }
      ],
      "source": [
        "df_min"
      ]
    },
    {
      "cell_type": "code",
      "execution_count": null,
      "metadata": {
        "id": "P4XbUcXqBd8m",
        "outputId": "d582ca4d-0ca8-4cb7-cda8-eccfafe622fb"
      },
      "outputs": [
        {
          "data": {
            "text/html": [
              "<div>\n",
              "<style scoped>\n",
              "    .dataframe tbody tr th:only-of-type {\n",
              "        vertical-align: middle;\n",
              "    }\n",
              "\n",
              "    .dataframe tbody tr th {\n",
              "        vertical-align: top;\n",
              "    }\n",
              "\n",
              "    .dataframe thead th {\n",
              "        text-align: right;\n",
              "    }\n",
              "</style>\n",
              "<table border=\"1\" class=\"dataframe\">\n",
              "  <thead>\n",
              "    <tr style=\"text-align: right;\">\n",
              "      <th></th>\n",
              "      <th>회사명</th>\n",
              "      <th>거래소코드</th>\n",
              "      <th>회계년도</th>\n",
              "      <th>평가사명 및 등급</th>\n",
              "      <th>신용등급</th>\n",
              "      <th>증권명</th>\n",
              "      <th>자산총계</th>\n",
              "      <th>부채비율</th>\n",
              "      <th>당좌비율</th>\n",
              "      <th>유동비율</th>\n",
              "      <th>자기자본 비율</th>\n",
              "      <th>재무레버리지</th>\n",
              "      <th>연도</th>\n",
              "      <th>신용스프레드</th>\n",
              "    </tr>\n",
              "  </thead>\n",
              "  <tbody>\n",
              "    <tr>\n",
              "      <th>0</th>\n",
              "      <td>(주)DB하이텍</td>\n",
              "      <td>990</td>\n",
              "      <td>2010/12</td>\n",
              "      <td>한국기업평가(AAA~D)</td>\n",
              "      <td>BBB-</td>\n",
              "      <td>기업신용등급</td>\n",
              "      <td>1.381251e+09</td>\n",
              "      <td>247.033931</td>\n",
              "      <td>0.094359</td>\n",
              "      <td>1.404803</td>\n",
              "      <td>100.000000</td>\n",
              "      <td>2.470339</td>\n",
              "      <td>2010</td>\n",
              "      <td>6.934648</td>\n",
              "    </tr>\n",
              "    <tr>\n",
              "      <th>1</th>\n",
              "      <td>(주)DB하이텍</td>\n",
              "      <td>990</td>\n",
              "      <td>2011/12</td>\n",
              "      <td>한신정평가(AAA~D)</td>\n",
              "      <td>BBB-</td>\n",
              "      <td>기업신용등급</td>\n",
              "      <td>1.199044e+09</td>\n",
              "      <td>289.222002</td>\n",
              "      <td>0.044922</td>\n",
              "      <td>1.345755</td>\n",
              "      <td>100.000000</td>\n",
              "      <td>2.892220</td>\n",
              "      <td>2011</td>\n",
              "      <td>6.679649</td>\n",
              "    </tr>\n",
              "    <tr>\n",
              "      <th>2</th>\n",
              "      <td>(주)DB하이텍</td>\n",
              "      <td>990</td>\n",
              "      <td>2012/12</td>\n",
              "      <td>한국신용평가(AAA~D)</td>\n",
              "      <td>BBB-</td>\n",
              "      <td>기업신용등급</td>\n",
              "      <td>1.157755e+09</td>\n",
              "      <td>297.999848</td>\n",
              "      <td>0.046048</td>\n",
              "      <td>1.335571</td>\n",
              "      <td>100.000000</td>\n",
              "      <td>2.979998</td>\n",
              "      <td>2012</td>\n",
              "      <td>6.018549</td>\n",
              "    </tr>\n",
              "    <tr>\n",
              "      <th>3</th>\n",
              "      <td>(주)DB하이텍</td>\n",
              "      <td>990</td>\n",
              "      <td>2013/12</td>\n",
              "      <td>한신정평가(AAA~D)</td>\n",
              "      <td>BBB-</td>\n",
              "      <td>-</td>\n",
              "      <td>1.058392e+09</td>\n",
              "      <td>416.902052</td>\n",
              "      <td>0.041261</td>\n",
              "      <td>1.239864</td>\n",
              "      <td>100.000000</td>\n",
              "      <td>4.169021</td>\n",
              "      <td>2013</td>\n",
              "      <td>6.058273</td>\n",
              "    </tr>\n",
              "    <tr>\n",
              "      <th>4</th>\n",
              "      <td>(주)DB하이텍</td>\n",
              "      <td>990</td>\n",
              "      <td>2014/12</td>\n",
              "      <td>한신정평가(AAA~D)</td>\n",
              "      <td>BBB-</td>\n",
              "      <td>기업신용등급</td>\n",
              "      <td>9.848766e+08</td>\n",
              "      <td>715.952219</td>\n",
              "      <td>0.046714</td>\n",
              "      <td>1.139674</td>\n",
              "      <td>100.000000</td>\n",
              "      <td>7.159522</td>\n",
              "      <td>2014</td>\n",
              "      <td>6.242679</td>\n",
              "    </tr>\n",
              "    <tr>\n",
              "      <th>...</th>\n",
              "      <td>...</td>\n",
              "      <td>...</td>\n",
              "      <td>...</td>\n",
              "      <td>...</td>\n",
              "      <td>...</td>\n",
              "      <td>...</td>\n",
              "      <td>...</td>\n",
              "      <td>...</td>\n",
              "      <td>...</td>\n",
              "      <td>...</td>\n",
              "      <td>...</td>\n",
              "      <td>...</td>\n",
              "      <td>...</td>\n",
              "      <td>...</td>\n",
              "    </tr>\n",
              "    <tr>\n",
              "      <th>9550</th>\n",
              "      <td>흥아해운(주)</td>\n",
              "      <td>3280</td>\n",
              "      <td>2018/12</td>\n",
              "      <td>한국기업평가</td>\n",
              "      <td>BBB-</td>\n",
              "      <td>회사채</td>\n",
              "      <td>8.036985e+08</td>\n",
              "      <td>998.726601</td>\n",
              "      <td>0.020906</td>\n",
              "      <td>1.100128</td>\n",
              "      <td>100.000000</td>\n",
              "      <td>9.987266</td>\n",
              "      <td>2018</td>\n",
              "      <td>6.562249</td>\n",
              "    </tr>\n",
              "    <tr>\n",
              "      <th>9551</th>\n",
              "      <td>흥아해운(주)</td>\n",
              "      <td>3280</td>\n",
              "      <td>2019/12</td>\n",
              "      <td>한국기업평가</td>\n",
              "      <td>BBB-</td>\n",
              "      <td>회사채</td>\n",
              "      <td>4.309627e+08</td>\n",
              "      <td>1293.827044</td>\n",
              "      <td>0.034140</td>\n",
              "      <td>1.077290</td>\n",
              "      <td>100.000000</td>\n",
              "      <td>12.938270</td>\n",
              "      <td>2019</td>\n",
              "      <td>6.366166</td>\n",
              "    </tr>\n",
              "    <tr>\n",
              "      <th>9552</th>\n",
              "      <td>흥아해운(주)</td>\n",
              "      <td>3280</td>\n",
              "      <td>2020/12</td>\n",
              "      <td>한국기업평가</td>\n",
              "      <td>BBB-</td>\n",
              "      <td>회사채</td>\n",
              "      <td>2.867760e+08</td>\n",
              "      <td>-1191.072253</td>\n",
              "      <td>0.015692</td>\n",
              "      <td>0.916042</td>\n",
              "      <td>100.000000</td>\n",
              "      <td>-11.910723</td>\n",
              "      <td>2020</td>\n",
              "      <td>6.590891</td>\n",
              "    </tr>\n",
              "    <tr>\n",
              "      <th>9553</th>\n",
              "      <td>흥아해운(주)</td>\n",
              "      <td>3280</td>\n",
              "      <td>2021/12</td>\n",
              "      <td>한국기업평가</td>\n",
              "      <td>BBB-</td>\n",
              "      <td>회사채</td>\n",
              "      <td>2.472987e+08</td>\n",
              "      <td>140.236247</td>\n",
              "      <td>0.264540</td>\n",
              "      <td>1.713082</td>\n",
              "      <td>100.000000</td>\n",
              "      <td>1.402362</td>\n",
              "      <td>2021</td>\n",
              "      <td>6.387397</td>\n",
              "    </tr>\n",
              "    <tr>\n",
              "      <th>9554</th>\n",
              "      <td>흥아해운(주)</td>\n",
              "      <td>3280</td>\n",
              "      <td>2022/12</td>\n",
              "      <td>한국기업평가</td>\n",
              "      <td>BBB-</td>\n",
              "      <td>회사채</td>\n",
              "      <td>3.170599e+08</td>\n",
              "      <td>134.330257</td>\n",
              "      <td>0.334535</td>\n",
              "      <td>1.744434</td>\n",
              "      <td>100.000001</td>\n",
              "      <td>1.343303</td>\n",
              "      <td>2022</td>\n",
              "      <td>6.814670</td>\n",
              "    </tr>\n",
              "  </tbody>\n",
              "</table>\n",
              "<p>9451 rows × 14 columns</p>\n",
              "</div>"
            ],
            "text/plain": [
              "           회사명  거래소코드     회계년도      평가사명 및 등급  신용등급     증권명          자산총계  \\\n",
              "0     (주)DB하이텍    990  2010/12  한국기업평가(AAA~D)  BBB-  기업신용등급  1.381251e+09   \n",
              "1     (주)DB하이텍    990  2011/12   한신정평가(AAA~D)  BBB-  기업신용등급  1.199044e+09   \n",
              "2     (주)DB하이텍    990  2012/12  한국신용평가(AAA~D)  BBB-  기업신용등급  1.157755e+09   \n",
              "3     (주)DB하이텍    990  2013/12   한신정평가(AAA~D)  BBB-       -  1.058392e+09   \n",
              "4     (주)DB하이텍    990  2014/12   한신정평가(AAA~D)  BBB-  기업신용등급  9.848766e+08   \n",
              "...        ...    ...      ...            ...   ...     ...           ...   \n",
              "9550   흥아해운(주)   3280  2018/12         한국기업평가  BBB-     회사채  8.036985e+08   \n",
              "9551   흥아해운(주)   3280  2019/12         한국기업평가  BBB-     회사채  4.309627e+08   \n",
              "9552   흥아해운(주)   3280  2020/12         한국기업평가  BBB-     회사채  2.867760e+08   \n",
              "9553   흥아해운(주)   3280  2021/12         한국기업평가  BBB-     회사채  2.472987e+08   \n",
              "9554   흥아해운(주)   3280  2022/12         한국기업평가  BBB-     회사채  3.170599e+08   \n",
              "\n",
              "             부채비율      당좌비율      유동비율     자기자본 비율     재무레버리지    연도    신용스프레드  \n",
              "0      247.033931  0.094359  1.404803  100.000000   2.470339  2010  6.934648  \n",
              "1      289.222002  0.044922  1.345755  100.000000   2.892220  2011  6.679649  \n",
              "2      297.999848  0.046048  1.335571  100.000000   2.979998  2012  6.018549  \n",
              "3      416.902052  0.041261  1.239864  100.000000   4.169021  2013  6.058273  \n",
              "4      715.952219  0.046714  1.139674  100.000000   7.159522  2014  6.242679  \n",
              "...           ...       ...       ...         ...        ...   ...       ...  \n",
              "9550   998.726601  0.020906  1.100128  100.000000   9.987266  2018  6.562249  \n",
              "9551  1293.827044  0.034140  1.077290  100.000000  12.938270  2019  6.366166  \n",
              "9552 -1191.072253  0.015692  0.916042  100.000000 -11.910723  2020  6.590891  \n",
              "9553   140.236247  0.264540  1.713082  100.000000   1.402362  2021  6.387397  \n",
              "9554   134.330257  0.334535  1.744434  100.000001   1.343303  2022  6.814670  \n",
              "\n",
              "[9451 rows x 14 columns]"
            ]
          },
          "execution_count": 361,
          "metadata": {},
          "output_type": "execute_result"
        }
      ],
      "source": [
        "df3"
      ]
    },
    {
      "cell_type": "code",
      "execution_count": null,
      "metadata": {
        "id": "6wrkZSjlBd8m"
      },
      "outputs": [],
      "source": [
        "df_merge = pd.merge(df_min, df3, on = ['회사명','연도', '거래소코드','회계년도'], how='inner')"
      ]
    },
    {
      "cell_type": "code",
      "execution_count": null,
      "metadata": {
        "id": "OjuuEgUHBd8n",
        "outputId": "4c819370-e521-418c-fec7-5ba8b9ad13f2"
      },
      "outputs": [
        {
          "data": {
            "text/html": [
              "<div>\n",
              "<style scoped>\n",
              "    .dataframe tbody tr th:only-of-type {\n",
              "        vertical-align: middle;\n",
              "    }\n",
              "\n",
              "    .dataframe tbody tr th {\n",
              "        vertical-align: top;\n",
              "    }\n",
              "\n",
              "    .dataframe thead th {\n",
              "        text-align: right;\n",
              "    }\n",
              "</style>\n",
              "<table border=\"1\" class=\"dataframe\">\n",
              "  <thead>\n",
              "    <tr style=\"text-align: right;\">\n",
              "      <th></th>\n",
              "      <th>회사명</th>\n",
              "      <th>거래소코드</th>\n",
              "      <th>회계년도</th>\n",
              "      <th>ROE</th>\n",
              "      <th>ROIC</th>\n",
              "      <th>OPEX/매출</th>\n",
              "      <th>잉여현금흐름</th>\n",
              "      <th>Buffett</th>\n",
              "      <th>ROCE</th>\n",
              "      <th>자사주매입1</th>\n",
              "      <th>...</th>\n",
              "      <th>평가사명 및 등급</th>\n",
              "      <th>신용등급</th>\n",
              "      <th>증권명</th>\n",
              "      <th>자산총계</th>\n",
              "      <th>부채비율</th>\n",
              "      <th>당좌비율</th>\n",
              "      <th>유동비율</th>\n",
              "      <th>자기자본 비율</th>\n",
              "      <th>재무레버리지</th>\n",
              "      <th>신용스프레드</th>\n",
              "    </tr>\n",
              "  </thead>\n",
              "  <tbody>\n",
              "    <tr>\n",
              "      <th>0</th>\n",
              "      <td>케이알모터스(주)</td>\n",
              "      <td>40</td>\n",
              "      <td>2010/12</td>\n",
              "      <td>-0.008024</td>\n",
              "      <td>-0.004607</td>\n",
              "      <td>0.099983</td>\n",
              "      <td>16608229.0</td>\n",
              "      <td>1378953.0</td>\n",
              "      <td>0.936112</td>\n",
              "      <td>-0.000000</td>\n",
              "      <td>...</td>\n",
              "      <td>ubion</td>\n",
              "      <td>BBB-</td>\n",
              "      <td>회사채</td>\n",
              "      <td>144696998.0</td>\n",
              "      <td>116.862453</td>\n",
              "      <td>0.364804</td>\n",
              "      <td>1.855707</td>\n",
              "      <td>100.000000</td>\n",
              "      <td>1.168625</td>\n",
              "      <td>6.934648</td>\n",
              "    </tr>\n",
              "    <tr>\n",
              "      <th>1</th>\n",
              "      <td>케이알모터스(주)</td>\n",
              "      <td>40</td>\n",
              "      <td>2011/12</td>\n",
              "      <td>0.028117</td>\n",
              "      <td>0.017462</td>\n",
              "      <td>0.101558</td>\n",
              "      <td>-9483710.0</td>\n",
              "      <td>4940232.0</td>\n",
              "      <td>-0.254909</td>\n",
              "      <td>0.000000</td>\n",
              "      <td>...</td>\n",
              "      <td>ubion</td>\n",
              "      <td>BBB-</td>\n",
              "      <td>회사채</td>\n",
              "      <td>133337774.0</td>\n",
              "      <td>93.904524</td>\n",
              "      <td>0.236443</td>\n",
              "      <td>2.064911</td>\n",
              "      <td>99.999999</td>\n",
              "      <td>0.939045</td>\n",
              "      <td>6.679649</td>\n",
              "    </tr>\n",
              "    <tr>\n",
              "      <th>2</th>\n",
              "      <td>케이알모터스(주)</td>\n",
              "      <td>40</td>\n",
              "      <td>2012/12</td>\n",
              "      <td>-0.127075</td>\n",
              "      <td>-0.078015</td>\n",
              "      <td>0.122010</td>\n",
              "      <td>-5545690.0</td>\n",
              "      <td>-5606436.0</td>\n",
              "      <td>-0.148497</td>\n",
              "      <td>-0.000000</td>\n",
              "      <td>...</td>\n",
              "      <td>ubion</td>\n",
              "      <td>BBB-</td>\n",
              "      <td>회사채</td>\n",
              "      <td>119327267.0</td>\n",
              "      <td>96.271085</td>\n",
              "      <td>0.174897</td>\n",
              "      <td>2.038733</td>\n",
              "      <td>100.000000</td>\n",
              "      <td>0.962711</td>\n",
              "      <td>6.018549</td>\n",
              "    </tr>\n",
              "    <tr>\n",
              "      <th>3</th>\n",
              "      <td>케이알모터스(주)</td>\n",
              "      <td>40</td>\n",
              "      <td>2013/12</td>\n",
              "      <td>-0.112003</td>\n",
              "      <td>-0.065277</td>\n",
              "      <td>0.110926</td>\n",
              "      <td>-3093752.0</td>\n",
              "      <td>-7058574.0</td>\n",
              "      <td>0.034653</td>\n",
              "      <td>-0.000000</td>\n",
              "      <td>...</td>\n",
              "      <td>ubion</td>\n",
              "      <td>BBB-</td>\n",
              "      <td>회사채</td>\n",
              "      <td>116931646.0</td>\n",
              "      <td>104.016997</td>\n",
              "      <td>0.132807</td>\n",
              "      <td>1.961381</td>\n",
              "      <td>100.000000</td>\n",
              "      <td>1.040170</td>\n",
              "      <td>6.058273</td>\n",
              "    </tr>\n",
              "    <tr>\n",
              "      <th>4</th>\n",
              "      <td>케이알모터스(주)</td>\n",
              "      <td>40</td>\n",
              "      <td>2014/12</td>\n",
              "      <td>-0.246924</td>\n",
              "      <td>-0.116590</td>\n",
              "      <td>0.158845</td>\n",
              "      <td>-47047856.0</td>\n",
              "      <td>-24120954.0</td>\n",
              "      <td>-53.260413</td>\n",
              "      <td>-0.000000</td>\n",
              "      <td>...</td>\n",
              "      <td>ubion</td>\n",
              "      <td>BBB-</td>\n",
              "      <td>회사채</td>\n",
              "      <td>136844164.0</td>\n",
              "      <td>198.940632</td>\n",
              "      <td>0.065340</td>\n",
              "      <td>1.502663</td>\n",
              "      <td>100.000000</td>\n",
              "      <td>1.989406</td>\n",
              "      <td>6.242679</td>\n",
              "    </tr>\n",
              "    <tr>\n",
              "      <th>...</th>\n",
              "      <td>...</td>\n",
              "      <td>...</td>\n",
              "      <td>...</td>\n",
              "      <td>...</td>\n",
              "      <td>...</td>\n",
              "      <td>...</td>\n",
              "      <td>...</td>\n",
              "      <td>...</td>\n",
              "      <td>...</td>\n",
              "      <td>...</td>\n",
              "      <td>...</td>\n",
              "      <td>...</td>\n",
              "      <td>...</td>\n",
              "      <td>...</td>\n",
              "      <td>...</td>\n",
              "      <td>...</td>\n",
              "      <td>...</td>\n",
              "      <td>...</td>\n",
              "      <td>...</td>\n",
              "      <td>...</td>\n",
              "      <td>...</td>\n",
              "    </tr>\n",
              "    <tr>\n",
              "      <th>5468</th>\n",
              "      <td>엘브이엠씨홀딩스(주)</td>\n",
              "      <td>900140</td>\n",
              "      <td>2018/12</td>\n",
              "      <td>-0.129496</td>\n",
              "      <td>-0.095922</td>\n",
              "      <td>0.225463</td>\n",
              "      <td>-14565119.0</td>\n",
              "      <td>-51762067.0</td>\n",
              "      <td>0.003358</td>\n",
              "      <td>-0.060133</td>\n",
              "      <td>...</td>\n",
              "      <td>ubion</td>\n",
              "      <td>BBB-</td>\n",
              "      <td>회사채</td>\n",
              "      <td>653661541.0</td>\n",
              "      <td>81.750279</td>\n",
              "      <td>0.088853</td>\n",
              "      <td>2.223237</td>\n",
              "      <td>100.000000</td>\n",
              "      <td>0.817503</td>\n",
              "      <td>6.562249</td>\n",
              "    </tr>\n",
              "    <tr>\n",
              "      <th>5469</th>\n",
              "      <td>엘브이엠씨홀딩스(주)</td>\n",
              "      <td>900140</td>\n",
              "      <td>2019/12</td>\n",
              "      <td>-0.162199</td>\n",
              "      <td>-0.110801</td>\n",
              "      <td>0.153946</td>\n",
              "      <td>20486655.0</td>\n",
              "      <td>-41882430.0</td>\n",
              "      <td>0.242182</td>\n",
              "      <td>-0.000000</td>\n",
              "      <td>...</td>\n",
              "      <td>ubion</td>\n",
              "      <td>BBB-</td>\n",
              "      <td>회사채</td>\n",
              "      <td>678847944.0</td>\n",
              "      <td>108.280844</td>\n",
              "      <td>0.034137</td>\n",
              "      <td>1.923524</td>\n",
              "      <td>100.000000</td>\n",
              "      <td>1.082808</td>\n",
              "      <td>6.366166</td>\n",
              "    </tr>\n",
              "    <tr>\n",
              "      <th>5470</th>\n",
              "      <td>엘브이엠씨홀딩스(주)</td>\n",
              "      <td>900140</td>\n",
              "      <td>2020/12</td>\n",
              "      <td>-0.071747</td>\n",
              "      <td>-0.056633</td>\n",
              "      <td>0.176435</td>\n",
              "      <td>62682386.0</td>\n",
              "      <td>-9474979.0</td>\n",
              "      <td>0.590186</td>\n",
              "      <td>-0.000000</td>\n",
              "      <td>...</td>\n",
              "      <td>태국 TRIS 신용평가</td>\n",
              "      <td>BBB-</td>\n",
              "      <td>회사채</td>\n",
              "      <td>647658915.0</td>\n",
              "      <td>80.584317</td>\n",
              "      <td>0.120262</td>\n",
              "      <td>2.240936</td>\n",
              "      <td>100.000000</td>\n",
              "      <td>0.805843</td>\n",
              "      <td>6.590891</td>\n",
              "    </tr>\n",
              "    <tr>\n",
              "      <th>5471</th>\n",
              "      <td>엘브이엠씨홀딩스(주)</td>\n",
              "      <td>900140</td>\n",
              "      <td>2021/12</td>\n",
              "      <td>-0.049496</td>\n",
              "      <td>-0.059361</td>\n",
              "      <td>0.219790</td>\n",
              "      <td>108519914.0</td>\n",
              "      <td>-1793524.0</td>\n",
              "      <td>0.525809</td>\n",
              "      <td>-0.000000</td>\n",
              "      <td>...</td>\n",
              "      <td>ubion</td>\n",
              "      <td>BBB-</td>\n",
              "      <td>회사채</td>\n",
              "      <td>661447272.0</td>\n",
              "      <td>52.861742</td>\n",
              "      <td>0.092248</td>\n",
              "      <td>2.891727</td>\n",
              "      <td>100.000000</td>\n",
              "      <td>0.528617</td>\n",
              "      <td>6.387397</td>\n",
              "    </tr>\n",
              "    <tr>\n",
              "      <th>5472</th>\n",
              "      <td>엘브이엠씨홀딩스(주)</td>\n",
              "      <td>900140</td>\n",
              "      <td>2022/12</td>\n",
              "      <td>-0.094044</td>\n",
              "      <td>-0.159704</td>\n",
              "      <td>0.188620</td>\n",
              "      <td>66097678.0</td>\n",
              "      <td>-20169680.0</td>\n",
              "      <td>0.318786</td>\n",
              "      <td>-0.000000</td>\n",
              "      <td>...</td>\n",
              "      <td>ubion</td>\n",
              "      <td>BBB-</td>\n",
              "      <td>회사채</td>\n",
              "      <td>667268823.0</td>\n",
              "      <td>62.031183</td>\n",
              "      <td>0.064233</td>\n",
              "      <td>2.612092</td>\n",
              "      <td>100.000000</td>\n",
              "      <td>0.620312</td>\n",
              "      <td>6.814670</td>\n",
              "    </tr>\n",
              "  </tbody>\n",
              "</table>\n",
              "<p>5473 rows × 26 columns</p>\n",
              "</div>"
            ],
            "text/plain": [
              "              회사명   거래소코드     회계년도       ROE      ROIC   OPEX/매출       잉여현금흐름  \\\n",
              "0       케이알모터스(주)      40  2010/12 -0.008024 -0.004607  0.099983   16608229.0   \n",
              "1       케이알모터스(주)      40  2011/12  0.028117  0.017462  0.101558   -9483710.0   \n",
              "2       케이알모터스(주)      40  2012/12 -0.127075 -0.078015  0.122010   -5545690.0   \n",
              "3       케이알모터스(주)      40  2013/12 -0.112003 -0.065277  0.110926   -3093752.0   \n",
              "4       케이알모터스(주)      40  2014/12 -0.246924 -0.116590  0.158845  -47047856.0   \n",
              "...           ...     ...      ...       ...       ...       ...          ...   \n",
              "5468  엘브이엠씨홀딩스(주)  900140  2018/12 -0.129496 -0.095922  0.225463  -14565119.0   \n",
              "5469  엘브이엠씨홀딩스(주)  900140  2019/12 -0.162199 -0.110801  0.153946   20486655.0   \n",
              "5470  엘브이엠씨홀딩스(주)  900140  2020/12 -0.071747 -0.056633  0.176435   62682386.0   \n",
              "5471  엘브이엠씨홀딩스(주)  900140  2021/12 -0.049496 -0.059361  0.219790  108519914.0   \n",
              "5472  엘브이엠씨홀딩스(주)  900140  2022/12 -0.094044 -0.159704  0.188620   66097678.0   \n",
              "\n",
              "         Buffett       ROCE    자사주매입1  ...     평가사명 및 등급  신용등급  증권명  \\\n",
              "0      1378953.0   0.936112 -0.000000  ...         ubion  BBB-  회사채   \n",
              "1      4940232.0  -0.254909  0.000000  ...         ubion  BBB-  회사채   \n",
              "2     -5606436.0  -0.148497 -0.000000  ...         ubion  BBB-  회사채   \n",
              "3     -7058574.0   0.034653 -0.000000  ...         ubion  BBB-  회사채   \n",
              "4    -24120954.0 -53.260413 -0.000000  ...         ubion  BBB-  회사채   \n",
              "...          ...        ...       ...  ...           ...   ...  ...   \n",
              "5468 -51762067.0   0.003358 -0.060133  ...         ubion  BBB-  회사채   \n",
              "5469 -41882430.0   0.242182 -0.000000  ...         ubion  BBB-  회사채   \n",
              "5470  -9474979.0   0.590186 -0.000000  ...  태국 TRIS 신용평가  BBB-  회사채   \n",
              "5471  -1793524.0   0.525809 -0.000000  ...         ubion  BBB-  회사채   \n",
              "5472 -20169680.0   0.318786 -0.000000  ...         ubion  BBB-  회사채   \n",
              "\n",
              "             자산총계        부채비율      당좌비율      유동비율     자기자본 비율    재무레버리지  \\\n",
              "0     144696998.0  116.862453  0.364804  1.855707  100.000000  1.168625   \n",
              "1     133337774.0   93.904524  0.236443  2.064911   99.999999  0.939045   \n",
              "2     119327267.0   96.271085  0.174897  2.038733  100.000000  0.962711   \n",
              "3     116931646.0  104.016997  0.132807  1.961381  100.000000  1.040170   \n",
              "4     136844164.0  198.940632  0.065340  1.502663  100.000000  1.989406   \n",
              "...           ...         ...       ...       ...         ...       ...   \n",
              "5468  653661541.0   81.750279  0.088853  2.223237  100.000000  0.817503   \n",
              "5469  678847944.0  108.280844  0.034137  1.923524  100.000000  1.082808   \n",
              "5470  647658915.0   80.584317  0.120262  2.240936  100.000000  0.805843   \n",
              "5471  661447272.0   52.861742  0.092248  2.891727  100.000000  0.528617   \n",
              "5472  667268823.0   62.031183  0.064233  2.612092  100.000000  0.620312   \n",
              "\n",
              "        신용스프레드  \n",
              "0     6.934648  \n",
              "1     6.679649  \n",
              "2     6.018549  \n",
              "3     6.058273  \n",
              "4     6.242679  \n",
              "...        ...  \n",
              "5468  6.562249  \n",
              "5469  6.366166  \n",
              "5470  6.590891  \n",
              "5471  6.387397  \n",
              "5472  6.814670  \n",
              "\n",
              "[5473 rows x 26 columns]"
            ]
          },
          "execution_count": 369,
          "metadata": {},
          "output_type": "execute_result"
        }
      ],
      "source": [
        "df_merge"
      ]
    },
    {
      "cell_type": "code",
      "execution_count": null,
      "metadata": {
        "id": "4Bo3XbzCBd8n",
        "outputId": "7d3a9bf6-870f-454d-f696-ecdd62bf3325"
      },
      "outputs": [
        {
          "data": {
            "text/plain": [
              "회사명          0\n",
              "거래소코드        0\n",
              "회계년도         0\n",
              "ROE          0\n",
              "ROIC         0\n",
              "OPEX/매출      0\n",
              "잉여현금흐름       0\n",
              "Buffett      0\n",
              "ROCE         0\n",
              "자사주매입1       0\n",
              "자사주매입2       0\n",
              "주주환원1        0\n",
              "주주환원2        0\n",
              "배당율          0\n",
              "보통주식비율       0\n",
              "연도           0\n",
              "평가사명 및 등급    0\n",
              "신용등급         0\n",
              "증권명          0\n",
              "자산총계         0\n",
              "부채비율         0\n",
              "당좌비율         0\n",
              "유동비율         0\n",
              "자기자본 비율      0\n",
              "재무레버리지       0\n",
              "신용스프레드       0\n",
              "dtype: int64"
            ]
          },
          "execution_count": 370,
          "metadata": {},
          "output_type": "execute_result"
        }
      ],
      "source": [
        "df_merge.isna().sum()"
      ]
    },
    {
      "cell_type": "code",
      "execution_count": null,
      "metadata": {
        "id": "UH7hJQBzBd8n",
        "outputId": "c8cee504-a011-4c96-9625-ec356aa4d4a5"
      },
      "outputs": [
        {
          "data": {
            "text/plain": [
              "421"
            ]
          },
          "execution_count": 371,
          "metadata": {},
          "output_type": "execute_result"
        }
      ],
      "source": [
        "df_merge['회사명'].nunique()"
      ]
    },
    {
      "cell_type": "code",
      "execution_count": null,
      "metadata": {
        "id": "96-JpkAOBd8n",
        "outputId": "1748aaff-fc1f-4b82-ee26-7207b4eece3f"
      },
      "outputs": [
        {
          "data": {
            "text/plain": [
              "5473"
            ]
          },
          "execution_count": 372,
          "metadata": {},
          "output_type": "execute_result"
        }
      ],
      "source": [
        "421*13"
      ]
    },
    {
      "cell_type": "code",
      "execution_count": null,
      "metadata": {
        "id": "heFKT5RiBd8s"
      },
      "outputs": [],
      "source": [
        "df_merge.to_csv('완성본.csv', index = False, encoding='utf-8-sig')"
      ]
    },
    {
      "cell_type": "code",
      "execution_count": null,
      "metadata": {
        "id": "efDYSnpqBd8s"
      },
      "outputs": [],
      "source": []
    }
  ],
  "metadata": {
    "kernelspec": {
      "display_name": "Python 3",
      "language": "python",
      "name": "python3"
    },
    "language_info": {
      "codemirror_mode": {
        "name": "ipython",
        "version": 3
      },
      "file_extension": ".py",
      "mimetype": "text/x-python",
      "name": "python",
      "nbconvert_exporter": "python",
      "pygments_lexer": "ipython3",
      "version": "3.8.5"
    },
    "colab": {
      "provenance": []
    }
  },
  "nbformat": 4,
  "nbformat_minor": 0
}