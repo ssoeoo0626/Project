{
  "cells": [
    {
      "cell_type": "markdown",
      "source": [
        "# 레이블을 CAGR로 잡았기 때문에 label cagr 합치기"
      ],
      "metadata": {
        "id": "v-ieyZGCCJDw"
      }
    },
    {
      "cell_type": "code",
      "execution_count": null,
      "metadata": {
        "id": "tnEASsqlCIXV"
      },
      "outputs": [],
      "source": [
        "import pandas as pd\n",
        "\n",
        "cagr = pd.read_csv('adj_adj_cagr.csv')\n",
        "df = pd.read_csv('../../../python/해커톤/23104/cagr_merge.csv')\n"
      ]
    },
    {
      "cell_type": "code",
      "execution_count": null,
      "metadata": {
        "id": "1tFDFla2CIXX"
      },
      "outputs": [],
      "source": [
        "cagr.drop(['2010_head', '2018_head', 'year_tail', 'CAGR_train', 'CAGR_test'], axis= 1, inplace= True)"
      ]
    },
    {
      "cell_type": "code",
      "execution_count": null,
      "metadata": {
        "id": "QLALGMGmCIXY"
      },
      "outputs": [],
      "source": [
        "cagr['ticker']= cagr['ticker'].astype(str).str.zfill(6)"
      ]
    },
    {
      "cell_type": "code",
      "execution_count": null,
      "metadata": {
        "id": "igPEBE9sCIXY"
      },
      "outputs": [],
      "source": [
        "cagr.rename(columns={'ticker':'거래소코드'}, inplace= True)"
      ]
    },
    {
      "cell_type": "code",
      "execution_count": null,
      "metadata": {
        "id": "UT839khzCIXY"
      },
      "outputs": [],
      "source": [
        "cagr.rename(columns={'year':'연도'}, inplace= True)"
      ]
    },
    {
      "cell_type": "code",
      "execution_count": null,
      "metadata": {
        "id": "OFS0TghxCIXY"
      },
      "outputs": [],
      "source": [
        "df.drop(['test_cagr(%)', 'train_cagr(%)'], axis=1, inplace= True)"
      ]
    },
    {
      "cell_type": "code",
      "execution_count": null,
      "metadata": {
        "id": "v29RVaEsCIXY"
      },
      "outputs": [],
      "source": [
        "df['거래소코드']= df['거래소코드'].astype(str).str.zfill(6)"
      ]
    },
    {
      "cell_type": "code",
      "execution_count": null,
      "metadata": {
        "id": "-CpHrFIyCIXZ"
      },
      "outputs": [],
      "source": [
        "data = pd.merge(df, cagr, on = ['거래소코드','연도'], how = 'left' )"
      ]
    },
    {
      "cell_type": "code",
      "execution_count": null,
      "metadata": {
        "id": "j-pM7YPWCIXZ"
      },
      "outputs": [],
      "source": [
        "data.to_csv('adj_cagr_merge_data.csv', index= False, encoding= 'utf-8-sig')"
      ]
    },
    {
      "cell_type": "code",
      "execution_count": null,
      "metadata": {
        "id": "Glb6UEFvCIXZ"
      },
      "outputs": [],
      "source": [
        "data = data.dropna().reset_index(drop= True)"
      ]
    },
    {
      "cell_type": "code",
      "execution_count": null,
      "metadata": {
        "id": "_PtYaMvWCIXZ"
      },
      "outputs": [],
      "source": [
        "data = data.drop('자산총계', axis=1)\n",
        "data['Buffett']= data['Buffett'].astype(str)"
      ]
    },
    {
      "cell_type": "code",
      "execution_count": null,
      "metadata": {
        "id": "OAZgpPPpCIXZ",
        "outputId": "60fcb3bb-5e74-42a8-9751-4f36a4655a00"
      },
      "outputs": [
        {
          "data": {
            "text/plain": [
              "Index(['회사명', '거래소코드', '회계년도', 'ROE', 'ROIC', 'OPEX/매출', '잉여현금흐름', 'Buffett',\n",
              "       'ROCE', '자사주매입1', '자사주매입2', '주주환원1', '주주환원2', '배당율', '보통주식비율', '연도',\n",
              "       '평가사명 및 등급', '신용등급', '증권명', '부채비율', '당좌비율', '유동비율', '자기자본 비율', '재무레버리지',\n",
              "       '신용스프레드', 'CAGR_tr(%)', 'CAGR'],\n",
              "      dtype='object')"
            ]
          },
          "execution_count": 223,
          "metadata": {},
          "output_type": "execute_result"
        }
      ],
      "source": [
        "data.columns"
      ]
    },
    {
      "cell_type": "code",
      "execution_count": null,
      "metadata": {
        "id": "kgaoVdZKCIXa"
      },
      "outputs": [],
      "source": [
        "import pandas as pd\n",
        "data['부채비율']=data['부채비율']/100\n",
        "data['CAGR_tr(%)']=data['CAGR_tr(%)']/10000\n",
        "data['자기자본 비율']=data['자기자본 비율']/100\n",
        "data.drop('증권명',axis=1,inplace=True)"
      ]
    },
    {
      "cell_type": "markdown",
      "source": [
        "## Standard Scaling"
      ],
      "metadata": {
        "id": "u2DDkBCcCc3A"
      }
    },
    {
      "cell_type": "code",
      "execution_count": null,
      "metadata": {
        "id": "tYtOcloVCIXa"
      },
      "outputs": [],
      "source": [
        "from sklearn.preprocessing import StandardScaler\n",
        "\n",
        "# StandardScaler 객체 생성\n",
        "scaler = StandardScaler()\n",
        "\n",
        "# 특정 feature에 대한 통계 정보 계산하고 동시에 데이터 스케일링\n",
        "data[['신용스프레드', '잉여현금흐름', 'Buffett','부채비율','유동비율']] = scaler.fit_transform(data[['신용스프레드', '잉여현금흐름', 'Buffett','부채비율','유동비율']])"
      ]
    },
    {
      "cell_type": "code",
      "execution_count": null,
      "metadata": {
        "id": "64xuQhMdCIXa",
        "outputId": "274516f6-64a1-44ac-8f8f-e3d0d693bee2"
      },
      "outputs": [
        {
          "data": {
            "text/html": [
              "<div>\n",
              "<style scoped>\n",
              "    .dataframe tbody tr th:only-of-type {\n",
              "        vertical-align: middle;\n",
              "    }\n",
              "\n",
              "    .dataframe tbody tr th {\n",
              "        vertical-align: top;\n",
              "    }\n",
              "\n",
              "    .dataframe thead th {\n",
              "        text-align: right;\n",
              "    }\n",
              "</style>\n",
              "<table border=\"1\" class=\"dataframe\">\n",
              "  <thead>\n",
              "    <tr style=\"text-align: right;\">\n",
              "      <th></th>\n",
              "      <th>회사명</th>\n",
              "      <th>거래소코드</th>\n",
              "      <th>회계년도</th>\n",
              "      <th>ROE</th>\n",
              "      <th>ROIC</th>\n",
              "      <th>OPEX/매출</th>\n",
              "      <th>잉여현금흐름</th>\n",
              "      <th>Buffett</th>\n",
              "      <th>ROCE</th>\n",
              "      <th>자사주매입1</th>\n",
              "      <th>...</th>\n",
              "      <th>평가사명 및 등급</th>\n",
              "      <th>신용등급</th>\n",
              "      <th>부채비율</th>\n",
              "      <th>당좌비율</th>\n",
              "      <th>유동비율</th>\n",
              "      <th>자기자본 비율</th>\n",
              "      <th>재무레버리지</th>\n",
              "      <th>신용스프레드</th>\n",
              "      <th>CAGR_tr(%)</th>\n",
              "      <th>CAGR</th>\n",
              "    </tr>\n",
              "  </thead>\n",
              "  <tbody>\n",
              "    <tr>\n",
              "      <th>0</th>\n",
              "      <td>케이알모터스(주)</td>\n",
              "      <td>000040</td>\n",
              "      <td>2010/12</td>\n",
              "      <td>-0.008024</td>\n",
              "      <td>-0.004607</td>\n",
              "      <td>0.099983</td>\n",
              "      <td>-0.049425</td>\n",
              "      <td>-0.096097</td>\n",
              "      <td>0.936112</td>\n",
              "      <td>-0.0</td>\n",
              "      <td>...</td>\n",
              "      <td>ubion</td>\n",
              "      <td>BBB-</td>\n",
              "      <td>-0.036249</td>\n",
              "      <td>0.364804</td>\n",
              "      <td>-0.374185</td>\n",
              "      <td>1.0</td>\n",
              "      <td>1.168625</td>\n",
              "      <td>0.920807</td>\n",
              "      <td>0.110019</td>\n",
              "      <td>0.134454</td>\n",
              "    </tr>\n",
              "    <tr>\n",
              "      <th>1</th>\n",
              "      <td>케이알모터스(주)</td>\n",
              "      <td>000040</td>\n",
              "      <td>2011/12</td>\n",
              "      <td>0.028117</td>\n",
              "      <td>0.017462</td>\n",
              "      <td>0.101558</td>\n",
              "      <td>-0.068834</td>\n",
              "      <td>-0.093772</td>\n",
              "      <td>-0.254909</td>\n",
              "      <td>0.0</td>\n",
              "      <td>...</td>\n",
              "      <td>ubion</td>\n",
              "      <td>BBB-</td>\n",
              "      <td>-0.050679</td>\n",
              "      <td>0.236443</td>\n",
              "      <td>-0.286936</td>\n",
              "      <td>1.0</td>\n",
              "      <td>0.939045</td>\n",
              "      <td>0.820607</td>\n",
              "      <td>0.053557</td>\n",
              "      <td>0.057188</td>\n",
              "    </tr>\n",
              "  </tbody>\n",
              "</table>\n",
              "<p>2 rows × 26 columns</p>\n",
              "</div>"
            ],
            "text/plain": [
              "         회사명   거래소코드     회계년도       ROE      ROIC   OPEX/매출    잉여현금흐름  \\\n",
              "0  케이알모터스(주)  000040  2010/12 -0.008024 -0.004607  0.099983 -0.049425   \n",
              "1  케이알모터스(주)  000040  2011/12  0.028117  0.017462  0.101558 -0.068834   \n",
              "\n",
              "    Buffett      ROCE  자사주매입1  ...  평가사명 및 등급  신용등급      부채비율      당좌비율  \\\n",
              "0 -0.096097  0.936112    -0.0  ...      ubion  BBB- -0.036249  0.364804   \n",
              "1 -0.093772 -0.254909     0.0  ...      ubion  BBB- -0.050679  0.236443   \n",
              "\n",
              "       유동비율  자기자본 비율    재무레버리지    신용스프레드  CAGR_tr(%)      CAGR  \n",
              "0 -0.374185      1.0  1.168625  0.920807    0.110019  0.134454  \n",
              "1 -0.286936      1.0  0.939045  0.820607    0.053557  0.057188  \n",
              "\n",
              "[2 rows x 26 columns]"
            ]
          },
          "execution_count": 226,
          "metadata": {},
          "output_type": "execute_result"
        }
      ],
      "source": [
        "data.head(2)"
      ]
    },
    {
      "cell_type": "code",
      "execution_count": null,
      "metadata": {
        "id": "u0kx2MqnCIXa",
        "outputId": "551b1414-a299-439c-aef2-e7c9fab22b9c"
      },
      "outputs": [
        {
          "data": {
            "text/plain": [
              "<bound method NDFrame.describe of 0       1.168625\n",
              "1       0.939045\n",
              "2       0.962711\n",
              "3       1.040170\n",
              "4       1.989406\n",
              "          ...   \n",
              "3466    0.817503\n",
              "3467    1.082808\n",
              "3468    0.805843\n",
              "3469    0.528617\n",
              "3470    0.620312\n",
              "Name: 재무레버리지, Length: 3471, dtype: float64>"
            ]
          },
          "execution_count": 227,
          "metadata": {},
          "output_type": "execute_result"
        }
      ],
      "source": [
        "data['재무레버리지'].describe"
      ]
    },
    {
      "cell_type": "markdown",
      "source": [
        "## Min-Max Scaling"
      ],
      "metadata": {
        "id": "Q3t_RyRFCjcn"
      }
    },
    {
      "cell_type": "code",
      "execution_count": null,
      "metadata": {
        "id": "fQ0nncumCIXb"
      },
      "outputs": [],
      "source": [
        "from sklearn.preprocessing import MinMaxScaler\n",
        "\n",
        "mn_scaler = MinMaxScaler()\n",
        "data[['신용스프레드', '잉여현금흐름', 'Buffett','부채비율','유동비율','재무레버리지']] = mn_scaler.fit_transform(data[['신용스프레드', '잉여현금흐름', 'Buffett','부채비율','유동비율', '재무레버리지']])"
      ]
    },
    {
      "cell_type": "code",
      "execution_count": null,
      "metadata": {
        "id": "lKicKjNqCIXb",
        "outputId": "5bb76aa5-6af4-4902-f7a9-d64fa9c77c80"
      },
      "outputs": [
        {
          "name": "stdout",
          "output_type": "stream",
          "text": [
            "인코딩 클래스: ['A' 'A+' 'A-' 'AA' 'AA+' 'AA-' 'AAA' 'BBB' 'BBB+' 'BBB-']\n"
          ]
        }
      ],
      "source": [
        "from sklearn.preprocessing import LabelEncoder\n",
        "\n",
        "encoder = LabelEncoder()\n",
        "encoder.fit(data['신용등급'])\n",
        "data['신용등급'] = encoder.transform(data['신용등급'])\n",
        "\n",
        "print('인코딩 클래스:', encoder.classes_)"
      ]
    },
    {
      "cell_type": "code",
      "execution_count": null,
      "metadata": {
        "id": "yJS0RcZfCIXb"
      },
      "outputs": [],
      "source": [
        "data['회계년도'] = pd.to_datetime(data['회계년도'])\n",
        "\n",
        "# 17년, 22년 기준으로 CAGR크면 1로 처리.\n",
        "data.loc[(data['회계년도'].dt.year == 2017) & (data['CAGR'] >= 0.113292), 'label'] = 1\n",
        "data.loc[(data['회계년도'].dt.year == 2022) & (data['CAGR'] >= 0.07329), 'label'] = 1"
      ]
    },
    {
      "cell_type": "code",
      "execution_count": null,
      "metadata": {
        "id": "YF7GNuMSCIXb"
      },
      "outputs": [],
      "source": [
        "#트레인,테스트 데이터셋 분리\n",
        "df_tr = pd.DataFrame()\n",
        "df_test = pd.DataFrame()\n",
        "\n",
        "# 인덱스를 기준으로 8개씩 묶어서 반복\n",
        "for i in range(0, len(data), 13):\n",
        "    # 트레인 데이터 추출\n",
        "    train_batch = data.iloc[i:i+8]\n",
        "    df_tr = pd.concat([df_tr, train_batch])\n",
        "\n",
        "    # 테스트 데이터 추출\n",
        "    test_batch = data.iloc[i+8:i+13]\n",
        "    df_test = pd.concat([df_test, test_batch])\n",
        "\n",
        "df_tr['label']=df_tr['label'].fillna(0)\n",
        "df_test['label']=df_test['label'].fillna(0)"
      ]
    },
    {
      "cell_type": "code",
      "execution_count": null,
      "metadata": {
        "id": "P8x3H_GfCIXb"
      },
      "outputs": [],
      "source": [
        "existing_row = df_tr.loc[(df_tr['label'] == 1) & (df_tr['회계년도'].dt.year == 2017)]\n",
        "code1=existing_row['거래소코드'].unique()\n",
        "\n",
        "for i in code1:\n",
        "    condition = df_tr['거래소코드'] == i\n",
        "    df_tr.loc[condition, 'label'] = 1\n",
        "\n",
        "#17년도 1이면 10~17 1로처리."
      ]
    },
    {
      "cell_type": "code",
      "execution_count": null,
      "metadata": {
        "id": "-turONrBCIXb"
      },
      "outputs": [],
      "source": [
        "existing_test = df_test.loc[(df_tr['label'] == 1) & (df_test['회계년도'].dt.year == 2022)]\n",
        "code2=existing_test['거래소코드'].unique()\n",
        "\n",
        "for i in code2:\n",
        "    condition = df_tr['거래소코드'] == i\n",
        "    df_tr.loc[condition, 'label'] = 1\n",
        "\n",
        "#22년도 1이면 18~22 1로처리"
      ]
    },
    {
      "cell_type": "code",
      "execution_count": null,
      "metadata": {
        "id": "G-ntl7MnCIXb"
      },
      "outputs": [],
      "source": [
        "x_tr=df_tr.drop('label',axis=1)\n",
        "y_tr=df_tr['label']\n",
        "x_test=df_test.drop('label',axis=1)\n",
        "y_test=df_test['label']\n",
        "\n",
        "x_tr.drop(['회사명', '거래소코드', '주주환원1','주주환원2','자사주매입1','배당율','회계년도','평가사명 및 등급','CAGR','CAGR_tr(%)','연도', '자기자본 비율','부채비율', '유동비율','신용스프레드'],axis=1,inplace=True)\n",
        "x_test.drop(['회사명', '거래소코드', '주주환원1','주주환원2','자사주매입1','배당율','회계년도','평가사명 및 등급','CAGR','CAGR_tr(%)','연도','자기자본 비율','부채비율','유동비율','신용스프레드'],axis=1,inplace=True)"
      ]
    },
    {
      "cell_type": "markdown",
      "source": [
        "## Feature Importance"
      ],
      "metadata": {
        "id": "-eSMdmwBCrgP"
      }
    },
    {
      "cell_type": "code",
      "execution_count": null,
      "metadata": {
        "id": "BH8PwtLFCIXb",
        "outputId": "bef48db2-fc60-4659-d62e-226cc8846d21"
      },
      "outputs": [
        {
          "data": {
            "image/png": "[encoded data removed]",
            "text/plain": [
              "<Figure size 1000x600 with 1 Axes>"
            ]
          },
          "metadata": {},
          "output_type": "display_data"
        }
      ],
      "source": [
        "from sklearn.ensemble import RandomForestClassifier\n",
        "import matplotlib.pyplot as plt\n",
        "import numpy as np\n",
        "plt.rcParams['font.family'] = 'Malgun Gothic'\n",
        "\n",
        "\n",
        "# 예시 데이터 로드\n",
        "\n",
        "X = x_tr\n",
        "y = y_tr\n",
        "\n",
        "# Random Forest 모델 생성\n",
        "model = RandomForestClassifier(n_estimators=100, random_state=42,max_depth=5)\n",
        "model.fit(X, y)\n",
        "\n",
        "# 변수 중요도 확인\n",
        "feature_importances = model.feature_importances_\n",
        "\n",
        "# 중요도를 기준으로 내림차순 정렬\n",
        "indices = np.argsort(feature_importances)[::-1]\n",
        "\n",
        "import seaborn as sns\n",
        "\n",
        "# 변수 중요도 시각화\n",
        "plt.figure(figsize=(10, 6))\n",
        "sns.barplot(x=feature_importances[indices], y=X.columns[indices])\n",
        "plt.xlabel(\"Feature Importance\")\n",
        "plt.ylabel(\"Feature\")\n",
        "plt.show()"
      ]
    },
    {
      "cell_type": "markdown",
      "source": [
        "## Feature Selection"
      ],
      "metadata": {
        "id": "cRMa_apWCuCv"
      }
    },
    {
      "cell_type": "markdown",
      "source": [
        "## Wrapper"
      ],
      "metadata": {
        "id": "009XGF9KCx2o"
      }
    },
    {
      "cell_type": "code",
      "execution_count": null,
      "metadata": {
        "id": "uA1s1MzjCIXc",
        "outputId": "89dc0fd1-136b-4041-c0da-77d9a426abb7"
      },
      "outputs": [
        {
          "name": "stdout",
          "output_type": "stream",
          "text": [
            "Selected feature: ROIC, Accuracy: 0.6472\n",
            "Selected feature: 당좌비율, Accuracy: 0.6565\n",
            "Selected feature: 잉여현금흐름, Accuracy: 0.6589\n",
            "\n",
            "Forward selected features:\n",
            "['ROIC', '당좌비율', '잉여현금흐름']\n"
          ]
        }
      ],
      "source": [
        "## 1. Wrapper\n",
        "\n",
        "# Forward Selection\n",
        "\n",
        "import pandas as pd\n",
        "from sklearn.model_selection import train_test_split\n",
        "from sklearn.linear_model import LogisticRegression\n",
        "\n",
        "# 학습 데이터와 검증 데이터 분리\n",
        "X_train, X_val, y_train, y_val = train_test_split(X, y, test_size=0.2, random_state=42)\n",
        "\n",
        "# Forward feature selection 수행\n",
        "selected_features = []\n",
        "best_score = 0\n",
        "\n",
        "while len(selected_features) < X.shape[1]: #무한 반복 루프 전체 특성의 개수보다 선택된 특성의 개수가 작을때 까지 반복\n",
        "    best_feature = None #가장좋은 특성 이름\n",
        "    best_model = None #가장좋은 모델 저장\n",
        "    best_score_local = 0 #가장 높은 정확도\n",
        "\n",
        "    for feature in X_train.columns:\n",
        "        if feature not in selected_features:\n",
        "            features = selected_features + [feature]\n",
        "            X_train_selected = X_train[features]\n",
        "            X_val_selected = X_val[features]\n",
        "\n",
        "            model = LogisticRegression()\n",
        "            model.fit(X_train_selected, y_train)\n",
        "            score = model.score(X_val_selected, y_val)\n",
        "\n",
        "            if score > best_score_local:\n",
        "                best_score_local = score\n",
        "                best_feature = feature\n",
        "                best_model = model\n",
        "\n",
        "    if best_score_local > best_score:\n",
        "        selected_features.append(best_feature)\n",
        "        best_score = best_score_local\n",
        "        print(f\"Selected feature: {best_feature}, Accuracy: {best_score:.4f}\")\n",
        "\n",
        "    else:\n",
        "        break\n",
        "\n",
        "print(\"\\nForward selected features:\")\n",
        "Forward = selected_features\n",
        "print(Forward)"
      ]
    },
    {
      "cell_type": "code",
      "execution_count": null,
      "metadata": {
        "id": "LefWoc51CIXc",
        "outputId": "0630425b-94be-498a-fb99-4bf6e0f3294e"
      },
      "outputs": [
        {
          "name": "stdout",
          "output_type": "stream",
          "text": [
            "Removed feature: OPEX/매출, Accuracy: 0.6799\n",
            "Removed feature: ROE, Accuracy: 0.6822\n",
            "\n",
            "Final selected features:\n",
            "['ROIC', '잉여현금흐름', 'Buffett', 'ROCE', '자사주매입2', '보통주식비율', '신용등급', '당좌비율', '재무레버리지']\n"
          ]
        }
      ],
      "source": [
        "# Backward Elimination\n",
        "import pandas as pd\n",
        "from sklearn.model_selection import train_test_split\n",
        "from sklearn.linear_model import LogisticRegression\n",
        "# 경고창 제거\n",
        "import warnings\n",
        "warnings.filterwarnings('ignore')\n",
        "\n",
        "# 학습 데이터와 검증 데이터 분리\n",
        "X_train, X_val, y_train, y_val = train_test_split(X, y, test_size=0.2)\n",
        "\n",
        "# Backward feature selection 수행\n",
        "selected_features = X_train.columns.tolist()\n",
        "best_score = 0\n",
        "\n",
        "while len(selected_features) > 0:\n",
        "    worst_feature = None\n",
        "    best_model = None\n",
        "    best_score_local = 0\n",
        "\n",
        "    for feature in selected_features:\n",
        "        features = selected_features.copy()\n",
        "        features.remove(feature)\n",
        "\n",
        "        X_train_selected = X_train[features]\n",
        "        X_val_selected = X_val[features]\n",
        "\n",
        "        model = LogisticRegression()\n",
        "        model.fit(X_train_selected, y_train)\n",
        "        score = model.score(X_val_selected, y_val)\n",
        "\n",
        "        if score > best_score_local:\n",
        "            best_score_local = score\n",
        "            worst_feature = feature\n",
        "            best_model = model\n",
        "\n",
        "    if best_score_local > best_score:\n",
        "        selected_features.remove(worst_feature)\n",
        "        best_score = best_score_local\n",
        "        print(f\"Removed feature: {worst_feature}, Accuracy: {best_score:.4f}\")\n",
        "\n",
        "    else:\n",
        "        break\n",
        "\n",
        "print(\"\\nFinal selected features:\")\n",
        "Backward = selected_features\n",
        "print(Backward)"
      ]
    },
    {
      "cell_type": "code",
      "execution_count": null,
      "metadata": {
        "id": "k1LwcfqBCIXc",
        "outputId": "7a66cae4-bcde-413f-e68f-e9410a84adc3"
      },
      "outputs": [
        {
          "name": "stdout",
          "output_type": "stream",
          "text": [
            "Selected feature: ROIC, Accuracy: 0.6472\n",
            "Selected feature: 당좌비율, Accuracy: 0.6565\n",
            "Selected feature: 잉여현금흐름, Accuracy: 0.6589\n",
            "\n",
            "Final selected features:\n"
          ]
        }
      ],
      "source": [
        "# Stepwise Selection\n",
        "import pandas as pd\n",
        "from sklearn.model_selection import train_test_split\n",
        "from sklearn.linear_model import LogisticRegression\n",
        "\n",
        "# 학습 데이터와 검증 데이터 분리\n",
        "X_train, X_val, y_train, y_val = train_test_split(X, y, test_size=0.2, random_state=42)\n",
        "\n",
        "# Stepwise feature selection 수행\n",
        "selected_features = []\n",
        "best_score = 0\n",
        "\n",
        "# Forward step\n",
        "while len(selected_features) < X.shape[1]:\n",
        "    best_feature = None\n",
        "    best_model = None\n",
        "    best_score_local = 0\n",
        "\n",
        "    for feature in X_train.columns:\n",
        "        if feature not in selected_features:\n",
        "            features = selected_features + [feature]\n",
        "            X_train_selected = X_train[features]\n",
        "            X_val_selected = X_val[features]\n",
        "\n",
        "            model = LogisticRegression()\n",
        "            model.fit(X_train_selected, y_train)\n",
        "            score = model.score(X_val_selected, y_val)\n",
        "\n",
        "            if score > best_score_local:\n",
        "                best_score_local = score\n",
        "                best_feature = feature\n",
        "                best_model = model\n",
        "\n",
        "    if best_score_local > best_score:\n",
        "        selected_features.append(best_feature)\n",
        "        best_score = best_score_local\n",
        "        print(f\"Selected feature: {best_feature}, Accuracy: {best_score:.4f}\")\n",
        "\n",
        "    else:\n",
        "        break\n",
        "\n",
        "# Backward step\n",
        "while len(selected_features) > 0:\n",
        "    worst_feature = None\n",
        "    best_model = None\n",
        "    best_score_local = 0\n",
        "\n",
        "    for feature in selected_features:\n",
        "        features = selected_features.copy()\n",
        "        features.remove(feature)\n",
        "\n",
        "        X_train_selected = X_train[features]\n",
        "        X_val_selected = X_val[features]\n",
        "\n",
        "        model = LogisticRegression()\n",
        "        model.fit(X_train_selected, y_train)\n",
        "        score = model.score(X_val_selected, y_val)\n",
        "\n",
        "        if score > best_score_local:\n",
        "            best_score_local = score\n",
        "            worst_feature = feature\n",
        "            best_model = model\n",
        "\n",
        "    if best_score_local > best_score:\n",
        "        selected_features.remove(worst_feature)\n",
        "        best_score = best_score_local\n",
        "        print(f\"Removed feature: {worst_feature}, Accuracy: {best_score:.4f}\")\n",
        "\n",
        "    else:\n",
        "        break\n",
        "\n",
        "print(\"\\nFinal selected features:\")\n",
        "Stepwise = selected_features"
      ]
    },
    {
      "cell_type": "markdown",
      "metadata": {
        "id": "8mRuc-raCIXc"
      },
      "source": [
        "2. Filter"
      ]
    },
    {
      "cell_type": "code",
      "execution_count": null,
      "metadata": {
        "id": "wWzQNLdQCIXl"
      },
      "outputs": [],
      "source": [
        "# H가 1인 경우 이분산성 / H가 0인 경우 등분산\n",
        "from scipy.stats import bartlett\n",
        "def bartlett_test(col, p_value = 0.05, H = 1):\n",
        "    list= []\n",
        "    for i in col:\n",
        "        T, p_val =bartlett(data[data['label']==1][i], data[data['label']==0][i])\n",
        "        list.append([i, p_val])\n",
        "\n",
        "    list = pd.DataFrame(list, columns = ['변수', 'p_value'])\n",
        "    if H == 1:\n",
        "        a = list[(list['p_value'] < p_value)][['변수', 'p_value']].sort_values('p_value')\n",
        "        return a\n",
        "    else:\n",
        "        a = list[(list['p_value'] >= p_value)][['변수', 'p_value']].sort_values('p_value')\n",
        "        return a"
      ]
    },
    {
      "cell_type": "code",
      "execution_count": null,
      "metadata": {
        "id": "1QZJJ8QmCIXl"
      },
      "outputs": [],
      "source": [
        "# 이분산성 변수\n",
        "x_hetero = bartlett_test(data.columns, H = 1)\n",
        "# 등분산성 변수\n",
        "x_homo = bartlett_test(data.columns, H = 0)\n"
      ]
    },
    {
      "cell_type": "code",
      "execution_count": null,
      "metadata": {
        "id": "8DTncT3KCIXl"
      },
      "outputs": [],
      "source": [
        "# t_test\n",
        "\n",
        "import scipy.stats as stats\n",
        "def t_test(col, col_h0, col_h1, p_value = 0.05):\n",
        "    list= []\n",
        "    for i in col:\n",
        "        if (col_h0['변수']==i).any():\n",
        "            t_stat, p_val = stats.ttest_ind(data[data['label']==1][i], data[data['label']==0][i], equal_var=True) # 등분산성 : wald t-test\n",
        "            list.append([i, p_val])\n",
        "        elif (col_h1['변수']==i).any():\n",
        "            t_stat, p_val = stats.ttest_ind(data[data['label']==1][i], data[data['label']==0][i], equal_var=False) # 이분산성 : welch’s t-test\n",
        "            list.append([i, p_val])\n",
        "\n",
        "    list = pd.DataFrame(list, columns = ['변수', 'p_value'])\n",
        "    a = list[(list['p_value'] < p_value)][['변수', 'p_value']].sort_values('p_value')\n",
        "    return a"
      ]
    },
    {
      "cell_type": "code",
      "execution_count": null,
      "metadata": {
        "id": "H6i66u5hCIXl",
        "outputId": "c0f82d37-f9db-4e6f-fa86-f3256fbf4eaa"
      },
      "outputs": [
        {
          "name": "stdout",
          "output_type": "stream",
          "text": [
            "유의한 피쳐 수 : 0\n"
          ]
        },
        {
          "data": {
            "text/html": [
              "<div>\n",
              "<style scoped>\n",
              "    .dataframe tbody tr th:only-of-type {\n",
              "        vertical-align: middle;\n",
              "    }\n",
              "\n",
              "    .dataframe tbody tr th {\n",
              "        vertical-align: top;\n",
              "    }\n",
              "\n",
              "    .dataframe thead th {\n",
              "        text-align: right;\n",
              "    }\n",
              "</style>\n",
              "<table border=\"1\" class=\"dataframe\">\n",
              "  <thead>\n",
              "    <tr style=\"text-align: right;\">\n",
              "      <th></th>\n",
              "      <th>변수</th>\n",
              "      <th>p_value</th>\n",
              "    </tr>\n",
              "  </thead>\n",
              "  <tbody>\n",
              "  </tbody>\n",
              "</table>\n",
              "</div>"
            ],
            "text/plain": [
              "Empty DataFrame\n",
              "Columns: [변수, p_value]\n",
              "Index: []"
            ]
          },
          "execution_count": 242,
          "metadata": {},
          "output_type": "execute_result"
        }
      ],
      "source": [
        "# 2) t_test 결과 p_value < 0.05보다 작은 유의한 변수 가져오기\n",
        "x_ttest = t_test(df.columns, x_homo, x_hetero, p_value=0.1)\n",
        "print(\"유의한 피쳐 수 :\", len(x_ttest))\n",
        "x_ttest.sort_values(by=\"변수\", ascending=True)"
      ]
    },
    {
      "cell_type": "markdown",
      "metadata": {
        "id": "m8lD49ZFCIXm"
      },
      "source": [
        "3. Embedded"
      ]
    },
    {
      "cell_type": "code",
      "execution_count": null,
      "metadata": {
        "id": "mlqONpkPCIXm",
        "outputId": "7c4fe303-4a8d-46d5-fa44-3fc6e54aed72"
      },
      "outputs": [
        {
          "name": "stdout",
          "output_type": "stream",
          "text": [
            "GridSearchCV 최적 파라미터: {'C': 0.1, 'penalty': 'l1', 'solver': 'liblinear'}\n",
            "GridSearchCV 최고 정확도:0.6557\n"
          ]
        }
      ],
      "source": [
        "import numpy as np\n",
        "from sklearn.linear_model import LogisticRegression\n",
        "from sklearn.model_selection import GridSearchCV\n",
        "from sklearn.metrics import r2_score, mean_squared_error\n",
        "import warnings\n",
        "warnings.simplefilter('ignore')\n",
        "\n",
        "lasso_model = LogisticRegression()\n",
        "param_grid = {'penalty' : ['l1'],\n",
        "                'C' : [0.001, 0.01, 0.1, 1, 2, 5, 10],\n",
        "                'solver' : ['liblinear']}\n",
        "\n",
        "grid_search = GridSearchCV(lasso_model, param_grid=param_grid, return_train_score=True, cv=5)\n",
        "grid_search.fit(X_train, y_train)\n",
        "\n",
        "df = pd.DataFrame(grid_search.cv_results_)\n",
        "df = df.sort_values(by=['rank_test_score'], ascending=True)\n",
        "df[['params', 'mean_train_score', 'mean_test_score', 'rank_test_score']]\n",
        "print('GridSearchCV 최적 파라미터:', grid_search.best_params_)\n",
        "print('GridSearchCV 최고 정확도:{0:.4f}'.format(grid_search.best_score_))"
      ]
    },
    {
      "cell_type": "code",
      "execution_count": null,
      "metadata": {
        "id": "AxLR2B1hCIXm",
        "outputId": "5d44706b-b42b-4fbe-8607-7fe9b507958d"
      },
      "outputs": [
        {
          "data": {
            "text/html": [
              "<div>\n",
              "<style scoped>\n",
              "    .dataframe tbody tr th:only-of-type {\n",
              "        vertical-align: middle;\n",
              "    }\n",
              "\n",
              "    .dataframe tbody tr th {\n",
              "        vertical-align: top;\n",
              "    }\n",
              "\n",
              "    .dataframe thead th {\n",
              "        text-align: right;\n",
              "    }\n",
              "</style>\n",
              "<table border=\"1\" class=\"dataframe\">\n",
              "  <thead>\n",
              "    <tr style=\"text-align: right;\">\n",
              "      <th></th>\n",
              "      <th>feature</th>\n",
              "      <th>coef</th>\n",
              "    </tr>\n",
              "  </thead>\n",
              "  <tbody>\n",
              "    <tr>\n",
              "      <th>0</th>\n",
              "      <td>ROE</td>\n",
              "      <td>0.384711</td>\n",
              "    </tr>\n",
              "    <tr>\n",
              "      <th>1</th>\n",
              "      <td>ROIC</td>\n",
              "      <td>2.642697</td>\n",
              "    </tr>\n",
              "    <tr>\n",
              "      <th>2</th>\n",
              "      <td>OPEX/매출</td>\n",
              "      <td>1.227966</td>\n",
              "    </tr>\n",
              "    <tr>\n",
              "      <th>3</th>\n",
              "      <td>잉여현금흐름</td>\n",
              "      <td>2.699411</td>\n",
              "    </tr>\n",
              "    <tr>\n",
              "      <th>5</th>\n",
              "      <td>ROCE</td>\n",
              "      <td>0.007282</td>\n",
              "    </tr>\n",
              "    <tr>\n",
              "      <th>7</th>\n",
              "      <td>보통주식비율</td>\n",
              "      <td>0.016528</td>\n",
              "    </tr>\n",
              "    <tr>\n",
              "      <th>8</th>\n",
              "      <td>신용등급</td>\n",
              "      <td>0.044766</td>\n",
              "    </tr>\n",
              "    <tr>\n",
              "      <th>9</th>\n",
              "      <td>당좌비율</td>\n",
              "      <td>-0.298579</td>\n",
              "    </tr>\n",
              "  </tbody>\n",
              "</table>\n",
              "</div>"
            ],
            "text/plain": [
              "   feature      coef\n",
              "0      ROE  0.384711\n",
              "1     ROIC  2.642697\n",
              "2  OPEX/매출  1.227966\n",
              "3   잉여현금흐름  2.699411\n",
              "5     ROCE  0.007282\n",
              "7   보통주식비율  0.016528\n",
              "8     신용등급  0.044766\n",
              "9     당좌비율 -0.298579"
            ]
          },
          "execution_count": 244,
          "metadata": {},
          "output_type": "execute_result"
        }
      ],
      "source": [
        "lasso_best = LogisticRegression(C=0.1, penalty='l1', solver='liblinear').fit(X_train, y_train)\n",
        "\n",
        "df_lasso = pd.DataFrame()\n",
        "df_lasso['feature'] = X_train.columns\n",
        "df_lasso['coef'] = lasso_best.coef_[0]\n",
        "df_lasso.drop(df_lasso[df_lasso['coef']==0].index, inplace=True)\n",
        "df_lasso"
      ]
    },
    {
      "cell_type": "code",
      "execution_count": null,
      "metadata": {
        "id": "_4I67m63CIXm"
      },
      "outputs": [],
      "source": [
        "## 보통주식비율, ROCE, 신용등급 삭제"
      ]
    },
    {
      "cell_type": "code",
      "execution_count": null,
      "metadata": {
        "id": "bX-xZxuuCIXm",
        "outputId": "a8d59064-2f3b-4056-e936-c056c0076b75"
      },
      "outputs": [
        {
          "name": "stdout",
          "output_type": "stream",
          "text": [
            "Lasso에서 선택된 피처 수 8 개\n"
          ]
        },
        {
          "data": {
            "text/plain": [
              "['ROE', 'ROIC', 'OPEX/매출', '잉여현금흐름', 'ROCE', '보통주식비율', '신용등급', '당좌비율']"
            ]
          },
          "execution_count": 246,
          "metadata": {},
          "output_type": "execute_result"
        }
      ],
      "source": [
        "# 라쏘에서 선택된 피처\n",
        "lasso = df_lasso['feature'].values.tolist()\n",
        "print('Lasso에서 선택된 피처 수 {0:1.0f}'.format(len(df_lasso)), '개')\n",
        "lasso"
      ]
    },
    {
      "cell_type": "code",
      "execution_count": null,
      "metadata": {
        "id": "VrIEGwrwCIXn"
      },
      "outputs": [],
      "source": [
        "list_Forward = list(Forward)\n",
        "list_Backward = list(Backward)\n",
        "list_Stepwise = list(Stepwise)\n",
        "list_lasso = list(lasso)\n",
        "list_col_all = X_train.columns"
      ]
    },
    {
      "cell_type": "code",
      "execution_count": null,
      "metadata": {
        "id": "pAvof8GGCIXn"
      },
      "outputs": [],
      "source": [
        "def func_Forward(x):\n",
        "    if x in list_Forward:\n",
        "        return 1\n",
        "    else:\n",
        "        return 0\n",
        "\n",
        "def func_Backward(x):\n",
        "    if x in list_Backward:\n",
        "        return 1\n",
        "    else:\n",
        "        return 0\n",
        "\n",
        "\n",
        "def func_Stepwise(x):\n",
        "    if x in list_Stepwise:\n",
        "        return 1\n",
        "    else:\n",
        "        return 0\n",
        "\n",
        "\n",
        "def func_lasso(x):\n",
        "    if x in list_lasso:\n",
        "        return 1\n",
        "    else:\n",
        "        return 0"
      ]
    },
    {
      "cell_type": "code",
      "execution_count": null,
      "metadata": {
        "id": "3CSRJNDwCIXn",
        "outputId": "0c10cf33-02a5-4c30-b911-88d4de9c3464"
      },
      "outputs": [
        {
          "name": "stdout",
          "output_type": "stream",
          "text": [
            "선택된 피쳐수 : 6\n"
          ]
        },
        {
          "data": {
            "text/html": [
              "<div>\n",
              "<style scoped>\n",
              "    .dataframe tbody tr th:only-of-type {\n",
              "        vertical-align: middle;\n",
              "    }\n",
              "\n",
              "    .dataframe tbody tr th {\n",
              "        vertical-align: top;\n",
              "    }\n",
              "\n",
              "    .dataframe thead th {\n",
              "        text-align: right;\n",
              "    }\n",
              "</style>\n",
              "<table border=\"1\" class=\"dataframe\">\n",
              "  <thead>\n",
              "    <tr style=\"text-align: right;\">\n",
              "      <th></th>\n",
              "      <th>Feature</th>\n",
              "      <th>Forward</th>\n",
              "      <th>Backward</th>\n",
              "      <th>Stepwise</th>\n",
              "      <th>lasso</th>\n",
              "      <th>total</th>\n",
              "    </tr>\n",
              "  </thead>\n",
              "  <tbody>\n",
              "    <tr>\n",
              "      <th>1</th>\n",
              "      <td>ROIC</td>\n",
              "      <td>1</td>\n",
              "      <td>1</td>\n",
              "      <td>1</td>\n",
              "      <td>1</td>\n",
              "      <td>4</td>\n",
              "    </tr>\n",
              "    <tr>\n",
              "      <th>3</th>\n",
              "      <td>잉여현금흐름</td>\n",
              "      <td>1</td>\n",
              "      <td>1</td>\n",
              "      <td>1</td>\n",
              "      <td>1</td>\n",
              "      <td>4</td>\n",
              "    </tr>\n",
              "    <tr>\n",
              "      <th>5</th>\n",
              "      <td>ROCE</td>\n",
              "      <td>0</td>\n",
              "      <td>1</td>\n",
              "      <td>0</td>\n",
              "      <td>1</td>\n",
              "      <td>2</td>\n",
              "    </tr>\n",
              "    <tr>\n",
              "      <th>7</th>\n",
              "      <td>보통주식비율</td>\n",
              "      <td>0</td>\n",
              "      <td>1</td>\n",
              "      <td>0</td>\n",
              "      <td>1</td>\n",
              "      <td>2</td>\n",
              "    </tr>\n",
              "    <tr>\n",
              "      <th>8</th>\n",
              "      <td>신용등급</td>\n",
              "      <td>0</td>\n",
              "      <td>1</td>\n",
              "      <td>0</td>\n",
              "      <td>1</td>\n",
              "      <td>2</td>\n",
              "    </tr>\n",
              "    <tr>\n",
              "      <th>9</th>\n",
              "      <td>당좌비율</td>\n",
              "      <td>1</td>\n",
              "      <td>1</td>\n",
              "      <td>1</td>\n",
              "      <td>1</td>\n",
              "      <td>4</td>\n",
              "    </tr>\n",
              "  </tbody>\n",
              "</table>\n",
              "</div>"
            ],
            "text/plain": [
              "  Feature  Forward  Backward  Stepwise  lasso  total\n",
              "1    ROIC        1         1         1      1      4\n",
              "3  잉여현금흐름        1         1         1      1      4\n",
              "5    ROCE        0         1         0      1      2\n",
              "7  보통주식비율        0         1         0      1      2\n",
              "8    신용등급        0         1         0      1      2\n",
              "9    당좌비율        1         1         1      1      4"
            ]
          },
          "execution_count": 249,
          "metadata": {},
          "output_type": "execute_result"
        }
      ],
      "source": [
        "# 2번 선택된 Feature\n",
        "\n",
        "feature_counts = pd.DataFrame()\n",
        "feature_counts['Feature'] = list_col_all\n",
        "feature_counts['Forward'] = list_col_all.map(func_Forward)\n",
        "feature_counts['Backward'] = list_col_all.map(func_Backward)\n",
        "feature_counts['Stepwise'] = list_col_all.map(func_Stepwise)\n",
        "feature_counts['lasso'] = list_col_all.map(func_lasso)\n",
        "\n",
        "feature_counts[\"total\"] = feature_counts[\"Forward\"]+feature_counts['Backward']+feature_counts[\"Stepwise\"]+feature_counts[\"lasso\"]\n",
        "feature_final = feature_counts[feature_counts[\"total\"]>=2]\n",
        "list_feature_final = list(feature_final[\"Feature\"])\n",
        "print(\"선택된 피쳐수 :\", len(list_feature_final))\n",
        "feature_final"
      ]
    },
    {
      "cell_type": "code",
      "execution_count": null,
      "metadata": {
        "id": "TmHn6Ol8CIXo",
        "outputId": "376491e8-5834-4105-dea4-6bbcc62944f8"
      },
      "outputs": [
        {
          "name": "stdout",
          "output_type": "stream",
          "text": [
            "선택된 피쳐수 : 3\n"
          ]
        },
        {
          "data": {
            "text/html": [
              "<div>\n",
              "<style scoped>\n",
              "    .dataframe tbody tr th:only-of-type {\n",
              "        vertical-align: middle;\n",
              "    }\n",
              "\n",
              "    .dataframe tbody tr th {\n",
              "        vertical-align: top;\n",
              "    }\n",
              "\n",
              "    .dataframe thead th {\n",
              "        text-align: right;\n",
              "    }\n",
              "</style>\n",
              "<table border=\"1\" class=\"dataframe\">\n",
              "  <thead>\n",
              "    <tr style=\"text-align: right;\">\n",
              "      <th></th>\n",
              "      <th>Feature</th>\n",
              "      <th>Forward</th>\n",
              "      <th>Backward</th>\n",
              "      <th>Stepwise</th>\n",
              "      <th>lasso</th>\n",
              "      <th>total</th>\n",
              "    </tr>\n",
              "  </thead>\n",
              "  <tbody>\n",
              "    <tr>\n",
              "      <th>1</th>\n",
              "      <td>ROIC</td>\n",
              "      <td>1</td>\n",
              "      <td>1</td>\n",
              "      <td>1</td>\n",
              "      <td>1</td>\n",
              "      <td>4</td>\n",
              "    </tr>\n",
              "    <tr>\n",
              "      <th>3</th>\n",
              "      <td>잉여현금흐름</td>\n",
              "      <td>1</td>\n",
              "      <td>1</td>\n",
              "      <td>1</td>\n",
              "      <td>1</td>\n",
              "      <td>4</td>\n",
              "    </tr>\n",
              "    <tr>\n",
              "      <th>9</th>\n",
              "      <td>당좌비율</td>\n",
              "      <td>1</td>\n",
              "      <td>1</td>\n",
              "      <td>1</td>\n",
              "      <td>1</td>\n",
              "      <td>4</td>\n",
              "    </tr>\n",
              "  </tbody>\n",
              "</table>\n",
              "</div>"
            ],
            "text/plain": [
              "  Feature  Forward  Backward  Stepwise  lasso  total\n",
              "1    ROIC        1         1         1      1      4\n",
              "3  잉여현금흐름        1         1         1      1      4\n",
              "9    당좌비율        1         1         1      1      4"
            ]
          },
          "execution_count": 250,
          "metadata": {},
          "output_type": "execute_result"
        }
      ],
      "source": [
        "# 3번 선택된 Feature\n",
        "\n",
        "feature_counts = pd.DataFrame()\n",
        "feature_counts['Feature'] = list_col_all\n",
        "feature_counts['Forward'] = list_col_all.map(func_Forward)\n",
        "feature_counts['Backward'] = list_col_all.map(func_Backward)\n",
        "feature_counts['Stepwise'] = list_col_all.map(func_Stepwise)\n",
        "feature_counts['lasso'] = list_col_all.map(func_lasso)\n",
        "\n",
        "feature_counts[\"total\"] = feature_counts[\"Forward\"]+feature_counts['Backward']+feature_counts[\"Stepwise\"]+feature_counts[\"lasso\"]\n",
        "feature_final = feature_counts[feature_counts[\"total\"]>=3]\n",
        "list_feature_final = list(feature_final[\"Feature\"])\n",
        "print(\"선택된 피쳐수 :\", len(list_feature_final))\n",
        "feature_final"
      ]
    },
    {
      "cell_type": "code",
      "execution_count": null,
      "metadata": {
        "id": "nF0VjHfZCIXo"
      },
      "outputs": [],
      "source": []
    }
  ],
  "metadata": {
    "kernelspec": {
      "display_name": "Python 3",
      "language": "python",
      "name": "python3"
    },
    "language_info": {
      "codemirror_mode": {
        "name": "ipython",
        "version": 3
      },
      "file_extension": ".py",
      "mimetype": "text/x-python",
      "name": "python",
      "nbconvert_exporter": "python",
      "pygments_lexer": "ipython3",
      "version": "3.8.5"
    },
    "colab": {
      "provenance": []
    }
  },
  "nbformat": 4,
  "nbformat_minor": 0
}