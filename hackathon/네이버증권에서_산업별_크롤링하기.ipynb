{
  "cells": [
    {
      "cell_type": "markdown",
      "source": [
        "## 필요한 섹터 크롤링 하기(네이버 증권)"
      ],
      "metadata": {
        "id": "5z7mB-8K60zV"
      }
    },
    {
      "cell_type": "code",
      "execution_count": null,
      "metadata": {
        "id": "vvY0bEkB5VH4"
      },
      "outputs": [],
      "source": [
        "from tqdm import tqdm\n",
        "\n",
        "import requests\n",
        "from bs4 import BeautifulSoup as bs\n",
        "\n",
        "import pandas as pd\n",
        "\n",
        "def getSector(ticker):\n",
        "    root = 'https://navercomp.wisereport.co.kr/v2/company/c1010001.aspx?cmp_cd='\n",
        "\n",
        "    df = pd.DataFrame([], index=ticker, columns = ['SECTOR_KOSPI', 'SECTOR_WICS', 'EPS', 'BPS', 'PER', '업종PER', 'PBR', '현금배당수익률'])\n",
        "    for code in tqdm(ticker):\n",
        "        url = root + code\n",
        "        # print(url)\n",
        "\n",
        "        soup = bs(requests.get(url).text)\n",
        "\n",
        "        # kospi sector 찾기\n",
        "        td_list = soup.find_all('table',{'class' : 'cmp-table'})[0].find_all('td')\n",
        "        sector_data = td_list[0].find_all('dt', {'class':'line-left'})\n",
        "        for data in sector_data:\n",
        "            data_split = data.get_text().split(' : ')\n",
        "            if len(data_split)==2:\n",
        "                df.loc[code, 'SECTOR_'+data_split[0]] = data_split[1]\n",
        "\n",
        "        # 12월 결산 데이터\n",
        "        dt_list = td_list[2].find_all('dt')\n",
        "        for dt in dt_list[:-1]:\n",
        "            dt_split = dt.get_text().split()\n",
        "            if len(dt_split)>1:\n",
        "                df.loc[code,dt_split[0]] = dt_split[1]\n",
        "\n",
        "    return df"
      ]
    },
    {
      "cell_type": "code",
      "execution_count": null,
      "metadata": {
        "id": "QftiYuZL5VH6",
        "outputId": "abb58627-ed41-45d5-e93a-5623e66e5ec7"
      },
      "outputs": [
        {
          "data": {
            "text/plain": [
              "['095570', '006840', '027410', '282330', '138930']"
            ]
          },
          "execution_count": 4,
          "metadata": {},
          "output_type": "execute_result"
        }
      ],
      "source": [
        "from pykrx import stock\n",
        "\n",
        "kospi_code = stock.get_market_ticker_list(date='20231227', market='KOSPI')\n",
        "kospi_code[:5]"
      ]
    },
    {
      "cell_type": "code",
      "execution_count": null,
      "metadata": {
        "id": "d-HxXZRS5VH6"
      },
      "outputs": [],
      "source": [
        "kosdaq_code = stock.get_market_ticker_list(date = '20231227', market='KOSDAQ')"
      ]
    },
    {
      "cell_type": "code",
      "execution_count": null,
      "metadata": {
        "id": "sKG4ES4M5VH7",
        "outputId": "85a6fb31-ea8f-419e-f8e9-d28db4879c45"
      },
      "outputs": [
        {
          "name": "stderr",
          "output_type": "stream",
          "text": [
            "  0%|          | 0/4 [00:00<?, ?it/s]"
          ]
        },
        {
          "name": "stderr",
          "output_type": "stream",
          "text": [
            "100%|██████████| 4/4 [00:00<00:00,  5.96it/s]\n"
          ]
        },
        {
          "data": {
            "text/html": [
              "<div>\n",
              "<style scoped>\n",
              "    .dataframe tbody tr th:only-of-type {\n",
              "        vertical-align: middle;\n",
              "    }\n",
              "\n",
              "    .dataframe tbody tr th {\n",
              "        vertical-align: top;\n",
              "    }\n",
              "\n",
              "    .dataframe thead th {\n",
              "        text-align: right;\n",
              "    }\n",
              "</style>\n",
              "<table border=\"1\" class=\"dataframe\">\n",
              "  <thead>\n",
              "    <tr style=\"text-align: right;\">\n",
              "      <th></th>\n",
              "      <th>SECTOR_KOSPI</th>\n",
              "      <th>SECTOR_WICS</th>\n",
              "      <th>EPS</th>\n",
              "      <th>BPS</th>\n",
              "      <th>PER</th>\n",
              "      <th>업종PER</th>\n",
              "      <th>PBR</th>\n",
              "      <th>현금배당수익률</th>\n",
              "    </tr>\n",
              "  </thead>\n",
              "  <tbody>\n",
              "    <tr>\n",
              "      <th>032830</th>\n",
              "      <td>보험업</td>\n",
              "      <td>생명보험</td>\n",
              "      <td>12,499</td>\n",
              "      <td>238,297</td>\n",
              "      <td>5.49</td>\n",
              "      <td>4.93</td>\n",
              "      <td>0.29</td>\n",
              "      <td>4.37%</td>\n",
              "    </tr>\n",
              "    <tr>\n",
              "      <th>088350</th>\n",
              "      <td>보험업</td>\n",
              "      <td>생명보험</td>\n",
              "      <td>908</td>\n",
              "      <td>19,150</td>\n",
              "      <td>3.04</td>\n",
              "      <td>4.93</td>\n",
              "      <td>0.14</td>\n",
              "      <td>NaN</td>\n",
              "    </tr>\n",
              "    <tr>\n",
              "      <th>085620</th>\n",
              "      <td>보험업</td>\n",
              "      <td>생명보험</td>\n",
              "      <td>865</td>\n",
              "      <td>23,094</td>\n",
              "      <td>5.66</td>\n",
              "      <td>4.93</td>\n",
              "      <td>0.21</td>\n",
              "      <td>NaN</td>\n",
              "    </tr>\n",
              "    <tr>\n",
              "      <th>082640</th>\n",
              "      <td>보험업</td>\n",
              "      <td>생명보험</td>\n",
              "      <td>797</td>\n",
              "      <td>20,706</td>\n",
              "      <td>5.59</td>\n",
              "      <td>4.93</td>\n",
              "      <td>0.21</td>\n",
              "      <td>NaN</td>\n",
              "    </tr>\n",
              "  </tbody>\n",
              "</table>\n",
              "</div>"
            ],
            "text/plain": [
              "       SECTOR_KOSPI SECTOR_WICS     EPS      BPS   PER 업종PER   PBR 현금배당수익률\n",
              "032830          보험업        생명보험  12,499  238,297  5.49  4.93  0.29   4.37%\n",
              "088350          보험업        생명보험     908   19,150  3.04  4.93  0.14     NaN\n",
              "085620          보험업        생명보험     865   23,094  5.66  4.93  0.21     NaN\n",
              "082640          보험업        생명보험     797   20,706  5.59  4.93  0.21     NaN"
            ]
          },
          "execution_count": 6,
          "metadata": {},
          "output_type": "execute_result"
        }
      ],
      "source": [
        "getSector(['032830', '088350', '085620', '082640'])"
      ]
    },
    {
      "cell_type": "code",
      "execution_count": null,
      "metadata": {
        "id": "B2_o2ZlO5VH7",
        "outputId": "66b34e15-3a9e-43bf-d12f-c707a15828e1"
      },
      "outputs": [
        {
          "name": "stderr",
          "output_type": "stream",
          "text": [
            "100%|██████████| 953/953 [03:21<00:00,  4.74it/s]\n"
          ]
        }
      ],
      "source": [
        "df_sector = getSector(kospi_code[:])"
      ]
    },
    {
      "cell_type": "code",
      "execution_count": null,
      "metadata": {
        "id": "G0GrwhXa5VH7",
        "outputId": "accf5aa0-d012-41e8-82de-3457bba6b3aa"
      },
      "outputs": [
        {
          "data": {
            "text/html": [
              "<div>\n",
              "<style scoped>\n",
              "    .dataframe tbody tr th:only-of-type {\n",
              "        vertical-align: middle;\n",
              "    }\n",
              "\n",
              "    .dataframe tbody tr th {\n",
              "        vertical-align: top;\n",
              "    }\n",
              "\n",
              "    .dataframe thead th {\n",
              "        text-align: right;\n",
              "    }\n",
              "</style>\n",
              "<table border=\"1\" class=\"dataframe\">\n",
              "  <thead>\n",
              "    <tr style=\"text-align: right;\">\n",
              "      <th></th>\n",
              "      <th>SECTOR_KOSPI</th>\n",
              "      <th>SECTOR_WICS</th>\n",
              "      <th>EPS</th>\n",
              "      <th>BPS</th>\n",
              "      <th>PER</th>\n",
              "      <th>업종PER</th>\n",
              "      <th>PBR</th>\n",
              "      <th>현금배당수익률</th>\n",
              "    </tr>\n",
              "  </thead>\n",
              "  <tbody>\n",
              "    <tr>\n",
              "      <th>095570</th>\n",
              "      <td>서비스업</td>\n",
              "      <td>도로와철도운송</td>\n",
              "      <td>-351</td>\n",
              "      <td>8,694</td>\n",
              "      <td>N/A</td>\n",
              "      <td>13.71</td>\n",
              "      <td>0.56</td>\n",
              "      <td>5.50%</td>\n",
              "    </tr>\n",
              "    <tr>\n",
              "      <th>006840</th>\n",
              "      <td>기타금융업</td>\n",
              "      <td>화학</td>\n",
              "      <td>473</td>\n",
              "      <td>45,838</td>\n",
              "      <td>35.94</td>\n",
              "      <td>38.63</td>\n",
              "      <td>0.37</td>\n",
              "      <td>1.18%</td>\n",
              "    </tr>\n",
              "    <tr>\n",
              "      <th>027410</th>\n",
              "      <td>기타금융업</td>\n",
              "      <td>화학</td>\n",
              "      <td>582</td>\n",
              "      <td>17,204</td>\n",
              "      <td>6.52</td>\n",
              "      <td>38.63</td>\n",
              "      <td>0.22</td>\n",
              "      <td>2.90%</td>\n",
              "    </tr>\n",
              "    <tr>\n",
              "      <th>282330</th>\n",
              "      <td>유통업</td>\n",
              "      <td>백화점과일반상점</td>\n",
              "      <td>11,464</td>\n",
              "      <td>60,640</td>\n",
              "      <td>11.23</td>\n",
              "      <td>16.13</td>\n",
              "      <td>2.12</td>\n",
              "      <td>3.19%</td>\n",
              "    </tr>\n",
              "    <tr>\n",
              "      <th>138930</th>\n",
              "      <td>기타금융업</td>\n",
              "      <td>은행</td>\n",
              "      <td>2,163</td>\n",
              "      <td>31,588</td>\n",
              "      <td>3.27</td>\n",
              "      <td>4.53</td>\n",
              "      <td>0.22</td>\n",
              "      <td>8.83%</td>\n",
              "    </tr>\n",
              "    <tr>\n",
              "      <th>...</th>\n",
              "      <td>...</td>\n",
              "      <td>...</td>\n",
              "      <td>...</td>\n",
              "      <td>...</td>\n",
              "      <td>...</td>\n",
              "      <td>...</td>\n",
              "      <td>...</td>\n",
              "      <td>...</td>\n",
              "    </tr>\n",
              "    <tr>\n",
              "      <th>079980</th>\n",
              "      <td>화학</td>\n",
              "      <td>섬유,의류,신발,호화품</td>\n",
              "      <td>-2,413</td>\n",
              "      <td>10,188</td>\n",
              "      <td>N/A</td>\n",
              "      <td>7.97</td>\n",
              "      <td>0.40</td>\n",
              "      <td>NaN</td>\n",
              "    </tr>\n",
              "    <tr>\n",
              "      <th>005010</th>\n",
              "      <td>철강금속</td>\n",
              "      <td>철강</td>\n",
              "      <td>3,802</td>\n",
              "      <td>18,573</td>\n",
              "      <td>1.30</td>\n",
              "      <td>18.93</td>\n",
              "      <td>0.27</td>\n",
              "      <td>7.09%</td>\n",
              "    </tr>\n",
              "    <tr>\n",
              "      <th>000540</th>\n",
              "      <td>보험업</td>\n",
              "      <td>손해보험</td>\n",
              "      <td>3,289</td>\n",
              "      <td>21,807</td>\n",
              "      <td>0.92</td>\n",
              "      <td>4.65</td>\n",
              "      <td>0.14</td>\n",
              "      <td>NaN</td>\n",
              "    </tr>\n",
              "    <tr>\n",
              "      <th>000545</th>\n",
              "      <td>보험업</td>\n",
              "      <td>손해보험</td>\n",
              "      <td>3,289</td>\n",
              "      <td>21,807</td>\n",
              "      <td>0.92</td>\n",
              "      <td>4.65</td>\n",
              "      <td>0.14</td>\n",
              "      <td>NaN</td>\n",
              "    </tr>\n",
              "    <tr>\n",
              "      <th>003280</th>\n",
              "      <td>운수창고업</td>\n",
              "      <td>해운사</td>\n",
              "      <td>135</td>\n",
              "      <td>648</td>\n",
              "      <td>18.11</td>\n",
              "      <td>6.57</td>\n",
              "      <td>3.78</td>\n",
              "      <td>NaN</td>\n",
              "    </tr>\n",
              "  </tbody>\n",
              "</table>\n",
              "<p>953 rows × 8 columns</p>\n",
              "</div>"
            ],
            "text/plain": [
              "       SECTOR_KOSPI   SECTOR_WICS     EPS     BPS    PER  업종PER   PBR 현금배당수익률\n",
              "095570         서비스업       도로와철도운송    -351   8,694    N/A  13.71  0.56   5.50%\n",
              "006840        기타금융업            화학     473  45,838  35.94  38.63  0.37   1.18%\n",
              "027410        기타금융업            화학     582  17,204   6.52  38.63  0.22   2.90%\n",
              "282330          유통업      백화점과일반상점  11,464  60,640  11.23  16.13  2.12   3.19%\n",
              "138930        기타금융업            은행   2,163  31,588   3.27   4.53  0.22   8.83%\n",
              "...             ...           ...     ...     ...    ...    ...   ...     ...\n",
              "079980           화학  섬유,의류,신발,호화품  -2,413  10,188    N/A   7.97  0.40     NaN\n",
              "005010         철강금속            철강   3,802  18,573   1.30  18.93  0.27   7.09%\n",
              "000540          보험업          손해보험   3,289  21,807   0.92   4.65  0.14     NaN\n",
              "000545          보험업          손해보험   3,289  21,807   0.92   4.65  0.14     NaN\n",
              "003280        운수창고업           해운사     135     648  18.11   6.57  3.78     NaN\n",
              "\n",
              "[953 rows x 8 columns]"
            ]
          },
          "execution_count": 8,
          "metadata": {},
          "output_type": "execute_result"
        }
      ],
      "source": [
        "df_sector"
      ]
    },
    {
      "cell_type": "code",
      "execution_count": null,
      "metadata": {
        "id": "yAEcCgUD5VH8"
      },
      "outputs": [],
      "source": [
        "KOSPI_SECTOR=df_sector[['SECTOR_KOSPI', 'SECTOR_WICS']]"
      ]
    },
    {
      "cell_type": "code",
      "execution_count": null,
      "metadata": {
        "id": "WMRTY8j_5VH8"
      },
      "outputs": [],
      "source": [
        "KOSPI_SECTOR= KOSPI_SECTOR.reset_index()"
      ]
    },
    {
      "cell_type": "code",
      "execution_count": null,
      "metadata": {
        "id": "b3N0ejd05VH9",
        "outputId": "70a17f8f-74ce-43f2-c900-079864258f96"
      },
      "outputs": [
        {
          "name": "stderr",
          "output_type": "stream",
          "text": [
            "  0%|          | 1/1705 [00:00<06:10,  4.60it/s]"
          ]
        },
        {
          "name": "stderr",
          "output_type": "stream",
          "text": [
            "100%|██████████| 1705/1705 [06:10<00:00,  4.60it/s]\n"
          ]
        }
      ],
      "source": [
        "kosdaq_sector = getSector(kosdaq_code[:])"
      ]
    },
    {
      "cell_type": "code",
      "execution_count": null,
      "metadata": {
        "id": "V5VbSAA25VH9"
      },
      "outputs": [],
      "source": []
    },
    {
      "cell_type": "code",
      "execution_count": null,
      "metadata": {
        "id": "K137uJz75VH9"
      },
      "outputs": [],
      "source": [
        "KOSDAQ_SECTOR = kosdaq_sector[['SECTOR_KOSDAQ', 'SECTOR_WICS']]"
      ]
    },
    {
      "cell_type": "code",
      "execution_count": null,
      "metadata": {
        "id": "1VgucNV65VH9"
      },
      "outputs": [],
      "source": [
        "KOSDAQ_SECTOR= KOSDAQ_SECTOR.reset_index()"
      ]
    },
    {
      "cell_type": "code",
      "execution_count": null,
      "metadata": {
        "id": "AuBBeNQq5VH-",
        "outputId": "f1119f2b-a362-44b3-994f-83da019f07ca"
      },
      "outputs": [
        {
          "data": {
            "text/html": [
              "<div>\n",
              "<style scoped>\n",
              "    .dataframe tbody tr th:only-of-type {\n",
              "        vertical-align: middle;\n",
              "    }\n",
              "\n",
              "    .dataframe tbody tr th {\n",
              "        vertical-align: top;\n",
              "    }\n",
              "\n",
              "    .dataframe thead th {\n",
              "        text-align: right;\n",
              "    }\n",
              "</style>\n",
              "<table border=\"1\" class=\"dataframe\">\n",
              "  <thead>\n",
              "    <tr style=\"text-align: right;\">\n",
              "      <th></th>\n",
              "      <th>index</th>\n",
              "      <th>SECTOR_KOSDAQ</th>\n",
              "      <th>SECTOR_WICS</th>\n",
              "    </tr>\n",
              "  </thead>\n",
              "  <tbody>\n",
              "    <tr>\n",
              "      <th>0</th>\n",
              "      <td>060310</td>\n",
              "      <td>기계,장비</td>\n",
              "      <td>기계</td>\n",
              "    </tr>\n",
              "    <tr>\n",
              "      <th>1</th>\n",
              "      <td>054620</td>\n",
              "      <td>금융</td>\n",
              "      <td>IT서비스</td>\n",
              "    </tr>\n",
              "    <tr>\n",
              "      <th>2</th>\n",
              "      <td>265520</td>\n",
              "      <td>반도체</td>\n",
              "      <td>디스플레이장비및부품</td>\n",
              "    </tr>\n",
              "    <tr>\n",
              "      <th>3</th>\n",
              "      <td>211270</td>\n",
              "      <td>통신장비</td>\n",
              "      <td>통신장비</td>\n",
              "    </tr>\n",
              "    <tr>\n",
              "      <th>4</th>\n",
              "      <td>126600</td>\n",
              "      <td>화학</td>\n",
              "      <td>자동차부품</td>\n",
              "    </tr>\n",
              "    <tr>\n",
              "      <th>...</th>\n",
              "      <td>...</td>\n",
              "      <td>...</td>\n",
              "      <td>...</td>\n",
              "    </tr>\n",
              "    <tr>\n",
              "      <th>1700</th>\n",
              "      <td>024060</td>\n",
              "      <td>도매</td>\n",
              "      <td>석유와가스</td>\n",
              "    </tr>\n",
              "    <tr>\n",
              "      <th>1701</th>\n",
              "      <td>010240</td>\n",
              "      <td>기계,장비</td>\n",
              "      <td>기계</td>\n",
              "    </tr>\n",
              "    <tr>\n",
              "      <th>1702</th>\n",
              "      <td>189980</td>\n",
              "      <td>음식료,담배</td>\n",
              "      <td>음료</td>\n",
              "    </tr>\n",
              "    <tr>\n",
              "      <th>1703</th>\n",
              "      <td>037440</td>\n",
              "      <td>전문기술</td>\n",
              "      <td>건설</td>\n",
              "    </tr>\n",
              "    <tr>\n",
              "      <th>1704</th>\n",
              "      <td>238490</td>\n",
              "      <td>반도체</td>\n",
              "      <td>디스플레이장비및부품</td>\n",
              "    </tr>\n",
              "  </tbody>\n",
              "</table>\n",
              "<p>1705 rows × 3 columns</p>\n",
              "</div>"
            ],
            "text/plain": [
              "       index SECTOR_KOSDAQ SECTOR_WICS\n",
              "0     060310         기계,장비          기계\n",
              "1     054620            금융       IT서비스\n",
              "2     265520           반도체  디스플레이장비및부품\n",
              "3     211270          통신장비        통신장비\n",
              "4     126600            화학       자동차부품\n",
              "...      ...           ...         ...\n",
              "1700  024060            도매       석유와가스\n",
              "1701  010240         기계,장비          기계\n",
              "1702  189980        음식료,담배          음료\n",
              "1703  037440          전문기술          건설\n",
              "1704  238490           반도체  디스플레이장비및부품\n",
              "\n",
              "[1705 rows x 3 columns]"
            ]
          },
          "execution_count": 15,
          "metadata": {},
          "output_type": "execute_result"
        }
      ],
      "source": [
        "KOSDAQ_SECTOR"
      ]
    },
    {
      "cell_type": "code",
      "execution_count": null,
      "metadata": {
        "id": "Eo875oqU5VH-"
      },
      "outputs": [],
      "source": [
        "df = pd.concat([KOSPI_SECTOR, KOSDAQ_SECTOR], axis = 0)"
      ]
    },
    {
      "cell_type": "code",
      "execution_count": null,
      "metadata": {
        "id": "LUaxcZoz5VH-"
      },
      "outputs": [],
      "source": [
        "df.columns = ['ticker', 'SECTOR_KOSPI', 'SECTOR_WICS', 'SECTOR_KOSDAQ']"
      ]
    },
    {
      "cell_type": "code",
      "execution_count": null,
      "metadata": {
        "id": "RWFGzduG5VH-",
        "outputId": "01b991a6-5ba0-44f1-af08-6e9b7fe7fdfc"
      },
      "outputs": [
        {
          "data": {
            "text/html": [
              "<div>\n",
              "<style scoped>\n",
              "    .dataframe tbody tr th:only-of-type {\n",
              "        vertical-align: middle;\n",
              "    }\n",
              "\n",
              "    .dataframe tbody tr th {\n",
              "        vertical-align: top;\n",
              "    }\n",
              "\n",
              "    .dataframe thead th {\n",
              "        text-align: right;\n",
              "    }\n",
              "</style>\n",
              "<table border=\"1\" class=\"dataframe\">\n",
              "  <thead>\n",
              "    <tr style=\"text-align: right;\">\n",
              "      <th></th>\n",
              "      <th>ticker</th>\n",
              "      <th>SECTOR_KOSPI</th>\n",
              "      <th>SECTOR_WICS</th>\n",
              "      <th>SECTOR_KOSDAQ</th>\n",
              "    </tr>\n",
              "  </thead>\n",
              "  <tbody>\n",
              "    <tr>\n",
              "      <th>0</th>\n",
              "      <td>095570</td>\n",
              "      <td>서비스업</td>\n",
              "      <td>도로와철도운송</td>\n",
              "      <td>NaN</td>\n",
              "    </tr>\n",
              "    <tr>\n",
              "      <th>1</th>\n",
              "      <td>006840</td>\n",
              "      <td>기타금융업</td>\n",
              "      <td>화학</td>\n",
              "      <td>NaN</td>\n",
              "    </tr>\n",
              "    <tr>\n",
              "      <th>2</th>\n",
              "      <td>027410</td>\n",
              "      <td>기타금융업</td>\n",
              "      <td>화학</td>\n",
              "      <td>NaN</td>\n",
              "    </tr>\n",
              "    <tr>\n",
              "      <th>3</th>\n",
              "      <td>282330</td>\n",
              "      <td>유통업</td>\n",
              "      <td>백화점과일반상점</td>\n",
              "      <td>NaN</td>\n",
              "    </tr>\n",
              "    <tr>\n",
              "      <th>4</th>\n",
              "      <td>138930</td>\n",
              "      <td>기타금융업</td>\n",
              "      <td>은행</td>\n",
              "      <td>NaN</td>\n",
              "    </tr>\n",
              "    <tr>\n",
              "      <th>...</th>\n",
              "      <td>...</td>\n",
              "      <td>...</td>\n",
              "      <td>...</td>\n",
              "      <td>...</td>\n",
              "    </tr>\n",
              "    <tr>\n",
              "      <th>1700</th>\n",
              "      <td>024060</td>\n",
              "      <td>NaN</td>\n",
              "      <td>석유와가스</td>\n",
              "      <td>도매</td>\n",
              "    </tr>\n",
              "    <tr>\n",
              "      <th>1701</th>\n",
              "      <td>010240</td>\n",
              "      <td>NaN</td>\n",
              "      <td>기계</td>\n",
              "      <td>기계,장비</td>\n",
              "    </tr>\n",
              "    <tr>\n",
              "      <th>1702</th>\n",
              "      <td>189980</td>\n",
              "      <td>NaN</td>\n",
              "      <td>음료</td>\n",
              "      <td>음식료,담배</td>\n",
              "    </tr>\n",
              "    <tr>\n",
              "      <th>1703</th>\n",
              "      <td>037440</td>\n",
              "      <td>NaN</td>\n",
              "      <td>건설</td>\n",
              "      <td>전문기술</td>\n",
              "    </tr>\n",
              "    <tr>\n",
              "      <th>1704</th>\n",
              "      <td>238490</td>\n",
              "      <td>NaN</td>\n",
              "      <td>디스플레이장비및부품</td>\n",
              "      <td>반도체</td>\n",
              "    </tr>\n",
              "  </tbody>\n",
              "</table>\n",
              "<p>2658 rows × 4 columns</p>\n",
              "</div>"
            ],
            "text/plain": [
              "      ticker SECTOR_KOSPI SECTOR_WICS SECTOR_KOSDAQ\n",
              "0     095570         서비스업     도로와철도운송           NaN\n",
              "1     006840        기타금융업          화학           NaN\n",
              "2     027410        기타금융업          화학           NaN\n",
              "3     282330          유통업    백화점과일반상점           NaN\n",
              "4     138930        기타금융업          은행           NaN\n",
              "...      ...          ...         ...           ...\n",
              "1700  024060          NaN       석유와가스            도매\n",
              "1701  010240          NaN          기계         기계,장비\n",
              "1702  189980          NaN          음료        음식료,담배\n",
              "1703  037440          NaN          건설          전문기술\n",
              "1704  238490          NaN  디스플레이장비및부품           반도체\n",
              "\n",
              "[2658 rows x 4 columns]"
            ]
          },
          "execution_count": 18,
          "metadata": {},
          "output_type": "execute_result"
        }
      ],
      "source": [
        "df"
      ]
    },
    {
      "cell_type": "markdown",
      "source": [
        "코스닥도 같은 방법으로 진행"
      ],
      "metadata": {
        "id": "_WwFIJLd7XRU"
      }
    },
    {
      "cell_type": "code",
      "execution_count": null,
      "metadata": {
        "id": "XCfg3eOa5VIA"
      },
      "outputs": [],
      "source": []
    }
  ],
  "metadata": {
    "kernelspec": {
      "display_name": "Python 3",
      "language": "python",
      "name": "python3"
    },
    "language_info": {
      "codemirror_mode": {
        "name": "ipython",
        "version": 3
      },
      "file_extension": ".py",
      "mimetype": "text/x-python",
      "name": "python",
      "nbconvert_exporter": "python",
      "pygments_lexer": "ipython3",
      "version": "3.8.5"
    },
    "colab": {
      "provenance": []
    }
  },
  "nbformat": 4,
  "nbformat_minor": 0
}